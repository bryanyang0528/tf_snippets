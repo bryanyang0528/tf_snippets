{
 "cells": [
  {
   "cell_type": "code",
   "execution_count": 1,
   "metadata": {},
   "outputs": [],
   "source": [
    "import tensorflow as tf\n",
    "from tensorflow.python.training import optimizer\n",
    "from tensorflow.python.framework import ops\n",
    "from tensorflow.python.training import training_ops\n",
    "from tensorflow.python.ops import math_ops"
   ]
  },
  {
   "cell_type": "code",
   "execution_count": 2,
   "metadata": {},
   "outputs": [],
   "source": [
    "class MyOptimizer(optimizer.Optimizer):\n",
    "    \"\"\"A gradient descent optimizer which always use learning rate 1.0\n",
    "    \"\"\"\n",
    "    \n",
    "    def __init__(self, use_locking=True, name=\"MyOptimizer\"):\n",
    "        super(MyOptimizer, self).__init__(use_locking, name)\n",
    "        self._learning_rate = 1.0\n",
    "        \n",
    "    def _prepare(self):\n",
    "        self._learning_rate_tensor = ops.convert_to_tensor(self._learning_rate,\n",
    "                                                           name=\"fuckup_learning_rate\")\n",
    "    \n",
    "    def _apply_dense(self, grad, var):\n",
    "        print(\"MyOptimizer._apply_dense!\")\n",
    "        return training_ops.apply_gradient_descent(var, \n",
    "                                                   math_ops.cast(self._learning_rate_tensor, var.dtype.base_dtype),\n",
    "                                                   grad,\n",
    "                                                   use_locking=self._use_locking)\n",
    "    _apply_dense.__doc__ = optimizer.Optimizer._apply_dense.__doc__"
   ]
  },
  {
   "cell_type": "markdown",
   "metadata": {},
   "source": [
    "## `Optimizer`\n",
    "\n",
    "```\n",
    "Optimizer.minimize`--> \n",
    "  Optimizer.compute_gradients`--> \n",
    "    Optimizer.apply_gradients`\n",
    "```\n",
    "\n",
    "In `Optimizer.apply_gradients`\n",
    "1. it will call `self._prepare` method.\n",
    "2. get `grad`, `var` and `processor (_RefVariableProcessor)` defined in `optimizer.py`\n",
    "3. `processor` will use `processor.update_op` method to add update operation, which in turn call `optimizer`'s `_apply_dense` (if `var` are `Tensor`s) or `_apply_sparse_duplicate_indices` (if `var` are `IndexedSlices`)."
   ]
  },
  {
   "cell_type": "code",
   "execution_count": 3,
   "metadata": {},
   "outputs": [
    {
     "name": "stdout",
     "output_type": "stream",
     "text": [
      "Add ops to apply dense gradients to `var`.\n",
      "\n",
      "    Args:\n",
      "      grad: A `Tensor`.\n",
      "      var: A `Variable` object.\n",
      "\n",
      "    Return:\n",
      "      An `Operation`.\n",
      "    \n"
     ]
    }
   ],
   "source": [
    "print(MyOptimizer._apply_dense.__doc__)"
   ]
  },
  {
   "cell_type": "code",
   "execution_count": 4,
   "metadata": {},
   "outputs": [
    {
     "name": "stdout",
     "output_type": "stream",
     "text": [
      "MyOptimizer._apply_dense!\n"
     ]
    }
   ],
   "source": [
    "graph = tf.Graph()\n",
    "with graph.as_default():\n",
    "    x = tf.Variable(0.5, dtype=tf.float32)\n",
    "    loss = tf.abs(x)\n",
    "    train_op = MyOptimizer().minimize(loss)"
   ]
  },
  {
   "cell_type": "code",
   "execution_count": 5,
   "metadata": {},
   "outputs": [
    {
     "name": "stdout",
     "output_type": "stream",
     "text": [
      "-0.5\n",
      "0.5\n",
      "-0.5\n"
     ]
    }
   ],
   "source": [
    "with tf.Session(graph=graph) as sess:\n",
    "    tf.global_variables_initializer().run()\n",
    "    for _ in range(3):\n",
    "        sess.run(train_op)\n",
    "        print(x.eval())"
   ]
  },
  {
   "cell_type": "code",
   "execution_count": null,
   "metadata": {
    "collapsed": true
   },
   "outputs": [],
   "source": []
  }
 ],
 "metadata": {
  "kernelspec": {
   "display_name": "Python 3",
   "language": "python",
   "name": "python3"
  },
  "language_info": {
   "codemirror_mode": {
    "name": "ipython",
    "version": 3
   },
   "file_extension": ".py",
   "mimetype": "text/x-python",
   "name": "python",
   "nbconvert_exporter": "python",
   "pygments_lexer": "ipython3",
   "version": "3.6.1"
  }
 },
 "nbformat": 4,
 "nbformat_minor": 2
}
