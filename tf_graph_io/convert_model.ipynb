{
 "cells": [
  {
   "cell_type": "markdown",
   "metadata": {},
   "source": [
    "I'd like to train VGG network as example, but it just ran too slow on my computer.\n",
    "\n",
    "I have only mac, so I can only run tensorflow with CPU :(\n",
    "\n",
    "So, I refer to our good old friend, handwriting recognition with MNIST.\n",
    "\n",
    "Bear with me, plz. I just want to show you a full process converting a graph to a single reusable file."
   ]
  },
  {
   "cell_type": "code",
   "execution_count": 1,
   "metadata": {
    "collapsed": true
   },
   "outputs": [],
   "source": [
    "from math import sqrt\n",
    "import numpy as np\n",
    "import tensorflow as tf\n",
    "from tensorflow.examples.tutorials.mnist.input_data import read_data_sets\n",
    "\n",
    "%matplotlib inline\n",
    "import matplotlib.pyplot as plt"
   ]
  },
  {
   "cell_type": "code",
   "execution_count": 2,
   "metadata": {
    "collapsed": true
   },
   "outputs": [],
   "source": [
    "# helper function\n",
    "def accuracy(y, y_):\n",
    "    return (y == y_).mean()"
   ]
  },
  {
   "cell_type": "code",
   "execution_count": 3,
   "metadata": {},
   "outputs": [
    {
     "name": "stdout",
     "output_type": "stream",
     "text": [
      "Extracting mnist_data/train-images-idx3-ubyte.gz\n",
      "Extracting mnist_data/train-labels-idx1-ubyte.gz\n",
      "Extracting mnist_data/t10k-images-idx3-ubyte.gz\n",
      "Extracting mnist_data/t10k-labels-idx1-ubyte.gz\n"
     ]
    }
   ],
   "source": [
    "mnist = read_data_sets(\"mnist_data\", one_hot=True)"
   ]
  },
  {
   "cell_type": "code",
   "execution_count": 4,
   "metadata": {
    "collapsed": true
   },
   "outputs": [],
   "source": [
    "# build a trainable graph\n",
    "train_graph = tf.Graph()\n",
    "hidden_shape = [100, 100]\n",
    "learning_rate = 0.08\n",
    "\n",
    "with train_graph.as_default():\n",
    "    with tf.name_scope(\"input\"):\n",
    "        image_batch = tf.placeholder(tf.float32, \n",
    "                                     shape=[None, 784],\n",
    "                                     name=\"image_batch\")\n",
    "    layer_shapes = [784] + hidden_shape + [10]\n",
    "    last_layer = image_batch\n",
    "    with tf.name_scope(\"hidden\"):\n",
    "        for in_shape, out_shape in zip(layer_shapes[:-1], layer_shapes[1:]):\n",
    "            W = tf.Variable(np.random.randn(in_shape, out_shape),\n",
    "                            dtype=tf.float32,\n",
    "                            name=\"weight\")\n",
    "            bias = tf.Variable(np.random.randn(out_shape),\n",
    "                               dtype=tf.float32,\n",
    "                               name=\"bias\")\n",
    "            zscore = tf.matmul(last_layer, W) + bias\n",
    "            last_layer = tf.nn.sigmoid(zscore)\n",
    "    \n",
    "    with tf.name_scope(\"output\"):\n",
    "        prob = tf.nn.softmax(zscore, \n",
    "                             name=\"probability\")\n",
    "        predict = tf.arg_max(prob, \n",
    "                             1, \n",
    "                             name=\"prediction\")\n",
    "        target = tf.placeholder(tf.float32,\n",
    "                                shape=[None, 10],\n",
    "                                name=\"target\")\n",
    "    loss = -tf.reduce_mean(target*tf.log(prob))\n",
    "    train_op = tf.train.AdagradOptimizer(learning_rate).minimize(loss)\n",
    "    # when saver is constructed, it will colloect all savable variables in default graph\n",
    "    saver = tf.train.Saver()"
   ]
  },
  {
   "cell_type": "code",
   "execution_count": 5,
   "metadata": {},
   "outputs": [
    {
     "name": "stdout",
     "output_type": "stream",
     "text": [
      "Initialized\n",
      "Iteration 1000: 0.1344 59.35%\n",
      "Iteration 2000: 0.0955 70.11%\n",
      "Iteration 3000: 0.0692 75.14%\n",
      "Iteration 4000: 0.0752 77.97%\n",
      "Iteration 5000: 0.0553 79.94%\n",
      "Iteration 6000: 0.0496 81.28%\n",
      "Iteration 7000: 0.0562 82.40%\n",
      "Iteration 8000: 0.0525 83.35%\n",
      "Iteration 9000: 0.0494 84.10%\n",
      "Iteration 10000: 0.0614 84.86%\n",
      "Iteration 11000: 0.0408 85.26%\n",
      "Iteration 12000: 0.0368 85.72%\n",
      "Iteration 13000: 0.0458 86.13%\n",
      "Iteration 14000: 0.0443 86.49%\n",
      "Iteration 15000: 0.0456 86.81%\n",
      "Iteration 16000: 0.0370 87.03%\n",
      "Iteration 17000: 0.0425 87.46%\n",
      "Iteration 18000: 0.0453 87.59%\n",
      "Iteration 19000: 0.0447 87.94%\n",
      "Iteration 20000: 0.0420 88.17%\n"
     ]
    }
   ],
   "source": [
    "# Training and save\n",
    "num_iters = 20000\n",
    "batch_size = 200\n",
    "\n",
    "with tf.Session(graph=train_graph) as sess:\n",
    "    tf.global_variables_initializer().run()\n",
    "    print(\"Initialized\")\n",
    "    \n",
    "    for step in range(num_iters):\n",
    "        images, labels = mnist.train.next_batch(batch_size)\n",
    "        feed_dict = { image_batch: images,\n",
    "                      target: labels }\n",
    "        l, _ = sess.run([loss, train_op], feed_dict=feed_dict)\n",
    "        \n",
    "        if (step+1) % 1000 == 0:\n",
    "            pred = sess.run(predict, feed_dict={image_batch:mnist.test.images})\n",
    "            acc = accuracy(pred, np.argmax(mnist.test.labels, axis=1))\n",
    "            print(\"Iteration {}: {:.4f} {:.2f}%\".format(step+1, l, acc*100))\n",
    "    \n",
    "    saver.save(sess, save_path=\"model/mnist_example.chkp\", global_step=step)"
   ]
  },
  {
   "cell_type": "markdown",
   "metadata": {},
   "source": [
    "Looking good enough, ready to save the graph"
   ]
  },
  {
   "cell_type": "code",
   "execution_count": 6,
   "metadata": {},
   "outputs": [
    {
     "name": "stdout",
     "output_type": "stream",
     "text": [
      "checkpoint\r\n",
      "mnist_example.chkp-19999.data-00000-of-00001\r\n",
      "mnist_example.chkp-19999.index\r\n",
      "mnist_example.chkp-19999.meta\r\n"
     ]
    }
   ],
   "source": [
    "# saved data\n",
    "!ls model/"
   ]
  },
  {
   "cell_type": "code",
   "execution_count": 7,
   "metadata": {
    "collapsed": true
   },
   "outputs": [],
   "source": [
    "# import the graph_util\n",
    "# We'll use it to convert all variables in graph to constants\n",
    "from tensorflow.python.framework import graph_util"
   ]
  },
  {
   "cell_type": "code",
   "execution_count": 8,
   "metadata": {},
   "outputs": [
    {
     "data": {
      "text/plain": [
       "'model/mnist_example.chkp-19999'"
      ]
     },
     "execution_count": 8,
     "metadata": {},
     "output_type": "execute_result"
    }
   ],
   "source": [
    "# A CheckpointState object from tensorflow.python.training.checkpoint_state_pb2\n",
    "# Yes, it's produced by protobuf.\n",
    "checkpoint = tf.train.get_checkpoint_state(\"model/\")\n",
    "checkpoint.model_checkpoint_path"
   ]
  },
  {
   "cell_type": "code",
   "execution_count": 9,
   "metadata": {},
   "outputs": [
    {
     "data": {
      "text/plain": [
       "'model/mnist_example.chkp-19999.meta'"
      ]
     },
     "execution_count": 9,
     "metadata": {},
     "output_type": "execute_result"
    }
   ],
   "source": [
    "# meta file contains the meta data of the saved session\n",
    "meta_file_path = checkpoint.model_checkpoint_path+\".meta\"\n",
    "meta_file_path"
   ]
  },
  {
   "cell_type": "code",
   "execution_count": 10,
   "metadata": {},
   "outputs": [
    {
     "name": "stdout",
     "output_type": "stream",
     "text": [
      "INFO:tensorflow:Restoring parameters from model/mnist_example.chkp-19999\n",
      "INFO:tensorflow:Froze 6 variables.\n",
      "Converted 6 variables to const ops.\n"
     ]
    }
   ],
   "source": [
    "# restore the session with restored saver\n",
    "# convert graph to \"freezed\" graph\n",
    "# Note that you need to specify the layers you want to output, \n",
    "# tensorflow will extract a subgraph which involves the layers you want and freeze it.\n",
    "restore_graph = tf.Graph()\n",
    "with restore_graph.as_default():\n",
    "    # reconstruct graph\n",
    "    saver = tf.train.import_meta_graph(meta_file_path, clear_devices=True)\n",
    "    restore_graph_def = restore_graph.as_graph_def() # get graph_def of the reconstructed graph\n",
    "with tf.Session(graph=restore_graph) as sess:\n",
    "    saver.restore(sess, checkpoint.model_checkpoint_path)\n",
    "    # convert variables to constants\n",
    "    # this step is necessary since otherwise you have to initialize the variables later\n",
    "    # in the restored graph or those variables will remain uninitialized.\n",
    "    out_graph_def = graph_util.convert_variables_to_constants(sess,\n",
    "                                                              restore_graph_def,\n",
    "                                                              [predict.op.name])"
   ]
  },
  {
   "cell_type": "code",
   "execution_count": 11,
   "metadata": {
    "collapsed": true
   },
   "outputs": [],
   "source": [
    "# write graph to disk just like what you will do with any protobuf object\n",
    "with tf.gfile.GFile(\"my_mnist.pb\", \"wb\") as fid:\n",
    "    fid.write(out_graph_def.SerializeToString())"
   ]
  },
  {
   "cell_type": "code",
   "execution_count": 12,
   "metadata": {
    "collapsed": true
   },
   "outputs": [],
   "source": [
    "from serialization_utils import chkp_to_freeze_graph"
   ]
  },
  {
   "cell_type": "code",
   "execution_count": 13,
   "metadata": {},
   "outputs": [
    {
     "name": "stdout",
     "output_type": "stream",
     "text": [
      "INFO:tensorflow:Restoring parameters from model/mnist_example.chkp-19999\n",
      "INFO:tensorflow:Froze 6 variables.\n",
      "Converted 6 variables to const ops.\n"
     ]
    }
   ],
   "source": [
    "freeze_def = chkp_to_freeze_graph(\"model/mnist_example.chkp-19999\",\n",
    "                                  [predict.op.name],\n",
    "                                  True,\n",
    "                                  \"mnist.pb\")"
   ]
  },
  {
   "cell_type": "code",
   "execution_count": 14,
   "metadata": {},
   "outputs": [
    {
     "name": "stdout",
     "output_type": "stream",
     "text": [
      "input/image_batch Placeholder\n",
      "shape {\n",
      "  dim {\n",
      "    size: -1\n",
      "  }\n",
      "  dim {\n",
      "    size: 784\n",
      "  }\n",
      "}\n",
      "\n",
      "hidden/weight Const\n",
      "\n",
      "hidden/weight/read Identity\n",
      "\n",
      "hidden/bias Const\n",
      "\n",
      "hidden/bias/read Identity\n",
      "\n",
      "hidden/MatMul MatMul\n",
      "\n",
      "hidden/add Add\n",
      "\n",
      "hidden/Sigmoid Sigmoid\n",
      "\n",
      "hidden/weight_1 Const\n",
      "\n",
      "hidden/weight_1/read Identity\n",
      "\n",
      "hidden/bias_1 Const\n",
      "\n",
      "hidden/bias_1/read Identity\n",
      "\n",
      "hidden/MatMul_1 MatMul\n",
      "\n",
      "hidden/add_1 Add\n",
      "\n",
      "hidden/Sigmoid_1 Sigmoid\n",
      "\n",
      "hidden/weight_2 Const\n",
      "\n",
      "hidden/weight_2/read Identity\n",
      "\n",
      "hidden/bias_2 Const\n",
      "\n",
      "hidden/bias_2/read Identity\n",
      "\n",
      "hidden/MatMul_2 MatMul\n",
      "\n",
      "hidden/add_2 Add\n",
      "\n",
      "output/probability Softmax\n",
      "\n",
      "output/prediction/dimension Const\n",
      "\n",
      "output/prediction ArgMax\n",
      "\n"
     ]
    }
   ],
   "source": [
    "for node in freeze_def.node:\n",
    "    print(node.name, node.op)\n",
    "    if node.attr[\"shape\"]:\n",
    "        print(node.attr[\"shape\"])"
   ]
  },
  {
   "cell_type": "markdown",
   "metadata": {},
   "source": [
    "------\n",
    "\n",
    "Testing time!"
   ]
  },
  {
   "cell_type": "code",
   "execution_count": 15,
   "metadata": {
    "collapsed": true
   },
   "outputs": [],
   "source": [
    "graph = tf.Graph()\n",
    "graph_def = graph.as_graph_def()"
   ]
  },
  {
   "cell_type": "code",
   "execution_count": 16,
   "metadata": {
    "collapsed": true
   },
   "outputs": [],
   "source": [
    "with tf.gfile.GFile(\"mnist.pb\", \"rb\") as rf:\n",
    "    graph_def.ParseFromString(rf.read())\n",
    "with graph.as_default():\n",
    "    tf.import_graph_def(graph_def, name=\"\")"
   ]
  },
  {
   "cell_type": "code",
   "execution_count": 17,
   "metadata": {
    "collapsed": true
   },
   "outputs": [],
   "source": [
    "images_tensor = graph.get_tensor_by_name(\"input/image_batch:0\")\n",
    "predict_tensor = graph.get_tensor_by_name(\"output/prediction:0\")"
   ]
  },
  {
   "cell_type": "code",
   "execution_count": 18,
   "metadata": {},
   "outputs": [
    {
     "name": "stdout",
     "output_type": "stream",
     "text": [
      "88.17\n"
     ]
    }
   ],
   "source": [
    "with tf.Session(graph=graph) as sess:\n",
    "#     tf.global_variables_initializer().run()\n",
    "    pred = sess.run(predict_tensor, \n",
    "                    feed_dict={images_tensor:mnist.test.images})\n",
    "    print(accuracy(np.argmax(mnist.test.labels, axis=1), pred)*100)"
   ]
  },
  {
   "cell_type": "code",
   "execution_count": null,
   "metadata": {
    "collapsed": true
   },
   "outputs": [],
   "source": []
  }
 ],
 "metadata": {
  "kernelspec": {
   "display_name": "Python 3",
   "language": "python",
   "name": "python3"
  },
  "language_info": {
   "codemirror_mode": {
    "name": "ipython",
    "version": 3
   },
   "file_extension": ".py",
   "mimetype": "text/x-python",
   "name": "python",
   "nbconvert_exporter": "python",
   "pygments_lexer": "ipython3",
   "version": "3.6.2"
  }
 },
 "nbformat": 4,
 "nbformat_minor": 2
}
