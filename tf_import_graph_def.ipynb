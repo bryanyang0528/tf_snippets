{
 "cells": [
  {
   "cell_type": "code",
   "execution_count": 4,
   "metadata": {
    "collapsed": true
   },
   "outputs": [],
   "source": [
    "from __future__ import print_function\n",
    "import tensorflow as tf"
   ]
  },
  {
   "cell_type": "code",
   "execution_count": 2,
   "metadata": {
    "collapsed": true
   },
   "outputs": [],
   "source": [
    "# 1. crate a graph\n",
    "graph = tf.Graph()\n",
    "with graph.as_default():\n",
    "    a = tf.constant(1)\n",
    "    b = tf.constant(2)\n",
    "    c = a+b"
   ]
  },
  {
   "cell_type": "code",
   "execution_count": 6,
   "metadata": {},
   "outputs": [
    {
     "name": "stdout",
     "output_type": "stream",
     "text": [
      "3\n"
     ]
    }
   ],
   "source": [
    "with tf.Session(graph=graph) as sess:\n",
    "    print(sess.run(c)) # 3, nice"
   ]
  },
  {
   "cell_type": "code",
   "execution_count": 3,
   "metadata": {
    "collapsed": true
   },
   "outputs": [],
   "source": [
    "# 2. Serialize it with protocol buffer\n",
    "graph_def = graph.as_graph_def()\n",
    "with open(\"tf_import_graph_def.pb\", \"wb\") as wf:\n",
    "    wf.write(graph_def.SerializeToString())"
   ]
  },
  {
   "cell_type": "code",
   "execution_count": 7,
   "metadata": {
    "collapsed": true
   },
   "outputs": [],
   "source": [
    "# 3. Load it back\n",
    "new_graph_def = tf.GraphDef()\n",
    "with open(\"tf_import_graph_def.pb\", \"rb\") as rf:\n",
    "    new_graph_def.ParseFromString(rf.read())\n",
    "\n",
    "new_graph = tf.Graph()\n",
    "with new_graph.as_default():\n",
    "    tf.import_graph_def(new_graph_def, name=\"\")"
   ]
  },
  {
   "cell_type": "code",
   "execution_count": 8,
   "metadata": {
    "collapsed": true
   },
   "outputs": [],
   "source": [
    "new_c = new_graph.get_tensor_by_name(c.name)"
   ]
  },
  {
   "cell_type": "code",
   "execution_count": 9,
   "metadata": {},
   "outputs": [
    {
     "name": "stdout",
     "output_type": "stream",
     "text": [
      "3\n"
     ]
    }
   ],
   "source": [
    "with tf.Session(graph=new_graph) as sess:\n",
    "    print(sess.run(new_c)) # 3"
   ]
  },
  {
   "cell_type": "markdown",
   "metadata": {},
   "source": [
    "### Don't use `tf.import_graph_def` with `Graph` containing `Variable`"
   ]
  },
  {
   "cell_type": "code",
   "execution_count": 10,
   "metadata": {
    "collapsed": true
   },
   "outputs": [],
   "source": [
    "# A simple test\n",
    "variable_graph = tf.Graph()\n",
    "with variable_graph.as_default():\n",
    "    a = tf.Variable(3.0, dtype=tf.float32, name=\"a\")\n",
    "    loss = (a - 1.0)**2"
   ]
  },
  {
   "cell_type": "code",
   "execution_count": 11,
   "metadata": {},
   "outputs": [
    {
     "name": "stdout",
     "output_type": "stream",
     "text": [
      "[<tf.Variable 'a:0' shape=() dtype=float32_ref>]\n"
     ]
    }
   ],
   "source": [
    "with variable_graph.as_default():\n",
    "    print(tf.trainable_variables()) # Ok, we have one variable to optimize on"
   ]
  },
  {
   "cell_type": "code",
   "execution_count": 12,
   "metadata": {
    "collapsed": true
   },
   "outputs": [],
   "source": [
    "# serialize the graph\n",
    "with open(\"tf_import_graph_def_variable.pb\", \"wb\") as wf:\n",
    "    graph_def = variable_graph.as_graph_def()\n",
    "    wf.write(graph_def.SerializeToString())"
   ]
  },
  {
   "cell_type": "code",
   "execution_count": 13,
   "metadata": {
    "collapsed": true
   },
   "outputs": [],
   "source": [
    "# load it back\n",
    "new_variable_graph_def = tf.GraphDef()\n",
    "with open(\"tf_import_graph_def_variable.pb\", \"rb\") as rf:\n",
    "    new_variable_graph_def.ParseFromString(rf.read())\n",
    "\n",
    "new_graph = tf.Graph()\n",
    "with new_graph.as_default():\n",
    "    tf.import_graph_def(new_variable_graph_def, name=\"\")"
   ]
  },
  {
   "cell_type": "markdown",
   "metadata": {},
   "source": [
    "Everything seems alright, but...."
   ]
  },
  {
   "cell_type": "code",
   "execution_count": 14,
   "metadata": {},
   "outputs": [
    {
     "name": "stdout",
     "output_type": "stream",
     "text": [
      "[]\n"
     ]
    }
   ],
   "source": [
    "with new_graph.as_default():\n",
    "    print(tf.trainable_variables()) # `a` is gone!"
   ]
  },
  {
   "cell_type": "code",
   "execution_count": 17,
   "metadata": {},
   "outputs": [
    {
     "name": "stdout",
     "output_type": "stream",
     "text": [
      "a:0 VariableV2\n"
     ]
    }
   ],
   "source": [
    "new_a = new_graph.get_tensor_by_name(\"a:0\")\n",
    "print(new_a.name, new_a.op.type)"
   ]
  },
  {
   "cell_type": "code",
   "execution_count": 20,
   "metadata": {},
   "outputs": [
    {
     "name": "stdout",
     "output_type": "stream",
     "text": [
      "<class 'tensorflow.python.ops.variables.Variable'> <class 'tensorflow.python.framework.ops.Tensor'>\n"
     ]
    }
   ],
   "source": [
    "print(type(a), type(new_a))"
   ]
  },
  {
   "cell_type": "markdown",
   "metadata": {},
   "source": [
    "So, `new_graph` is in fact a graph can't be trained.\n",
    "\n",
    "`tf.import_graph_def` fails to load varible back (I think it's a bug....)\n",
    "\n",
    "What do we do?\n",
    "\n",
    "For now, I suggest use `tf.train.Saver` to save a trainable graph.\n",
    "\n",
    "Only use graph serialization/deserialization with constant graph (freeze graph)"
   ]
  }
 ],
 "metadata": {
  "kernelspec": {
   "display_name": "Python 3",
   "language": "python",
   "name": "python3"
  },
  "language_info": {
   "codemirror_mode": {
    "name": "ipython",
    "version": 3
   },
   "file_extension": ".py",
   "mimetype": "text/x-python",
   "name": "python",
   "nbconvert_exporter": "python",
   "pygments_lexer": "ipython3",
   "version": "3.6.2"
  }
 },
 "nbformat": 4,
 "nbformat_minor": 2
}
