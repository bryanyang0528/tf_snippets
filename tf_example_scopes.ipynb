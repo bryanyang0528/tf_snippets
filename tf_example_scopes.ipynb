{
 "cells": [
  {
   "cell_type": "markdown",
   "metadata": {
    "collapsed": true
   },
   "source": [
    "## `variable_scope`: Basic idea\n",
    "\n",
    "- Variable Scope: with two major api\n",
    "  - `tf.variable_scope(<scope_name>)`: manage the variables got from `tf.get_variable`\n",
    "  - `tf.get_variable(<name>, <shape>, <initializer>)`: Creates or returns a variable with a given name.\n",
    "    - `tf.constant_initializer(value)`\n",
    "    - `tf.random_uniform_initializer(a, b)`\n",
    "    - `tf.random_normal_initializer(mean, stddev)`\n",
    "    - an initial value\n",
    "    - or any function that takes the shape and returns a tensor with that shape\n",
    "- `tf.get_variable_scope` will get the current variable scope\n",
    "- variable scope add prefixes to the name of tensors you created within that scope\n",
    "  - `tf.variable_scope` creates a variable scope\n",
    "  - `tf.get_variable` is the major api to get and reuse tensors within a variable scope\n",
    "\n",
    "Notes:\n",
    "- **tf_variable_op_scope** has been deprecated."
   ]
  },
  {
   "cell_type": "code",
   "execution_count": 1,
   "metadata": {
    "collapsed": true
   },
   "outputs": [],
   "source": [
    "from __future__ import print_function\n",
    "import numpy as np\n",
    "import tensorflow as tf"
   ]
  },
  {
   "cell_type": "code",
   "execution_count": 2,
   "metadata": {
    "collapsed": true
   },
   "outputs": [],
   "source": [
    "def my_initializer(shape, dtype=None, partition_info=None):\n",
    "    init_value = tf.zeros(shape, dtype)\n",
    "    init_value = 3690\n",
    "    return init_value"
   ]
  },
  {
   "cell_type": "code",
   "execution_count": 3,
   "metadata": {
    "collapsed": true
   },
   "outputs": [],
   "source": [
    "# Simple example\n",
    "with tf.variable_scope(\"my_scope\"):\n",
    "    x = tf.constant(3, name=\"x\")\n",
    "    # if it is the first time you create variable with tf.get_variable,\n",
    "    # you have to specify the sahpe explicitly.\n",
    "    y = tf.get_variable(name=\"y\", shape=[0], initializer=my_initializer)\n",
    "    z = tf.get_variable(name=\"z\", initializer=30.0)"
   ]
  },
  {
   "cell_type": "code",
   "execution_count": 4,
   "metadata": {},
   "outputs": [
    {
     "name": "stdout",
     "output_type": "stream",
     "text": [
      "my_scope/x:0\n",
      "my_scope/y:0\n",
      "my_scope/z:0\n"
     ]
    }
   ],
   "source": [
    "print(x.name)\n",
    "print(y.name)\n",
    "print(z.name)"
   ]
  },
  {
   "cell_type": "markdown",
   "metadata": {},
   "source": [
    "`<scope>/<op_name>:<output_index>`"
   ]
  },
  {
   "cell_type": "code",
   "execution_count": 5,
   "metadata": {},
   "outputs": [
    {
     "name": "stdout",
     "output_type": "stream",
     "text": [
      "x: 3\n",
      "y: 3690.0\n",
      "z: 30.0\n"
     ]
    }
   ],
   "source": [
    "with tf.Session() as sess:\n",
    "    tf.global_variables_initializer().run()\n",
    "    print(\"x: {}\".format(sess.run(x)))\n",
    "    print(\"y: {}\".format(sess.run(y)))\n",
    "    print(\"z: {}\".format(sess.run(z)))"
   ]
  },
  {
   "cell_type": "code",
   "execution_count": 6,
   "metadata": {},
   "outputs": [
    {
     "name": "stdout",
     "output_type": "stream",
     "text": [
      "Variable my_scope/y already exists, disallowed. Did you mean to set reuse=True in VarScope? Originally defined at:\n",
      "\n",
      "  File \"<ipython-input-3-cd72fe1b9ecb>\", line 6, in <module>\n",
      "    y = tf.get_variable(name=\"y\", shape=[0], initializer=my_initializer)\n",
      "  File \"/usr/local/lib/python3.6/site-packages/IPython/core/interactiveshell.py\", line 2862, in run_code\n",
      "    exec(code_obj, self.user_global_ns, self.user_ns)\n",
      "  File \"/usr/local/lib/python3.6/site-packages/IPython/core/interactiveshell.py\", line 2802, in run_ast_nodes\n",
      "    if self.run_code(code, result):\n",
      "\n",
      "You need to reuse variable!\n"
     ]
    }
   ],
   "source": [
    "# How to share vairalbe? \"reuse\" it\n",
    "try:\n",
    "    with tf.variable_scope(\"my_scope\"):\n",
    "        y2 = tf.get_variable(name=\"y\")\n",
    "except ValueError as e:\n",
    "    print(e)\n",
    "    print(\"You need to reuse variable!\")"
   ]
  },
  {
   "cell_type": "code",
   "execution_count": 7,
   "metadata": {},
   "outputs": [
    {
     "name": "stdout",
     "output_type": "stream",
     "text": [
      "I get the same y!\n",
      "I get the same z\n"
     ]
    }
   ],
   "source": [
    "with tf.variable_scope(\"my_scope\", reuse=True):\n",
    "    y3 = tf.get_variable(name=\"y\")\n",
    "    if y3 is y:\n",
    "        print(\"I get the same y!\")\n",
    "        \n",
    "    z2 = tf.get_variable(\"z\")\n",
    "    if z2 is z:\n",
    "        print(\"I get the same z\")"
   ]
  },
  {
   "cell_type": "code",
   "execution_count": 8,
   "metadata": {},
   "outputs": [
    {
     "name": "stdout",
     "output_type": "stream",
     "text": [
      "Get the same y!\n"
     ]
    }
   ],
   "source": [
    "# or you can use scope.resue_variables() to reuse variables\n",
    "with tf.variable_scope(\"my_scope\") as scope:\n",
    "    scope.reuse_variables()\n",
    "    y3_2 = tf.get_variable(name=\"y\")\n",
    "    if y3_2.name == y.name:\n",
    "        print(\"Get the same y!\")"
   ]
  },
  {
   "cell_type": "code",
   "execution_count": 9,
   "metadata": {},
   "outputs": [
    {
     "name": "stdout",
     "output_type": "stream",
     "text": [
      "Variable my_scope/q does not exist, or was not created with tf.get_variable(). Did you mean to set reuse=None in VarScope?\n",
      "\n",
      "You use a variable which hasn't been created before.\n",
      "A `ValueError` will be throwed!\n"
     ]
    }
   ],
   "source": [
    "try:\n",
    "    with tf.variable_scope(\"my_scope\", reuse=True):\n",
    "        q = tf.get_variable(name=\"q\", \n",
    "                            shape=[3, 3], \n",
    "                            initializer=tf.random_normal_initializer(0.0, 1.0))\n",
    "    with tf.Session() as sess:\n",
    "        print(sess.run(q))\n",
    "except Exception as e:\n",
    "    print(e)\n",
    "    print()\n",
    "    print(\"You use a variable which hasn't been created before.\")\n",
    "    print(\"A `ValueError` will be throwed!\")"
   ]
  },
  {
   "cell_type": "code",
   "execution_count": 10,
   "metadata": {},
   "outputs": [
    {
     "name": "stdout",
     "output_type": "stream",
     "text": [
      "Trying to share variable my_scope/y, but specified shape (1,) and found shape ().\n",
      "\n",
      "The name and the shape must be the same as the time when the variable is created\n"
     ]
    }
   ],
   "source": [
    "try:\n",
    "    with tf.variable_scope(\"my_scope\", reuse=True):\n",
    "        yy = tf.get_variable(name=\"y\", shape=[1])\n",
    "except ValueError as e:\n",
    "    print(e)\n",
    "    print()\n",
    "    print(\"The name and the shape must be the same as the time when the variable is created\")"
   ]
  },
  {
   "cell_type": "code",
   "execution_count": 11,
   "metadata": {},
   "outputs": [
    {
     "name": "stdout",
     "output_type": "stream",
     "text": [
      "True\n",
      "hello_scope\n"
     ]
    }
   ],
   "source": [
    "print(tf.get_variable_scope().name is '') # default scope, ''\n",
    "with tf.variable_scope(\"hello_scope\"):\n",
    "    print(tf.get_variable_scope().name)"
   ]
  },
  {
   "cell_type": "markdown",
   "metadata": {},
   "source": [
    "### Understanding `tf.get_variable`\n",
    "\n",
    "Two scenerio:\n",
    "\n",
    "1. the scope is set for creating **new** variables\n",
    "  - That is, `tf.get_variable_scope().reuse == False`\n",
    "  - If the variable you want to created has been created before (the same name under the same variable scope), this will results in a `ValueError`.\n",
    "2. the scope is set for sharing variables\n",
    "  - That is, `tf.get_variable_scope().reuse == True`\n",
    "  - In this case, `tf.get_variable` will search for existing variable by its name (required) and its shape (optional).\n",
    "    - `tf.get_variable` will check the shape if given with the variable it find with name"
   ]
  },
  {
   "cell_type": "code",
   "execution_count": 12,
   "metadata": {
    "collapsed": true
   },
   "outputs": [],
   "source": [
    "# This example is adopted from the document\n",
    "with tf.variable_scope(\"foo\") as foo_scope:\n",
    "    assert foo_scope.name == \"foo\"\n",
    "with tf.variable_scope(\"bar\"):\n",
    "    with tf.variable_scope(\"baz\") as other_scope:\n",
    "        assert other_scope.name == \"bar/baz\"\n",
    "        with tf.variable_scope(foo_scope) as foo_scope2:\n",
    "            assert foo_scope2.name == \"foo\"  # Not changed."
   ]
  },
  {
   "cell_type": "markdown",
   "metadata": {},
   "source": [
    "Opening a variable scope using a previously existing scope, we will jump out of the current variable scope prefix to an entirely different one. \n",
    "\n",
    "That is, it's fully independent of where we do it."
   ]
  },
  {
   "cell_type": "code",
   "execution_count": 13,
   "metadata": {},
   "outputs": [
    {
     "name": "stdout",
     "output_type": "stream",
     "text": [
      "scope1/y:0\n",
      "scope1/scope2/z:0\n"
     ]
    }
   ],
   "source": [
    "# You can also use nested scope\n",
    "with tf.variable_scope(\"scope1\"):\n",
    "    y = tf.get_variable(name=\"y\", initializer=3.0)\n",
    "    with tf.variable_scope(\"scope2\"):\n",
    "        z = tf.get_variable(name=\"z\", shape=[3], initializer=tf.constant_initializer(3.0))\n",
    "\n",
    "print(y.name)\n",
    "print(z.name)"
   ]
  },
  {
   "cell_type": "code",
   "execution_count": 14,
   "metadata": {},
   "outputs": [
    {
     "name": "stdout",
     "output_type": "stream",
     "text": [
      "my_ops/add:0\n"
     ]
    }
   ],
   "source": [
    "# variable scope will effect the name of ops, too\n",
    "with tf.variable_scope(\"my_ops\"):\n",
    "    a = tf.get_variable(name='a', initializer=3.0)\n",
    "    b = tf.get_variable(name='b', initializer=5.0)\n",
    "    x = a + b\n",
    "print(x.name)"
   ]
  },
  {
   "cell_type": "markdown",
   "metadata": {},
   "source": [
    "### Variable Scope Summary:\n",
    "\n",
    "- Using variable scope with `tf.variable_scope` and `tf.get_variable`\n",
    "- Explicifically set `reuse=True` or calling `scope.reuse_variables` to reuse variables\n",
    "  - If you use a variable that is not created yet in a reuse variable scope, a `ValueError` exception will be throwed.\n",
    "  - The mechenism prevent you from accidentally use shared variable.\n",
    "- Variable scope add name prefixes to both variables and operations\n",
    "- `variable_scope` is mainly for sharing variables"
   ]
  },
  {
   "cell_type": "markdown",
   "metadata": {},
   "source": [
    "-----"
   ]
  },
  {
   "cell_type": "markdown",
   "metadata": {},
   "source": [
    "## `tf.name_scope`: The Basic Idea\n",
    "\n",
    "Well, the purpose of `tf.variable_scope` is kinda clear now. But what is `tf.name_scope` for anyway?\n",
    "\n",
    "According to the [doc](https://www.tensorflow.org/api_docs/python/tf/name_scope), it will return a contex manager for use in defining ops. Along with the [doc](https://www.tensorflow.org/api_docs/python/tf/Graph#name_scope) for `tf.Graph.name_scope`, `name_scope` is for wrapping tensors and ops into one conceptually unit.\n",
    "\n",
    "Let's see some examples."
   ]
  },
  {
   "cell_type": "code",
   "execution_count": 15,
   "metadata": {
    "collapsed": true
   },
   "outputs": [],
   "source": [
    "with tf.name_scope(name=\"my_name\"):\n",
    "    x = tf.Variable(np.random.randn(3, 5),\n",
    "                    name=\"x\",\n",
    "                    dtype=tf.float32)\n",
    "    y = tf.get_variable(name=\"y\",\n",
    "                        initializer=5.0)\n",
    "    output = x + y"
   ]
  },
  {
   "cell_type": "code",
   "execution_count": 16,
   "metadata": {},
   "outputs": [
    {
     "name": "stdout",
     "output_type": "stream",
     "text": [
      "my_name/x:0\n",
      "y:0\n",
      "my_name/add:0\n"
     ]
    }
   ],
   "source": [
    "print(x.name)\n",
    "print(y.name)\n",
    "print(output.name)"
   ]
  },
  {
   "cell_type": "markdown",
   "metadata": {},
   "source": [
    "As we can see in this example, that `tf.name_scope` will\n",
    "\n",
    "1. add prefix to the name of tensors created through `tf.Variable` and operations.\n",
    "2. It has no effect to variable created by `tf.get_variable`.\n",
    "\n",
    "Up to this point, we can say that `tf.name_scope` is just another way to manage scope of variables and ops in `Tensorflow`"
   ]
  },
  {
   "cell_type": "markdown",
   "metadata": {},
   "source": [
    "```\n",
    "tf.name_scope(\n",
    "    name,\n",
    "    default_name=None,\n",
    "    values=None\n",
    ")\n",
    "```\n",
    "\n",
    "According to the [doc](https://www.tensorflow.org/api_docs/python/tf/name_scope), `tf.name_scope` create a name scope and do following things:\n",
    "\n",
    "1. check the given `values` are from the same graph\n",
    "2. making that graph as default graph\n",
    "3. push the name scope created to the graph"
   ]
  },
  {
   "cell_type": "code",
   "execution_count": 17,
   "metadata": {
    "collapsed": true
   },
   "outputs": [],
   "source": [
    "# example from the doc\n",
    "def relu_layer(x, out_shape, name=None):\n",
    "    if not isinstance(x, tf.Tensor):\n",
    "        x = tf.convert_to_tensor(x, dtype=tf.float32)\n",
    "    with tf.name_scope(name, \"MyRelu\", [x]) as scope:\n",
    "        # scope name will be \"MyRelu\" if `name` is None.\n",
    "        weight = tf.Variable(tf.random_normal([x.shape[1].value, out_shape]),\n",
    "                             name=\"weight\",\n",
    "                             dtype=tf.float32)\n",
    "        bias = tf.Variable(tf.random_normal([out_shape]),\n",
    "                           name=\"bias\",\n",
    "                           dtype=tf.float32)\n",
    "        affine = tf.matmul(x, weight) + bias\n",
    "        output = tf.nn.relu(affine, name=scope)\n",
    "    return output"
   ]
  },
  {
   "cell_type": "code",
   "execution_count": 19,
   "metadata": {},
   "outputs": [
    {
     "name": "stdout",
     "output_type": "stream",
     "text": [
      "relu:0\n"
     ]
    }
   ],
   "source": [
    "x = tf.placeholder(tf.float32, shape=[None, 10])\n",
    "layer1 = relu_layer(x, 30, name=\"relu\")\n",
    "print(layer1.name)"
   ]
  },
  {
   "cell_type": "markdown",
   "metadata": {},
   "source": [
    "**Note**: `name_scope` also support nested scoping, see example from [doc](https://www.tensorflow.org/api_docs/python/tf/Graph#name_scope) for detail "
   ]
  },
  {
   "cell_type": "markdown",
   "metadata": {},
   "source": [
    "----\n",
    "\n",
    "## When and Why\n",
    "\n",
    "So when to use `variable_scope` and when to use `name_scope`?\n",
    "\n",
    "IMHO, I summarize the following principles:\n",
    "\n",
    "1. If you are about to define variables which can be used in other operation in the graph, go for the `tf.variable_scope` and `tf.get_variable`. They are all about sharing variables.\n",
    "2. If you are about to wrap variables into one operation, go for `tf.name_scope`. It's about wrapping tensors and ops into one named scope. You have to be aware of the fact that `tf.get_variable` will not be governed by `name_scope`."
   ]
  },
  {
   "cell_type": "markdown",
   "metadata": {},
   "source": [
    "## References\n",
    "\n",
    "- [StackOverflow](https://stackoverflow.com/questions/35919020/whats-the-difference-of-name-scope-and-a-variable-scope-in-tensorflow)\n",
    "- [StackOverflow](https://stackoverflow.com/questions/34215746/difference-between-variable-scope-and-name-scope-in-tensorflow)\n",
    "- [StackOverflow - 'meaning of :0'](https://stackoverflow.com/questions/40925652/in-tensorflow-whats-the-meaning-of-0-in-a-variables-name)\n",
    "- [StackOverflow - 'Tensor naming'](https://stackoverflow.com/questions/36150834/how-does-tensorflow-name-tensors)\n",
    "- [jasdeep06.github.io](https://jasdeep06.github.io/posts/variable-sharing-in-tensorflow/)\n",
    "- [doc](https://www.tensorflow.org/programmers_guide/variable_scope)"
   ]
  },
  {
   "cell_type": "code",
   "execution_count": null,
   "metadata": {
    "collapsed": true
   },
   "outputs": [],
   "source": []
  }
 ],
 "metadata": {
  "kernelspec": {
   "display_name": "Python 3",
   "language": "python",
   "name": "python3"
  },
  "language_info": {
   "codemirror_mode": {
    "name": "ipython",
    "version": 3
   },
   "file_extension": ".py",
   "mimetype": "text/x-python",
   "name": "python",
   "nbconvert_exporter": "python",
   "pygments_lexer": "ipython3",
   "version": "3.6.1"
  }
 },
 "nbformat": 4,
 "nbformat_minor": 2
}
