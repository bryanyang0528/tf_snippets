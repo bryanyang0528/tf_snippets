{
 "cells": [
  {
   "cell_type": "markdown",
   "metadata": {},
   "source": [
    "- [R2RT - Blog](https://r2rt.com/implementing-batch-normalization-in-tensorflow.html)\n",
    "- [BN Paper](https://arxiv.org/pdf/1502.03167v3.pdf)"
   ]
  },
  {
   "cell_type": "code",
   "execution_count": 1,
   "metadata": {
    "collapsed": true
   },
   "outputs": [],
   "source": [
    "%matplotlib inline\n",
    "from __future__ import print_function\n",
    "import numpy as np\n",
    "import tensorflow as tf\n",
    "from tensorflow.examples.tutorials.mnist import input_data\n",
    "import matplotlib.pyplot as plt"
   ]
  },
  {
   "cell_type": "code",
   "execution_count": 2,
   "metadata": {},
   "outputs": [
    {
     "name": "stdout",
     "output_type": "stream",
     "text": [
      "Successfully downloaded train-images-idx3-ubyte.gz 9912422 bytes.\n",
      "Extracting data/train-images-idx3-ubyte.gz\n",
      "Successfully downloaded train-labels-idx1-ubyte.gz 28881 bytes.\n",
      "Extracting data/train-labels-idx1-ubyte.gz\n",
      "Successfully downloaded t10k-images-idx3-ubyte.gz 1648877 bytes.\n",
      "Extracting data/t10k-images-idx3-ubyte.gz\n",
      "Successfully downloaded t10k-labels-idx1-ubyte.gz 4542 bytes.\n",
      "Extracting data/t10k-labels-idx1-ubyte.gz\n"
     ]
    }
   ],
   "source": [
    "mnist = input_data.read_data_sets(\"data\", one_hot=True)"
   ]
  },
  {
   "cell_type": "code",
   "execution_count": 3,
   "metadata": {},
   "outputs": [
    {
     "name": "stdout",
     "output_type": "stream",
     "text": [
      "[ 0.  0.  0.  0.  0.  0.  0.  0.  1.  0.]\n",
      "(784,)\n"
     ]
    },
    {
     "data": {
      "text/plain": [
       "<matplotlib.image.AxesImage at 0x7f193529a160>"
      ]
     },
     "execution_count": 3,
     "metadata": {},
     "output_type": "execute_result"
    },
    {
     "data": {
      "image/png": "[encoded data removed]",
      "text/plain": [
       "<matplotlib.figure.Figure at 0x7f1935352390>"
      ]
     },
     "metadata": {},
     "output_type": "display_data"
    }
   ],
   "source": [
    "print(mnist.train.labels[3690])\n",
    "print(mnist.train.images[3690].shape)\n",
    "plt.imshow(mnist.train.images[3690].reshape((28, 28)), cmap=\"gray\")"
   ]
  },
  {
   "cell_type": "code",
   "execution_count": 4,
   "metadata": {
    "collapsed": true
   },
   "outputs": [],
   "source": [
    "def compute_accuracy(y1, y2):\n",
    "    return 100*((y1 == y2).astype(np.int).sum()/len(y1))"
   ]
  },
  {
   "cell_type": "code",
   "execution_count": 5,
   "metadata": {
    "collapsed": true
   },
   "outputs": [],
   "source": [
    "# initial values (fixed, in order to give comparable results)\n",
    "np.random.seed(3690)\n",
    "\n",
    "w1_init = np.random.randn(784, 100)\n",
    "b1_init = np.random.randn(100)\n",
    "\n",
    "w2_init = np.random.randn(100, 100)\n",
    "b2_init = np.random.randn(100)\n",
    "\n",
    "w3_init = np.random.randn(100, 10)\n",
    "b3_init = np.random.randn(10)"
   ]
  },
  {
   "cell_type": "code",
   "execution_count": 8,
   "metadata": {
    "collapsed": true
   },
   "outputs": [],
   "source": [
    "from tensorflow.python.ops.init_ops import glorot_normal_initializer"
   ]
  },
  {
   "cell_type": "code",
   "execution_count": 9,
   "metadata": {
    "collapsed": true
   },
   "outputs": [],
   "source": [
    "init = glorot_normal_initializer(seed=3690)"
   ]
  },
  {
   "cell_type": "code",
   "execution_count": 10,
   "metadata": {
    "collapsed": true
   },
   "outputs": [],
   "source": [
    "# network without batch normalization\n",
    "graph_no_bn = tf.Graph()\n",
    "\n",
    "with graph_no_bn.as_default():\n",
    "    tf_x_no_bn = tf.placeholder(dtype=tf.float32, \n",
    "                                shape=[None, 784])\n",
    "    tf_y_no_bn = tf.placeholder(dtype=tf.float32, \n",
    "                                shape=[None, 10])\n",
    "    \n",
    "    # fully connected layer 1 (784 x 100)\n",
    "    tf_W1_no_bn = tf.Variable(init(shape=[784, 100], dtype=tf.float32),\n",
    "                              name=\"W1\")\n",
    "    tf_b1_no_bn = tf.Variable(init(shape=[100], dtype=tf.float32),\n",
    "                              name=\"b1\")\n",
    "    tf_z1 = tf.matmul(tf_x_no_bn, tf_W1_no_bn) + tf_b1_no_bn\n",
    "    tf_l1 = tf.nn.sigmoid(tf_z1)\n",
    "    \n",
    "    # fully connected layer 2\n",
    "    tf_W2_no_bn = tf.Variable(init(shape=[100, 100], dtype=tf.float32), \n",
    "                              name=\"W2\")\n",
    "    tf_b2_no_bn = tf.Variable(init(shape=[100], dtype=tf.float32),\n",
    "                              name=\"b2\",\n",
    "                              dtype=tf.float32)\n",
    "    tf_z2 = tf.matmul(tf_l1, tf_W2_no_bn) + tf_b2_no_bn\n",
    "    tf_l2 = tf.nn.sigmoid(tf_z2)\n",
    "    \n",
    "    # fully connect layer 3\n",
    "    tf_W3_no_bn = tf.Variable(init(shape=[100, 10], dtype=tf.float32),\n",
    "                              name=\"W3\")\n",
    "    tf_b3_no_bn = tf.Variable(init(shape=[10], dtype=tf.float32),\n",
    "                              name=\"b3\")\n",
    "    tf_l3 = tf.matmul(tf_l2, tf_W3_no_bn)+tf_b3_no_bn\n",
    "    \n",
    "    tf_y_hat_no_bn = tf.nn.softmax(tf_l3)\n",
    "    predict_y_no_bn = tf.argmax(tf_l3, 1)\n",
    "    \n",
    "    cross_entropy_no_bn = -tf.reduce_sum(tf_y_no_bn*tf.log(tf_y_hat_no_bn))\n",
    "    optimizer_no_bn = tf.train.GradientDescentOptimizer(learning_rate=0.01)\n",
    "    train_no_nb = optimizer_no_bn.minimize(cross_entropy_no_bn)"
   ]
  },
  {
   "cell_type": "code",
   "execution_count": 21,
   "metadata": {
    "collapsed": true
   },
   "outputs": [],
   "source": [
    "batch_size=100\n",
    "n_iterations = 40000"
   ]
  },
  {
   "cell_type": "code",
   "execution_count": 22,
   "metadata": {},
   "outputs": [
    {
     "name": "stdout",
     "output_type": "stream",
     "text": [
      "Iteration 1000: 12.921549797058105, Test Accuracy: 94.42%\n",
      "Iteration 2000: 7.000487327575684, Test Accuracy: 95.82000000000001%\n",
      "Iteration 3000: 2.3673295974731445, Test Accuracy: 96.89%\n",
      "Iteration 4000: 2.3273041248321533, Test Accuracy: 97.14%\n",
      "Iteration 5000: 5.455541133880615, Test Accuracy: 97.63%\n",
      "Iteration 6000: 0.6532052159309387, Test Accuracy: 97.59%\n",
      "Iteration 7000: 0.7081977128982544, Test Accuracy: 97.77%\n",
      "Iteration 8000: 1.7886273860931396, Test Accuracy: 97.89999999999999%\n",
      "Iteration 9000: 0.14031291007995605, Test Accuracy: 97.84%\n",
      "Iteration 10000: 0.16038934886455536, Test Accuracy: 97.8%\n",
      "Iteration 11000: 0.2911721467971802, Test Accuracy: 97.89999999999999%\n",
      "Iteration 12000: 0.256646066904068, Test Accuracy: 97.98%\n",
      "Iteration 13000: 0.19726526737213135, Test Accuracy: 98.1%\n",
      "Iteration 14000: 0.21793484687805176, Test Accuracy: 98.07000000000001%\n",
      "Iteration 15000: 0.40522676706314087, Test Accuracy: 98.03%\n",
      "Iteration 16000: 0.16905945539474487, Test Accuracy: 98.08%\n",
      "Iteration 17000: 0.09660308063030243, Test Accuracy: 98.0%\n",
      "Iteration 18000: 0.10748974978923798, Test Accuracy: 98.08%\n",
      "Iteration 19000: 0.21921566128730774, Test Accuracy: 98.11%\n",
      "Iteration 20000: 0.053488582372665405, Test Accuracy: 98.06%\n",
      "Iteration 21000: 0.11724075675010681, Test Accuracy: 98.07000000000001%\n",
      "Iteration 22000: 0.06888940930366516, Test Accuracy: 98.11%\n",
      "Iteration 23000: 0.06312201172113419, Test Accuracy: 98.08%\n",
      "Iteration 24000: 0.06477966904640198, Test Accuracy: 98.05%\n",
      "Iteration 25000: 0.17985056340694427, Test Accuracy: 98.08%\n",
      "Iteration 26000: 0.0757485181093216, Test Accuracy: 98.14%\n",
      "Iteration 27000: 0.14530406892299652, Test Accuracy: 98.11%\n",
      "Iteration 28000: 0.05528157576918602, Test Accuracy: 98.07000000000001%\n",
      "Iteration 29000: 0.08815228193998337, Test Accuracy: 98.06%\n",
      "Iteration 30000: 0.08213423192501068, Test Accuracy: 98.1%\n",
      "Iteration 31000: 0.0677705705165863, Test Accuracy: 98.09%\n",
      "Iteration 32000: 0.04783857613801956, Test Accuracy: 98.11999999999999%\n",
      "Iteration 33000: 0.05959830805659294, Test Accuracy: 98.14%\n",
      "Iteration 34000: 0.1157045066356659, Test Accuracy: 98.07000000000001%\n",
      "Iteration 35000: 0.07827648520469666, Test Accuracy: 98.14%\n",
      "Iteration 36000: 0.024038758128881454, Test Accuracy: 98.11999999999999%\n",
      "Iteration 37000: 0.030568651854991913, Test Accuracy: 98.09%\n",
      "Iteration 38000: 0.029857274144887924, Test Accuracy: 98.1%\n",
      "Iteration 39000: 0.037555526942014694, Test Accuracy: 98.11999999999999%\n",
      "Iteration 40000: 0.06184898316860199, Test Accuracy: 98.09%\n"
     ]
    }
   ],
   "source": [
    "# SGD\n",
    "loss_no_bn = []\n",
    "accuracy_no_bn = []\n",
    "with tf.Session(graph=graph_no_bn) as sess:\n",
    "    tf.global_variables_initializer().run()\n",
    "    for i in range(n_iterations):\n",
    "        # training\n",
    "        batch_images, batch_labels = mnist.train.next_batch(batch_size)\n",
    "        feed_dict = {tf_x_no_bn: batch_images, tf_y_no_bn:batch_labels}\n",
    "        _ = sess.run(train_no_nb, feed_dict=feed_dict)\n",
    "        l = sess.run(cross_entropy_no_bn, feed_dict=feed_dict)\n",
    "        loss_no_bn.append(l)\n",
    "        if (i+1) % 1000 == 0:\n",
    "            # prediction\n",
    "            feed_dict[tf_x_no_bn] = mnist.test.images\n",
    "            feed_dict[tf_y_no_bn] = mnist.test.labels\n",
    "            predict_y = sess.run(predict_y_no_bn, feed_dict=feed_dict)\n",
    "            acc = compute_accuracy(predict_y, np.argmax(mnist.test.labels, axis=1))\n",
    "            accuracy_no_bn.append(acc)\n",
    "            print(\"Iteration {}: {:.4f}, Test Accuracy: {:.2f}%\".format(i+1, l, acc))\n",
    "    train_variagles = [(v.name.split(\":\")[0], v.eval()) for v in tf.trainable_variables()]"
   ]
  },
  {
   "cell_type": "code",
   "execution_count": 23,
   "metadata": {},
   "outputs": [
    {
     "name": "stdout",
     "output_type": "stream",
     "text": [
      "['W1', 'b1', 'W2', 'b2', 'W3', 'b3']\n",
      "[(784, 100), (100,), (100, 100), (100,), (100, 10), (10,)]\n"
     ]
    }
   ],
   "source": [
    "print([v[0] for v in train_variagles])\n",
    "print([v[1].shape for v in train_variagles])"
   ]
  },
  {
   "cell_type": "code",
   "execution_count": 24,
   "metadata": {},
   "outputs": [
    {
     "name": "stdout",
     "output_type": "stream",
     "text": [
      "Adds a Batch Normalization layer from http://arxiv.org/abs/1502.03167.\n",
      "\n",
      "    \"Batch Normalization: Accelerating Deep Network Training by Reducing\n",
      "    Internal Covariate Shift\"\n",
      "\n",
      "    Sergey Ioffe, Christian Szegedy\n",
      "\n",
      "  Can be used as a normalizer function for conv2d and fully_connected.\n",
      "\n",
      "  Note: when training, the moving_mean and moving_variance need to be updated.\n",
      "  By default the update ops are placed in `tf.GraphKeys.UPDATE_OPS`, so they\n",
      "  need to be added as a dependency to the `train_op`. For example:\n",
      "\n",
      "  ```python\n",
      "    update_ops = tf.get_collection(tf.GraphKeys.UPDATE_OPS)\n",
      "    with tf.control_dependencies(update_ops):\n",
      "      train_op = optimizer.minimize(loss)\n",
      "  ```\n",
      "\n",
      "  One can set updates_collections=None to force the updates in place, but that\n",
      "  can have a speed penalty, especially in distributed settings.\n",
      "\n",
      "  Args:\n",
      "    inputs: A tensor with 2 or more dimensions, where the first dimension has\n",
      "      `batch_size`. The normalization is over all but the last dimension if\n",
      "      `data_format` is `NHWC` and the second dimension if `data_format` is\n",
      "      `NCHW`.\n",
      "    decay: Decay for the moving average. Reasonable values for `decay` are close\n",
      "      to 1.0, typically in the multiple-nines range: 0.999, 0.99, 0.9, etc.\n",
      "      Lower `decay` value (recommend trying `decay`=0.9) if model experiences\n",
      "      reasonably good training performance but poor validation and/or test\n",
      "      performance. Try zero_debias_moving_mean=True for improved stability.\n",
      "    center: If True, add offset of `beta` to normalized tensor. If False, `beta`\n",
      "      is ignored.\n",
      "    scale: If True, multiply by `gamma`. If False, `gamma` is\n",
      "      not used. When the next layer is linear (also e.g. `nn.relu`), this can be\n",
      "      disabled since the scaling can be done by the next layer.\n",
      "    epsilon: Small float added to variance to avoid dividing by zero.\n",
      "    activation_fn: Activation function, default set to None to skip it and\n",
      "      maintain a linear activation.\n",
      "    param_initializers: Optional initializers for beta, gamma, moving mean and\n",
      "      moving variance.\n",
      "    param_regularizers: Optional regularizer for beta and gamma.\n",
      "    updates_collections: Collections to collect the update ops for computation.\n",
      "      The updates_ops need to be executed with the train_op.\n",
      "      If None, a control dependency would be added to make sure the updates are\n",
      "      computed in place.\n",
      "    is_training: Whether or not the layer is in training mode. In training mode\n",
      "      it would accumulate the statistics of the moments into `moving_mean` and\n",
      "      `moving_variance` using an exponential moving average with the given\n",
      "      `decay`. When it is not in training mode then it would use the values of\n",
      "      the `moving_mean` and the `moving_variance`.\n",
      "    reuse: Whether or not the layer and its variables should be reused. To be\n",
      "      able to reuse the layer scope must be given.\n",
      "    variables_collections: Optional collections for the variables.\n",
      "    outputs_collections: Collections to add the outputs.\n",
      "    trainable: If `True` also add variables to the graph collection\n",
      "      `GraphKeys.TRAINABLE_VARIABLES` (see `tf.Variable`).\n",
      "    batch_weights: An optional tensor of shape `[batch_size]`,\n",
      "      containing a frequency weight for each batch item. If present,\n",
      "      then the batch normalization uses weighted mean and\n",
      "      variance. (This can be used to correct for bias in training\n",
      "      example selection.)\n",
      "    fused: if `True`, use a faster, fused implementation based on\n",
      "      nn.fused_batch_norm. If `None`, use the fused implementation if possible.\n",
      "    data_format: A string. `NHWC` (default) and `NCHW` are supported.\n",
      "    zero_debias_moving_mean: Use zero_debias for moving_mean. It creates a new\n",
      "      pair of variables 'moving_mean/biased' and 'moving_mean/local_step'.\n",
      "    scope: Optional scope for `variable_scope`.\n",
      "    renorm: Whether to use Batch Renormalization\n",
      "      (https://arxiv.org/abs/1702.03275). This adds extra variables during\n",
      "      training. The inference is the same for either value of this parameter.\n",
      "    renorm_clipping: A dictionary that may map keys 'rmax', 'rmin', 'dmax' to\n",
      "      scalar `Tensors` used to clip the renorm correction. The correction\n",
      "      `(r, d)` is used as `corrected_value = normalized_value * r + d`, with\n",
      "      `r` clipped to [rmin, rmax], and `d` to [-dmax, dmax]. Missing rmax, rmin,\n",
      "      dmax are set to inf, 0, inf, respectively.\n",
      "    renorm_decay: Momentum used to update the moving means and standard\n",
      "      deviations with renorm. Unlike `momentum`, this affects training\n",
      "      and should be neither too small (which would add noise) nor too large\n",
      "      (which would give stale estimates). Note that `decay` is still applied\n",
      "      to get the means and variances for inference.\n",
      "\n",
      "  Returns:\n",
      "    A `Tensor` representing the output of the operation.\n",
      "\n",
      "  Raises:\n",
      "    ValueError: If `batch_weights` is not None and `fused` is True.\n",
      "    ValueError: If `data_format` is neither `NHWC` nor `NCHW`.\n",
      "    ValueError: If the rank of `inputs` is undefined.\n",
      "    ValueError: If rank or channels dimension of `inputs` is undefined.\n",
      "  \n"
     ]
    }
   ],
   "source": [
    "print(tf.contrib.layers.batch_norm.__doc__)"
   ]
  },
  {
   "cell_type": "code",
   "execution_count": 25,
   "metadata": {
    "collapsed": true
   },
   "outputs": [],
   "source": [
    "init = glorot_normal_initializer(seed=3690)"
   ]
  },
  {
   "cell_type": "code",
   "execution_count": 26,
   "metadata": {
    "collapsed": true
   },
   "outputs": [],
   "source": [
    "# Batch Normalized (BN) Neural Network\n",
    "# Here I use batch normalization layer from tf.contrib.layers.batch_norm\n",
    "# but it seems like it can not reproduce the results in the blog.\n",
    "# I'll try tf.nn.batch_normalization in another notebook later.\n",
    "graph_bn = tf.Graph()\n",
    "\n",
    "with graph_bn.as_default():\n",
    "    tf_x_bn = tf.placeholder(dtype=tf.float32, \n",
    "                             shape=[None, 784],\n",
    "                             name=\"tf_x_bn\")\n",
    "    tf_y_bn = tf.placeholder(dtype=tf.float32, \n",
    "                             shape=[None, 10],\n",
    "                             name=\"tf_y_bn\") \n",
    "    tf_is_training = tf.placeholder(tf.bool, name=\"is_training\")\n",
    "    # layer 1\n",
    "    tf_W1_bn = tf.Variable(init(shape=[784, 100], dtype=tf.float32),\n",
    "                           name=\"W1_bn\")\n",
    "    tf_z1_bn = tf.matmul(tf_x_bn, tf_W1_bn)\n",
    "    \n",
    "    # BN for layer 1\n",
    "    with tf.control_dependencies(tf.get_collection(tf.GraphKeys.UPDATE_OPS)):\n",
    "        tf_l1 = tf.contrib.layers.batch_norm(tf_z1_bn,\n",
    "                                             decay=0.999,\n",
    "                                             center=True, \n",
    "                                             scale=True,\n",
    "                                             epsilon=0.0001,\n",
    "                                             activation_fn=tf.nn.sigmoid,\n",
    "                                             is_training=tf_is_training)\n",
    "    # layer 2\n",
    "    tf_W2_bn = tf.Variable(init(shape=[100, 100], dtype=tf.float32),\n",
    "                           name=\"W2_bn\")\n",
    "    tf_z2_bn = tf.matmul(tf_l1, tf_W2_bn)\n",
    "    # BN layer 2\n",
    "    with tf.control_dependencies(tf.get_collection(tf.GraphKeys.UPDATE_OPS)):\n",
    "        tf_l2 = tf.contrib.layers.batch_norm(tf_z2_bn,\n",
    "                                             decay=0.999,\n",
    "                                             center=True,\n",
    "                                             scale=True,\n",
    "                                             epsilon=0.0001,\n",
    "                                             activation_fn=tf.nn.sigmoid,\n",
    "                                             is_training=tf_is_training)\n",
    "    # layer 3\n",
    "    tf_W3_bn = tf.Variable(init(shape=[100, 10], dtype=tf.float32),\n",
    "                           name=\"W3_bn\")\n",
    "    tf_b3_bn = tf.Variable(init(shape=[10], dtype=tf.float32),\n",
    "                           name=\"b3_bn\")\n",
    "    \n",
    "    tf_z3 = tf.matmul(tf_l2, tf_W3_bn)+tf_b3_bn\n",
    "    tf_l3 = tf.nn.softmax(tf_z3)\n",
    "    predict_y_bn = tf.argmax(tf_l3, 1)\n",
    "    cross_entropy_bn = -tf.reduce_sum(tf_y_bn*tf.log(tf_l3))\n",
    "    train_op_bn = tf.train.GradientDescentOptimizer(learning_rate=0.01).minimize(cross_entropy_bn) "
   ]
  },
  {
   "cell_type": "code",
   "execution_count": 27,
   "metadata": {},
   "outputs": [
    {
     "name": "stdout",
     "output_type": "stream",
     "text": [
      "Iteration 1000:6.3033, Test Accuracy:70.21%\n",
      "Iteration 2000:2.2518, Test Accuracy:56.03%\n",
      "Iteration 3000:1.0217, Test Accuracy:75.30%\n",
      "Iteration 4000:0.7485, Test Accuracy:71.07%\n",
      "Iteration 5000:0.5084, Test Accuracy:78.12%\n",
      "Iteration 6000:0.3757, Test Accuracy:77.00%\n",
      "Iteration 7000:0.2930, Test Accuracy:77.39%\n",
      "Iteration 8000:0.4523, Test Accuracy:83.82%\n",
      "Iteration 9000:0.2309, Test Accuracy:81.81%\n",
      "Iteration 10000:0.1974, Test Accuracy:83.82%\n",
      "Iteration 11000:0.1065, Test Accuracy:85.27%\n",
      "Iteration 12000:0.0743, Test Accuracy:83.60%\n",
      "Iteration 13000:0.1439, Test Accuracy:85.66%\n",
      "Iteration 14000:0.0599, Test Accuracy:86.22%\n",
      "Iteration 15000:0.0836, Test Accuracy:85.20%\n",
      "Iteration 16000:0.0639, Test Accuracy:86.15%\n",
      "Iteration 17000:0.1716, Test Accuracy:85.47%\n",
      "Iteration 18000:0.0478, Test Accuracy:86.34%\n",
      "Iteration 19000:0.1419, Test Accuracy:86.39%\n",
      "Iteration 20000:0.0348, Test Accuracy:85.33%\n",
      "Iteration 21000:0.1298, Test Accuracy:86.13%\n",
      "Iteration 22000:0.0799, Test Accuracy:85.22%\n",
      "Iteration 23000:0.0466, Test Accuracy:85.11%\n",
      "Iteration 24000:0.0545, Test Accuracy:85.87%\n",
      "Iteration 25000:0.0325, Test Accuracy:86.01%\n",
      "Iteration 26000:0.0638, Test Accuracy:86.17%\n",
      "Iteration 27000:0.0598, Test Accuracy:86.77%\n",
      "Iteration 28000:0.0248, Test Accuracy:86.41%\n",
      "Iteration 29000:0.0404, Test Accuracy:86.20%\n",
      "Iteration 30000:0.0472, Test Accuracy:86.45%\n",
      "Iteration 31000:0.0552, Test Accuracy:85.98%\n",
      "Iteration 32000:0.0495, Test Accuracy:85.21%\n",
      "Iteration 33000:0.0435, Test Accuracy:85.17%\n",
      "Iteration 34000:0.0282, Test Accuracy:85.46%\n",
      "Iteration 35000:0.0531, Test Accuracy:86.05%\n",
      "Iteration 36000:0.0225, Test Accuracy:86.14%\n",
      "Iteration 37000:0.0365, Test Accuracy:85.93%\n",
      "Iteration 38000:0.0761, Test Accuracy:86.14%\n",
      "Iteration 39000:0.0315, Test Accuracy:86.64%\n",
      "Iteration 40000:0.0578, Test Accuracy:86.21%\n"
     ]
    }
   ],
   "source": [
    "loss_bn = [None for _ in range(n_iterations)]\n",
    "accuracy_bn = []\n",
    "\n",
    "with tf.Session(graph=graph_bn) as sess:\n",
    "    tf.global_variables_initializer().run()\n",
    "    for i in range(n_iterations):\n",
    "        # training\n",
    "        batch_images, batch_labels = mnist.train.next_batch(batch_size)\n",
    "        feed_dict = {tf_x_bn:batch_images, \n",
    "                     tf_y_bn:batch_labels,\n",
    "                     tf_is_training:True}\n",
    "        _ = sess.run(train_op_bn, feed_dict=feed_dict)\n",
    "        l = sess.run(cross_entropy_bn, feed_dict=feed_dict)\n",
    "        loss_bn[i] = l\n",
    "        if (i+1) % 1000 == 0:\n",
    "            # prediction\n",
    "            feed_dict[tf_x_bn] = mnist.test.images\n",
    "            feed_dict[tf_y_bn] = mnist.test.labels\n",
    "            feed_dict[tf_is_training] = False\n",
    "            predict_y = sess.run(predict_y_bn, feed_dict=feed_dict)\n",
    "            acc = compute_accuracy(predict_y, np.argmax(mnist.test.labels, axis=1))\n",
    "            accuracy_bn.append(acc)\n",
    "            print(\"Iteration {}:{:.4f}, Test Accuracy:{:.2f}%\".format(i+1, l, acc))"
   ]
  },
  {
   "cell_type": "code",
   "execution_count": 28,
   "metadata": {},
   "outputs": [
    {
     "data": {
      "text/plain": [
       "<matplotlib.legend.Legend at 0x7f1935330c88>"
      ]
     },
     "execution_count": 28,
     "metadata": {},
     "output_type": "execute_result"
    },
    {
     "data": {
      "image/png": "[encoded data removed]",
      "text/plain": [
       "<matplotlib.figure.Figure at 0x7f1918df9f98>"
      ]
     },
     "metadata": {},
     "output_type": "display_data"
    }
   ],
   "source": [
    "plt.title(\"Loss\")\n",
    "line_no_bn, = plt.plot(loss_no_bn[:400], \"r-\")\n",
    "line_bn, = plt.plot(loss_bn[:400], \"b-\")\n",
    "plt.legend([line_no_bn, line_bn], [\"Without BN\", \"With BN\"])"
   ]
  },
  {
   "cell_type": "code",
   "execution_count": 29,
   "metadata": {},
   "outputs": [
    {
     "data": {
      "text/plain": [
       "<matplotlib.legend.Legend at 0x7f1918fa7a90>"
      ]
     },
     "execution_count": 29,
     "metadata": {},
     "output_type": "execute_result"
    },
    {
     "data": {
      "image/png": "[encoded data removed]",
      "text/plain": [
       "<matplotlib.figure.Figure at 0x7f191665c128>"
      ]
     },
     "metadata": {},
     "output_type": "display_data"
    }
   ],
   "source": [
    "plt.title(\"Accuracy\")\n",
    "line_no_bn, = plt.plot(accuracy_no_bn, \"r-\")\n",
    "line_bn, = plt.plot(accuracy_bn, \"b-\")\n",
    "plt.legend([line_no_bn, line_bn], [\"Without BN\", \"With BN\"])"
   ]
  },
  {
   "cell_type": "code",
   "execution_count": null,
   "metadata": {
    "collapsed": true
   },
   "outputs": [],
   "source": []
  }
 ],
 "metadata": {
  "kernelspec": {
   "display_name": "Python 3",
   "language": "python",
   "name": "python3"
  },
  "language_info": {
   "codemirror_mode": {
    "name": "ipython",
    "version": 3
   },
   "file_extension": ".py",
   "mimetype": "text/x-python",
   "name": "python",
   "nbconvert_exporter": "python",
   "pygments_lexer": "ipython3",
   "version": "3.6.1"
  }
 },
 "nbformat": 4,
 "nbformat_minor": 2
}
