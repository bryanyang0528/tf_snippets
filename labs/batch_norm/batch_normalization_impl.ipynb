{
 "cells": [
  {
   "cell_type": "code",
   "execution_count": 7,
   "metadata": {
    "collapsed": true
   },
   "outputs": [],
   "source": [
    "%matplotlib inline\n",
    "from __future__ import print_function\n",
    "import matplotlib.pyplot as plt\n",
    "import numpy as np\n",
    "import tensorflow as tf\n",
    "from tensorflow.examples.tutorials.mnist import input_data\n",
    "from tensorflow.python.ops.init_ops import glorot_normal_initializer"
   ]
  },
  {
   "cell_type": "code",
   "execution_count": 8,
   "metadata": {},
   "outputs": [
    {
     "name": "stdout",
     "output_type": "stream",
     "text": [
      "Extracting ./data/train-images-idx3-ubyte.gz\n",
      "Extracting ./data/train-labels-idx1-ubyte.gz\n",
      "Extracting ./data/t10k-images-idx3-ubyte.gz\n",
      "Extracting ./data/t10k-labels-idx1-ubyte.gz\n"
     ]
    }
   ],
   "source": [
    "mnist = input_data.read_data_sets(\"./data/\", one_hot=True)"
   ]
  },
  {
   "cell_type": "code",
   "execution_count": 9,
   "metadata": {
    "collapsed": true
   },
   "outputs": [],
   "source": [
    "def batch_norm_layer(inputs, is_training=None, name=None, decay=0.999, epsilon=1e-5):\n",
    "    \"\"\"\n",
    "    Batch-Normalization Layer\n",
    "    \n",
    "    params\n",
    "    ======\n",
    "    - inputs: input Tensor\n",
    "    - name(Optional): name of the layer\n",
    "    - decay(Optional): decay rate of moving average of input moments\n",
    "    - epsilon(Optional): epsilon to advoid dividing by 0.\n",
    "    \n",
    "    returns\n",
    "    =======\n",
    "    - is_training: a placeholder of type tf.bool. If the value is `True`, the\n",
    "    layer will run in training phase, otherwise running in inference phase.\n",
    "    - outputs: batch normalized outputs\n",
    "    \"\"\"\n",
    "    if is_training is None:\n",
    "        is_training = tf.placeholder(tf.bool, name=\"is_training\")\n",
    "    \n",
    "    N_features = inputs.get_shape()[-1]\n",
    "    scale = tf.Variable(tf.ones(N_features), dtype=tf.float32, name=\"scale\")\n",
    "    offset = tf.Variable(tf.ones(N_features), dtype=tf.float32, name=\"offset\")\n",
    "    \n",
    "    moving_mean = tf.Variable(tf.zeros(N_features), \n",
    "                              trainable=False,\n",
    "                              name=\"moving_mean\")\n",
    "    moving_vars = tf.Variable(tf.ones(N_features),\n",
    "                              trainable=False,\n",
    "                              name=\"moving_vars\")\n",
    "    \n",
    "    def fn_inference(): \n",
    "        return tf.nn.batch_normalization(inputs,\n",
    "                                         moving_mean,\n",
    "                                         moving_vars,\n",
    "                                         offset,\n",
    "                                         scale,\n",
    "                                         epsilon)\n",
    "    \n",
    "    # Follow the recommanded implementation in this issue \n",
    "    # https://github.com/tensorflow/tensorflow/issues/3287\n",
    "    def fn_training():\n",
    "        inputs_mean, inputs_vars = tf.nn.moments(inputs, [0])\n",
    "        update_mean_op = tf.assign(moving_mean, decay*moving_mean+(1-decay)*inputs_mean)\n",
    "        update_vars_op = tf.assign(moving_vars, decay*moving_vars+(1-decay)*inputs_vars)\n",
    "        with tf.control_dependencies([update_mean_op, update_vars_op]):\n",
    "            train_outputs = tf.nn.batch_normalization(inputs, \n",
    "                                                      inputs_mean, \n",
    "                                                      inputs_vars,\n",
    "                                                      offset,\n",
    "                                                      scale,\n",
    "                                                      epsilon)\n",
    "        return train_outputs \n",
    "    \n",
    "    outputs = tf.cond(is_training, \n",
    "                      true_fn=fn_training, \n",
    "                      false_fn=fn_inference, \n",
    "                      name=name)\n",
    "    return outputs, is_training"
   ]
  },
  {
   "cell_type": "code",
   "execution_count": 10,
   "metadata": {
    "collapsed": true
   },
   "outputs": [],
   "source": [
    "np.random.seed(1111)\n",
    "w1_init = np.random.normal(size=(784, 100)).astype(np.float32)\n",
    "w2_init = np.random.normal(size=(100, 100)).astype(np.float32)\n",
    "w3_init = np.random.normal(size=(100, 10)).astype(np.float32)"
   ]
  },
  {
   "cell_type": "code",
   "execution_count": 11,
   "metadata": {
    "collapsed": true
   },
   "outputs": [],
   "source": [
    "graph_bn = tf.Graph()\n",
    "with graph_bn.as_default():\n",
    "    is_training = tf.placeholder(tf.bool)\n",
    "    x_ = tf.placeholder(tf.float32, shape=[None, 784])\n",
    "    y_ = tf.placeholder(tf.float32, shape=[None, 10])\n",
    "    \n",
    "    # layer 1\n",
    "    W1 = tf.Variable(w1_init, dtype=tf.float32)\n",
    "    z1 = tf.matmul(x_, W1)\n",
    "    a1, _ = batch_norm_layer(z1, is_training)\n",
    "    l1 = tf.nn.sigmoid(a1)\n",
    "    \n",
    "    # layer 2\n",
    "    W2 = tf.Variable(w2_init, dtype=tf.float32)\n",
    "    z2 = tf.matmul(l1, W2)\n",
    "    a2, _ = batch_norm_layer(z2, is_training)\n",
    "    l2 = tf.nn.sigmoid(a2)\n",
    "    \n",
    "    # layer 3\n",
    "    W3 = tf.Variable(w3_init, dtype=tf.float32)\n",
    "    z3 = tf.matmul(l2, W3)\n",
    "    y = tf.nn.softmax(z3)\n",
    "    predict = tf.argmax(y, 1)\n",
    "    \n",
    "    cross_entropy = -tf.reduce_sum(y_*tf.log(y))\n",
    "    train_op = tf.train.GradientDescentOptimizer(learning_rate=0.01).minimize(cross_entropy)"
   ]
  },
  {
   "cell_type": "code",
   "execution_count": 12,
   "metadata": {
    "collapsed": true
   },
   "outputs": [],
   "source": [
    "def comput_accuracy(y1, y2):\n",
    "    return (y1 == y2).mean()"
   ]
  },
  {
   "cell_type": "code",
   "execution_count": 13,
   "metadata": {},
   "outputs": [
    {
     "name": "stdout",
     "output_type": "stream",
     "text": [
      "Iteration 1000: loss 26.6447, test acuuracy 56.75%\n",
      "Iteration 2000: loss 4.4600, test acuuracy 83.59%\n",
      "Iteration 3000: loss 49.0188, test acuuracy 90.79%\n",
      "Iteration 4000: loss 8.7985, test acuuracy 91.46%\n",
      "Iteration 5000: loss 5.3445, test acuuracy 92.58%\n",
      "Iteration 6000: loss 14.9997, test acuuracy 93.18%\n",
      "Iteration 7000: loss 11.6627, test acuuracy 93.47%\n",
      "Iteration 8000: loss 6.1515, test acuuracy 94.39%\n",
      "Iteration 9000: loss 8.7266, test acuuracy 94.53%\n",
      "Iteration 10000: loss 4.8877, test acuuracy 94.92%\n",
      "Iteration 11000: loss 13.8057, test acuuracy 94.90%\n",
      "Iteration 12000: loss 18.0191, test acuuracy 95.33%\n",
      "Iteration 13000: loss 18.6524, test acuuracy 95.46%\n",
      "Iteration 14000: loss 4.1653, test acuuracy 95.75%\n",
      "Iteration 15000: loss 9.9342, test acuuracy 95.91%\n",
      "Iteration 16000: loss 4.4011, test acuuracy 95.85%\n",
      "Iteration 17000: loss 8.8409, test acuuracy 95.84%\n",
      "Iteration 18000: loss 1.8412, test acuuracy 95.92%\n",
      "Iteration 19000: loss 3.9005, test acuuracy 96.10%\n",
      "Iteration 20000: loss 13.6803, test acuuracy 95.91%\n",
      "Iteration 21000: loss 2.5728, test acuuracy 96.35%\n",
      "Iteration 22000: loss 2.9278, test acuuracy 96.16%\n",
      "Iteration 23000: loss 4.9645, test acuuracy 96.33%\n",
      "Iteration 24000: loss 3.3473, test acuuracy 96.08%\n",
      "Iteration 25000: loss 1.7223, test acuuracy 96.42%\n",
      "Iteration 26000: loss 4.4918, test acuuracy 96.57%\n",
      "Iteration 27000: loss 2.3854, test acuuracy 96.49%\n",
      "Iteration 28000: loss 1.1126, test acuuracy 96.59%\n",
      "Iteration 29000: loss 3.6955, test acuuracy 96.58%\n",
      "Iteration 30000: loss 2.8035, test acuuracy 96.39%\n",
      "Iteration 31000: loss 2.2897, test acuuracy 96.61%\n",
      "Iteration 32000: loss 0.6771, test acuuracy 96.68%\n",
      "Iteration 33000: loss 2.4390, test acuuracy 96.65%\n",
      "Iteration 34000: loss 0.5218, test acuuracy 96.96%\n",
      "Iteration 35000: loss 0.9761, test acuuracy 96.96%\n",
      "Iteration 36000: loss 6.4069, test acuuracy 96.58%\n",
      "Iteration 37000: loss 4.6520, test acuuracy 96.49%\n",
      "Iteration 38000: loss 2.5347, test acuuracy 96.78%\n",
      "Iteration 39000: loss 4.6101, test acuuracy 96.73%\n",
      "Iteration 40000: loss 8.0903, test acuuracy 96.75%\n"
     ]
    }
   ],
   "source": [
    "n_iterations = 40000\n",
    "batch_size = 50\n",
    "\n",
    "losses_bn = [None for _ in range(n_iterations)]\n",
    "accuracy_bn = []\n",
    "\n",
    "with tf.Session(graph=graph_bn) as sess:\n",
    "    tf.global_variables_initializer().run()\n",
    "    \n",
    "    for step in range(n_iterations):\n",
    "        train_image, train_labels = mnist.train.next_batch(batch_size)\n",
    "        feed_dict = { x_:train_image,\n",
    "                      y_:train_labels,\n",
    "                      is_training:True}\n",
    "        _, l = sess.run([train_op, cross_entropy], feed_dict=feed_dict)\n",
    "        losses_bn[step] = l\n",
    "        if (step+1) % 1000 == 0:\n",
    "            feed_dict[x_] = mnist.test.images\n",
    "            feed_dict[y_] = mnist.test.labels\n",
    "            feed_dict[is_training] = False\n",
    "            pred = sess.run(predict, feed_dict=feed_dict)\n",
    "            acc = comput_accuracy(pred, np.argmax(mnist.test.labels, 1))\n",
    "            accuracy_bn.append(acc)\n",
    "            print(\"Iteration {}: loss {:.4f}, test acuuracy {:.2f}%\".format(step+1, l, acc*100))"
   ]
  },
  {
   "cell_type": "code",
   "execution_count": 21,
   "metadata": {},
   "outputs": [],
   "source": [
    "# network without batch normalization\n",
    "graph_no_bn = tf.Graph()\n",
    "\n",
    "with graph_no_bn.as_default():\n",
    "    x_ = tf.placeholder(dtype=tf.float32, \n",
    "                        shape=[None, 784])\n",
    "    y_ = tf.placeholder(dtype=tf.float32, \n",
    "                        shape=[None, 10])\n",
    "    \n",
    "    # fully connected layer 1\n",
    "    W1_no_bn = tf.Variable(w1_init,\n",
    "                           dtype=tf.float32)\n",
    "    b1_no_bn = tf.Variable(np.zeros(w1_init.shape[-1]),\n",
    "                           dtype=tf.float32)\n",
    "    z1_no_bn = tf.matmul(x_, W1_no_bn)+b1_no_bn\n",
    "    l1_no_bn = tf.nn.sigmoid(z1_no_bn)\n",
    "    \n",
    "    # fully connected layer 2\n",
    "    W2_no_bn = tf.Variable(w2_init, \n",
    "                           dtype=tf.float32)\n",
    "    b2_no_bn = tf.Variable(np.zeros(w2_init.shape[-1]),\n",
    "                           dtype=tf.float32)\n",
    "    z2_no_bn = tf.matmul(l1_no_bn, W2_no_bn)+b2_no_bn\n",
    "    l2_no_bn = tf.nn.sigmoid(z2_no_bn)\n",
    "    \n",
    "    # fully connect layer 3\n",
    "    W3_no_bn = tf.Variable(w3_init,\n",
    "                           dtype=tf.float32)\n",
    "    b3_no_bn = tf.Variable(np.zeros(w3_init.shape[-1]),\n",
    "                           dtype=tf.float32)\n",
    "    l3_no_bn = tf.matmul(l2_no_bn, W3_no_bn)+b3_no_bn\n",
    "    \n",
    "    y_hat_no_bn = tf.nn.softmax(l3_no_bn)\n",
    "    predict = tf.argmax(l3_no_bn, 1)\n",
    "    \n",
    "    loss = -tf.reduce_sum(y_*tf.log(y_hat_no_bn))\n",
    "    train_op = tf.train.GradientDescentOptimizer(learning_rate=0.01).minimize(loss)"
   ]
  },
  {
   "cell_type": "code",
   "execution_count": 22,
   "metadata": {},
   "outputs": [
    {
     "name": "stdout",
     "output_type": "stream",
     "text": [
      "Iteration 1000: loss 31.2202, test acuuracy 86.40%\n",
      "Iteration 2000: loss 9.9323, test acuuracy 89.18%\n",
      "Iteration 3000: loss 14.9617, test acuuracy 90.91%\n",
      "Iteration 4000: loss 3.5479, test acuuracy 91.83%\n",
      "Iteration 5000: loss 22.7265, test acuuracy 92.30%\n",
      "Iteration 6000: loss 1.7068, test acuuracy 93.08%\n",
      "Iteration 7000: loss 18.0834, test acuuracy 93.11%\n",
      "Iteration 8000: loss 3.1750, test acuuracy 93.54%\n",
      "Iteration 9000: loss 7.9203, test acuuracy 93.74%\n",
      "Iteration 10000: loss 7.8232, test acuuracy 93.75%\n",
      "Iteration 11000: loss 3.7045, test acuuracy 94.05%\n",
      "Iteration 12000: loss 4.9649, test acuuracy 94.25%\n",
      "Iteration 13000: loss 11.1450, test acuuracy 94.26%\n",
      "Iteration 14000: loss 3.1446, test acuuracy 94.31%\n",
      "Iteration 15000: loss 2.3116, test acuuracy 94.28%\n",
      "Iteration 16000: loss 3.1850, test acuuracy 94.51%\n",
      "Iteration 17000: loss 13.6347, test acuuracy 94.50%\n",
      "Iteration 18000: loss 2.7835, test acuuracy 94.40%\n",
      "Iteration 19000: loss 1.4563, test acuuracy 94.68%\n",
      "Iteration 20000: loss 2.2625, test acuuracy 94.70%\n",
      "Iteration 21000: loss 0.2508, test acuuracy 94.73%\n",
      "Iteration 22000: loss 0.2631, test acuuracy 94.75%\n",
      "Iteration 23000: loss 1.1229, test acuuracy 94.86%\n",
      "Iteration 24000: loss 12.0903, test acuuracy 94.85%\n",
      "Iteration 25000: loss 6.7915, test acuuracy 94.84%\n",
      "Iteration 26000: loss 3.4568, test acuuracy 95.01%\n",
      "Iteration 27000: loss 0.6496, test acuuracy 95.02%\n",
      "Iteration 28000: loss 1.0214, test acuuracy 94.84%\n",
      "Iteration 29000: loss 2.3317, test acuuracy 94.78%\n",
      "Iteration 30000: loss 1.8931, test acuuracy 94.95%\n",
      "Iteration 31000: loss 1.2498, test acuuracy 94.85%\n",
      "Iteration 32000: loss 1.0090, test acuuracy 95.00%\n",
      "Iteration 33000: loss 0.2558, test acuuracy 95.07%\n",
      "Iteration 34000: loss 1.1526, test acuuracy 95.07%\n",
      "Iteration 35000: loss 0.7158, test acuuracy 95.07%\n",
      "Iteration 36000: loss 0.4822, test acuuracy 95.15%\n",
      "Iteration 37000: loss 0.8339, test acuuracy 95.06%\n",
      "Iteration 38000: loss 1.5819, test acuuracy 94.92%\n",
      "Iteration 39000: loss 1.1879, test acuuracy 95.14%\n",
      "Iteration 40000: loss 0.2503, test acuuracy 95.11%\n"
     ]
    }
   ],
   "source": [
    "n_iterations = 40000\n",
    "batch_size = 50\n",
    "\n",
    "losses = [None for _ in range(n_iterations)]\n",
    "accuracy = []\n",
    "\n",
    "with tf.Session(graph=graph_no_bn) as sess:\n",
    "    tf.global_variables_initializer().run()\n",
    "    \n",
    "    for step in range(n_iterations):\n",
    "        train_image, train_labels = mnist.train.next_batch(batch_size)\n",
    "        feed_dict = { x_:train_image,\n",
    "                      y_:train_labels}\n",
    "        _, l = sess.run([train_op, loss], feed_dict=feed_dict)\n",
    "        losses[step] = l\n",
    "        if (step+1) % 1000 == 0:\n",
    "            feed_dict[x_] = mnist.test.images\n",
    "            feed_dict[y_] = mnist.test.labels\n",
    "            pred = sess.run(predict, feed_dict=feed_dict)\n",
    "            acc = comput_accuracy(pred, np.argmax(mnist.test.labels, 1))\n",
    "            accuracy.append(acc)\n",
    "            print(\"Iteration {}: loss {:.4f}, test acuuracy {:.2f}%\".format(step+1, l, acc*100))"
   ]
  },
  {
   "cell_type": "code",
   "execution_count": 23,
   "metadata": {},
   "outputs": [
    {
     "data": {
      "text/plain": [
       "40000"
      ]
     },
     "execution_count": 23,
     "metadata": {},
     "output_type": "execute_result"
    }
   ],
   "source": [
    "len(losses_bn)"
   ]
  },
  {
   "cell_type": "code",
   "execution_count": 29,
   "metadata": {},
   "outputs": [
    {
     "data": {
      "text/plain": [
       "40"
      ]
     },
     "execution_count": 29,
     "metadata": {},
     "output_type": "execute_result"
    }
   ],
   "source": [
    "len(accuracy)"
   ]
  },
  {
   "cell_type": "code",
   "execution_count": 28,
   "metadata": {},
   "outputs": [
    {
     "data": {
      "image/png": "[encoded data removed]",
      "text/plain": [
       "<matplotlib.figure.Figure at 0x7f293d785080>"
      ]
     },
     "metadata": {},
     "output_type": "display_data"
    }
   ],
   "source": [
    "plt.subplot(1, 2, 1)\n",
    "plt.plot(losses_bn, 'b-', label=\"batch norm\")\n",
    "plt.plot(losses, \"r-\", label=\"without batch norm\")\n",
    "plt.ylabel(\"loss\")\n",
    "plt.xlabel(\"iterations\")\n",
    "plt.legend()\n",
    "\n",
    "plt.subplot(1, 2, 2)\n",
    "x_range = np.arange(0, 40000, 1000)\n",
    "plt.plot(x_range, accuracy_bn, '-b', label=\"batch norm\")\n",
    "plt.plot(x_range, accuracy, \"-r\", label=\"without batch norm\")\n",
    "plt.ylabel(\"test accuracy\")\n",
    "plt.xlabel(\"iterations\")\n",
    "plt.legend()\n",
    "\n",
    "plt.tight_layout()\n",
    "fig = plt.gcf().set_size_inches((13, 3.5))"
   ]
  },
  {
   "cell_type": "code",
   "execution_count": null,
   "metadata": {
    "collapsed": true
   },
   "outputs": [],
   "source": []
  }
 ],
 "metadata": {
  "kernelspec": {
   "display_name": "Python 3",
   "language": "python",
   "name": "python3"
  },
  "language_info": {
   "codemirror_mode": {
    "name": "ipython",
    "version": 3
   },
   "file_extension": ".py",
   "mimetype": "text/x-python",
   "name": "python",
   "nbconvert_exporter": "python",
   "pygments_lexer": "ipython3",
   "version": "3.6.1"
  }
 },
 "nbformat": 4,
 "nbformat_minor": 2
}
