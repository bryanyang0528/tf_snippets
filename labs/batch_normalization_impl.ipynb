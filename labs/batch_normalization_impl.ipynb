{
 "cells": [
  {
   "cell_type": "code",
   "execution_count": 1,
   "metadata": {},
   "outputs": [],
   "source": [
    "%matplotlib inline\n",
    "from __future__ import print_function\n",
    "import matplotlib.pyplot as plt\n",
    "import numpy as np\n",
    "import tensorflow as tf\n",
    "from tensorflow.examples.tutorials.mnist import input_data"
   ]
  },
  {
   "cell_type": "code",
   "execution_count": 2,
   "metadata": {},
   "outputs": [
    {
     "name": "stdout",
     "output_type": "stream",
     "text": [
      "Extracting ./data/train-images-idx3-ubyte.gz\n",
      "Extracting ./data/train-labels-idx1-ubyte.gz\n",
      "Extracting ./data/t10k-images-idx3-ubyte.gz\n",
      "Extracting ./data/t10k-labels-idx1-ubyte.gz\n"
     ]
    }
   ],
   "source": [
    "mnist = input_data.read_data_sets(\"./data/\", one_hot=True)"
   ]
  },
  {
   "cell_type": "code",
   "execution_count": 3,
   "metadata": {
    "collapsed": true
   },
   "outputs": [],
   "source": [
    "def batch_norm_layer(inputs, is_training=None, name=None, decay=0.999, epsilon=1e-5):\n",
    "    \"\"\"\n",
    "    Batch-Normalization Layer\n",
    "    \n",
    "    params\n",
    "    ======\n",
    "    - inputs: input Tensor\n",
    "    - name(Optional): name of the layer\n",
    "    - decay(Optional): decay rate of moving average of input moments\n",
    "    - epsilon(Optional): epsilon to advoid dividing by 0.\n",
    "    \n",
    "    returns\n",
    "    =======\n",
    "    - is_training: a placeholder of type tf.bool. If the value is `True`, the\n",
    "    layer will run in training phase, otherwise running in inference phase.\n",
    "    - outputs: batch normalized outputs\n",
    "    \"\"\"\n",
    "    if is_training is None:\n",
    "        is_training = tf.placeholder(tf.bool, name=\"is_training\")\n",
    "    \n",
    "    N_features = inputs.get_shape()[-1]\n",
    "    scale = tf.Variable(tf.ones(N_features), dtype=tf.float32, name=\"scale\")\n",
    "    offset = tf.Variable(tf.ones(N_features), dtype=tf.float32, name=\"offset\")\n",
    "    \n",
    "    moving_mean = tf.Variable(tf.zeros(N_features), \n",
    "                              trainable=False,\n",
    "                              name=\"moving_mean\")\n",
    "    moving_vars = tf.Variable(tf.ones(N_features),\n",
    "                              trainable=False,\n",
    "                              name=\"moving_vars\")\n",
    "    \n",
    "    def fn_inference(): \n",
    "        return tf.nn.batch_normalization(inputs,\n",
    "                                         moving_mean,\n",
    "                                         moving_vars,\n",
    "                                         offset,\n",
    "                                         scale,\n",
    "                                         epsilon)\n",
    "    \n",
    "    # Follow the recommanded implementation in this issue \n",
    "    # https://github.com/tensorflow/tensorflow/issues/3287\n",
    "    def fn_training():\n",
    "        inputs_mean, inputs_vars = tf.nn.moments(inputs, 1)\n",
    "        update_mean_op = tf.assign(moving_mean, decay*moving_mean+(1-decay)*inputs_mean)\n",
    "        update_vars_op = tf.assign(moving_vars, decay*moving_vars+(1-decay)*inputs_vars)\n",
    "        with tf.control_dependencies([update_mean_op, update_vars_op]):\n",
    "            train_outputs = tf.nn.batch_normalization(inputs, \n",
    "                                                      inputs_mean, \n",
    "                                                      inputs_vars,\n",
    "                                                      offset,\n",
    "                                                      scale,\n",
    "                                                      epsilon)\n",
    "        return train_outputs \n",
    "    \n",
    "    outputs = tf.cond(is_training, \n",
    "                      true_fn=fn_training, \n",
    "                      false_fn=fn_inference, \n",
    "                      name=name)\n",
    "    return outputs, is_training"
   ]
  },
  {
   "cell_type": "code",
   "execution_count": 4,
   "metadata": {},
   "outputs": [],
   "source": [
    "graph = tf.Graph()\n",
    "with graph.as_default():\n",
    "    is_training = tf.placeholder(tf.bool)\n",
    "    x_ = tf.placeholder(tf.float32, shape=[None, 784])\n",
    "    y_ = tf.placeholder(tf.float32, shape=[None, 10])\n",
    "    \n",
    "    # layer 1\n",
    "    W1 = tf.Variable(np.random.randn(784, 100), dtype=tf.float32)\n",
    "    z1 = tf.matmul(x_, W1)\n",
    "    a1, _ = batch_norm_layer(z1, is_training)\n",
    "    l1 = tf.nn.sigmoid(a1)\n",
    "    \n",
    "    # layer 2\n",
    "    W2 = tf.Variable(np.random.randn(100, 100), dtype=tf.float32)\n",
    "    z2 = tf.matmul(l1, W2)\n",
    "    a2, _ = batch_norm_layer(z2, is_training)\n",
    "    l2 = tf.nn.sigmoid(a2)\n",
    "    \n",
    "    # layer 3\n",
    "    W3 = tf.Variable(np.random.randn(100, 10), dtype=tf.float32)\n",
    "    z3 = tf.matmul(l2, W3)\n",
    "    y = tf.nn.softmax(z3)\n",
    "    predict = tf.arg_max(y, 1)\n",
    "    \n",
    "    cross_entropy = -tf.reduce_sum(y_*tf.log(y))\n",
    "    train_op = tf.train.GradientDescentOptimizer(learning_rate=0.01).minimize(cross_entropy)"
   ]
  },
  {
   "cell_type": "code",
   "execution_count": 5,
   "metadata": {
    "collapsed": true
   },
   "outputs": [],
   "source": [
    "def comput_accuracy(y1, y2):\n",
    "    return (y1 == y2).mean()"
   ]
  },
  {
   "cell_type": "code",
   "execution_count": 6,
   "metadata": {},
   "outputs": [
    {
     "name": "stdout",
     "output_type": "stream",
     "text": [
      "Iteration 1000: loss 34.276390075683594, acuuracy 89.69%\n",
      "Iteration 2000: loss 38.356964111328125, acuuracy 92.16%\n",
      "Iteration 3000: loss 28.345413208007812, acuuracy 93.62%\n",
      "Iteration 4000: loss 14.757301330566406, acuuracy 94.43%\n",
      "Iteration 5000: loss 27.518741607666016, acuuracy 94.53%\n",
      "Iteration 6000: loss 23.262929916381836, acuuracy 95.45%\n",
      "Iteration 7000: loss 37.20282745361328, acuuracy 95.39%\n",
      "Iteration 8000: loss 6.962925434112549, acuuracy 95.44%\n",
      "Iteration 9000: loss 9.383466720581055, acuuracy 95.91%\n",
      "Iteration 10000: loss 11.802200317382812, acuuracy 96.13%\n",
      "Iteration 11000: loss 6.6444807052612305, acuuracy 96.30%\n",
      "Iteration 12000: loss 1.885927438735962, acuuracy 96.26%\n",
      "Iteration 13000: loss 9.867752075195312, acuuracy 96.24%\n",
      "Iteration 14000: loss 26.750812530517578, acuuracy 96.30%\n",
      "Iteration 15000: loss 9.424698829650879, acuuracy 96.39%\n",
      "Iteration 16000: loss 5.705284118652344, acuuracy 96.65%\n",
      "Iteration 17000: loss 6.705729961395264, acuuracy 96.33%\n",
      "Iteration 18000: loss 3.5177969932556152, acuuracy 96.67%\n",
      "Iteration 19000: loss 3.0344860553741455, acuuracy 96.47%\n",
      "Iteration 20000: loss 9.067336082458496, acuuracy 96.47%\n",
      "Iteration 21000: loss 2.5094549655914307, acuuracy 96.64%\n",
      "Iteration 22000: loss 4.9026079177856445, acuuracy 96.69%\n",
      "Iteration 23000: loss 4.73012638092041, acuuracy 96.75%\n",
      "Iteration 24000: loss 15.383496284484863, acuuracy 96.54%\n",
      "Iteration 25000: loss 11.882156372070312, acuuracy 96.63%\n",
      "Iteration 26000: loss 2.6085357666015625, acuuracy 96.71%\n",
      "Iteration 27000: loss 1.275833249092102, acuuracy 96.73%\n",
      "Iteration 28000: loss 5.661369800567627, acuuracy 96.58%\n",
      "Iteration 29000: loss 3.33103609085083, acuuracy 96.58%\n",
      "Iteration 30000: loss 6.7109055519104, acuuracy 96.59%\n",
      "Iteration 31000: loss 0.9708436727523804, acuuracy 96.66%\n",
      "Iteration 32000: loss 3.05208158493042, acuuracy 96.75%\n",
      "Iteration 33000: loss 1.234938144683838, acuuracy 96.61%\n",
      "Iteration 34000: loss 1.5302627086639404, acuuracy 96.57%\n",
      "Iteration 35000: loss 2.1592540740966797, acuuracy 96.69%\n",
      "Iteration 36000: loss 0.6387554407119751, acuuracy 96.70%\n",
      "Iteration 37000: loss 0.8728621006011963, acuuracy 96.61%\n",
      "Iteration 38000: loss 1.2359501123428345, acuuracy 96.63%\n",
      "Iteration 39000: loss 0.602515459060669, acuuracy 96.65%\n",
      "Iteration 40000: loss 1.3048086166381836, acuuracy 96.69%\n"
     ]
    }
   ],
   "source": [
    "n_iterations = 40000\n",
    "batch_size = 100\n",
    "\n",
    "losses = [None for _ in range(n_iterations)]\n",
    "accuracy = []\n",
    "\n",
    "with tf.Session(graph=graph) as sess:\n",
    "    tf.global_variables_initializer().run()\n",
    "    \n",
    "    for step in range(n_iterations):\n",
    "        train_image, train_labels = mnist.train.next_batch(batch_size)\n",
    "        feed_dict = { x_:train_image,\n",
    "                      y_:train_labels,\n",
    "                      is_training:True}\n",
    "        _, l = sess.run([train_op, cross_entropy], feed_dict=feed_dict)\n",
    "        losses[step] = l\n",
    "        if (step+1) % 1000 == 0:\n",
    "            feed_dict[x_] = mnist.test.images\n",
    "            feed_dict[y_] = mnist.test.labels\n",
    "            feed_dict[is_training] = False\n",
    "            pred = sess.run(predict, feed_dict=feed_dict)\n",
    "            acc = comput_accuracy(pred, np.argmax(mnist.test.labels, 1))\n",
    "            accuracy.append(acc)\n",
    "            print(\"Iteration {}: loss {}, acuuracy {:.2f}%\".format(step+1, l, acc*100))"
   ]
  },
  {
   "cell_type": "code",
   "execution_count": 7,
   "metadata": {},
   "outputs": [
    {
     "data": {
      "text/plain": [
       "[<matplotlib.lines.Line2D at 0x118e13160>]"
      ]
     },
     "execution_count": 7,
     "metadata": {},
     "output_type": "execute_result"
    },
    {
     "data": {
      "image/png": "[encoded data removed]",
      "text/plain": [
       "<matplotlib.figure.Figure at 0x118e13470>"
      ]
     },
     "metadata": {},
     "output_type": "display_data"
    }
   ],
   "source": [
    "plt.title(\"Loss with Batch Normalization\")\n",
    "plt.plot(losses, \"r-\")"
   ]
  },
  {
   "cell_type": "code",
   "execution_count": 8,
   "metadata": {},
   "outputs": [
    {
     "data": {
      "text/plain": [
       "[<matplotlib.lines.Line2D at 0x122ab8860>]"
      ]
     },
     "execution_count": 8,
     "metadata": {},
     "output_type": "execute_result"
    },
    {
     "data": {
      "image/png": "[encoded data removed]",
      "text/plain": [
       "<matplotlib.figure.Figure at 0x122b3c940>"
      ]
     },
     "metadata": {},
     "output_type": "display_data"
    }
   ],
   "source": [
    "plt.title(\"Accuracy Over Time\")\n",
    "plt.plot(accuracy, \"b-\")"
   ]
  },
  {
   "cell_type": "code",
   "execution_count": null,
   "metadata": {
    "collapsed": true
   },
   "outputs": [],
   "source": []
  }
 ],
 "metadata": {
  "kernelspec": {
   "display_name": "Python 3",
   "language": "python",
   "name": "python3"
  },
  "language_info": {
   "codemirror_mode": {
    "name": "ipython",
    "version": 3
   },
   "file_extension": ".py",
   "mimetype": "text/x-python",
   "name": "python",
   "nbconvert_exporter": "python",
   "pygments_lexer": "ipython3",
   "version": "3.6.1"
  }
 },
 "nbformat": 4,
 "nbformat_minor": 2
}
