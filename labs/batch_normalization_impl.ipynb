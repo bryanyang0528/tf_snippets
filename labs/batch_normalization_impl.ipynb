{
 "cells": [
  {
   "cell_type": "code",
   "execution_count": 1,
   "metadata": {
    "collapsed": true
   },
   "outputs": [],
   "source": [
    "%matplotlib inline\n",
    "from __future__ import print_function\n",
    "import matplotlib.pyplot as plt\n",
    "import numpy as np\n",
    "import tensorflow as tf\n",
    "from tensorflow.examples.tutorials.mnist import input_data"
   ]
  },
  {
   "cell_type": "code",
   "execution_count": 2,
   "metadata": {},
   "outputs": [
    {
     "name": "stdout",
     "output_type": "stream",
     "text": [
      "Extracting ./data/train-images-idx3-ubyte.gz\n",
      "Extracting ./data/train-labels-idx1-ubyte.gz\n",
      "Extracting ./data/t10k-images-idx3-ubyte.gz\n",
      "Extracting ./data/t10k-labels-idx1-ubyte.gz\n"
     ]
    }
   ],
   "source": [
    "mnist = input_data.read_data_sets(\"./data/\", one_hot=True)"
   ]
  },
  {
   "cell_type": "code",
   "execution_count": 20,
   "metadata": {
    "collapsed": true
   },
   "outputs": [],
   "source": [
    "def batch_norm_layer(inputs, is_training=None, name=None, decay=0.999, epsilon=1e-5):\n",
    "    \"\"\"\n",
    "    Batch-Normalization Layer\n",
    "    \n",
    "    params\n",
    "    ======\n",
    "    - inputs: input Tensor\n",
    "    - name(Optional): name of the layer\n",
    "    - decay(Optional): decay rate of moving average of input moments\n",
    "    - epsilon(Optional): epsilon to advoid dividing by 0.\n",
    "    \n",
    "    returns\n",
    "    =======\n",
    "    - is_training: a placeholder of type tf.bool. If the value is `True`, the\n",
    "    layer will run in training phase, otherwise running in inference phase.\n",
    "    - outputs: batch normalized outputs\n",
    "    \"\"\"\n",
    "    if is_training is None:\n",
    "        is_training = tf.placeholder(tf.bool, name=\"is_training\")\n",
    "    \n",
    "    N_features = inputs.get_shape()[-1]\n",
    "    scale = tf.Variable(tf.ones(N_features), dtype=tf.float32, name=\"scale\")\n",
    "    offset = tf.Variable(tf.ones(N_features), dtype=tf.float32, name=\"offset\")\n",
    "    \n",
    "    moving_mean = tf.Variable(tf.zeros(N_features), \n",
    "                              trainable=False,\n",
    "                              name=\"moving_mean\")\n",
    "    moving_vars = tf.Variable(tf.ones(N_features),\n",
    "                              trainable=False,\n",
    "                              name=\"moving_vars\")\n",
    "    inference_outputs = tf.nn.batch_normalization(inputs,\n",
    "                                                  moving_mean,\n",
    "                                                  moving_vars,\n",
    "                                                  offset,\n",
    "                                                  scale,\n",
    "                                                  epsilon)\n",
    "    fn_inference = lambda: inference_outputs\n",
    "    \n",
    "    # According to this issue https://github.com/tensorflow/tensorflow/issues/3287\n",
    "    # I have to use nonlocal here, sorry about that....\n",
    "    train_outputs = None\n",
    "    def fn_training():\n",
    "        inputs_mean, inputs_vars = tf.nn.moments(inputs, 1)\n",
    "        update_mean_op = tf.assign(moving_mean, decay*moving_mean+(1-decay)*inputs_mean)\n",
    "        update_vars_op = tf.assign(moving_vars, decay*moving_vars+(1-decay)*inputs_vars)\n",
    "        \n",
    "        nonlocal train_outputs # I know it's ugly....\n",
    "        if train_outputs is None:\n",
    "            train_outputs = tf.nn.batch_normalization(inputs, \n",
    "                                                      inputs_mean, \n",
    "                                                      inputs_vars,\n",
    "                                                      offset,\n",
    "                                                      scale,\n",
    "                                                      epsilon)\n",
    "        with tf.control_dependencies([update_mean_op, update_vars_op]):\n",
    "            return tf.identity(train_outputs)\n",
    "    \n",
    "    outputs = tf.cond(is_training, \n",
    "                      true_fn=fn_training, \n",
    "                      false_fn=fn_inference, \n",
    "                      name=name)\n",
    "    return outputs, is_training"
   ]
  },
  {
   "cell_type": "code",
   "execution_count": 21,
   "metadata": {},
   "outputs": [],
   "source": [
    "graph = tf.Graph()\n",
    "with graph.as_default():\n",
    "    is_training = tf.placeholder(tf.bool)\n",
    "    x_ = tf.placeholder(tf.float32, shape=[None, 784])\n",
    "    y_ = tf.placeholder(tf.float32, shape=[None, 10])\n",
    "    \n",
    "    # layer 1\n",
    "    W1 = tf.Variable(np.random.randn(784, 100), dtype=tf.float32)\n",
    "    z1 = tf.matmul(x_, W1)\n",
    "    a1, _ = batch_norm_layer(z1, is_training)\n",
    "    l1 = tf.nn.sigmoid(a1)\n",
    "    \n",
    "    # layer 2\n",
    "    W2 = tf.Variable(np.random.randn(100, 100), dtype=tf.float32)\n",
    "    z2 = tf.matmul(l1, W2)\n",
    "    a2, _ = batch_norm_layer(z2, is_training)\n",
    "    l2 = tf.nn.sigmoid(a2)\n",
    "    \n",
    "    # layer 3\n",
    "    W3 = tf.Variable(np.random.randn(100, 10), dtype=tf.float32)\n",
    "    z3 = tf.matmul(l2, W3)\n",
    "    y = tf.nn.softmax(z3)\n",
    "    predict = tf.arg_max(y, 1)\n",
    "    \n",
    "    cross_entropy = -tf.reduce_sum(y_*tf.log(y))\n",
    "    train_op = tf.train.GradientDescentOptimizer(learning_rate=0.01).minimize(cross_entropy)"
   ]
  },
  {
   "cell_type": "code",
   "execution_count": 22,
   "metadata": {
    "collapsed": true
   },
   "outputs": [],
   "source": [
    "def comput_accuracy(y1, y2):\n",
    "    return (y1 == y2).mean()"
   ]
  },
  {
   "cell_type": "code",
   "execution_count": 24,
   "metadata": {},
   "outputs": [
    {
     "name": "stdout",
     "output_type": "stream",
     "text": [
      "Iteration 1000: 28.186695098876953 0.90\n",
      "Iteration 2000: 22.22321128845215 0.93\n",
      "Iteration 3000: 29.63637924194336 0.93\n",
      "Iteration 4000: 27.688053131103516 0.94\n",
      "Iteration 5000: 16.16019058227539 0.95\n",
      "Iteration 6000: 10.750244140625 0.95\n",
      "Iteration 7000: 12.212532043457031 0.96\n",
      "Iteration 8000: 9.809295654296875 0.96\n",
      "Iteration 9000: 10.357383728027344 0.96\n",
      "Iteration 10000: 10.009647369384766 0.96\n",
      "Iteration 11000: 3.888364553451538 0.96\n",
      "Iteration 12000: 16.899858474731445 0.96\n",
      "Iteration 13000: 4.445891380310059 0.96\n",
      "Iteration 14000: 2.782381057739258 0.96\n",
      "Iteration 15000: 4.800086498260498 0.97\n",
      "Iteration 16000: 12.765398025512695 0.96\n",
      "Iteration 17000: 3.614741802215576 0.97\n",
      "Iteration 18000: 6.137696266174316 0.97\n",
      "Iteration 19000: 3.7870848178863525 0.97\n",
      "Iteration 20000: 8.472077369689941 0.96\n",
      "Iteration 21000: 1.2689847946166992 0.97\n",
      "Iteration 22000: 7.817301273345947 0.97\n",
      "Iteration 23000: 6.524452209472656 0.97\n",
      "Iteration 24000: 3.805023193359375 0.97\n",
      "Iteration 25000: 2.06154465675354 0.97\n",
      "Iteration 26000: 2.0530266761779785 0.97\n",
      "Iteration 27000: 2.632418632507324 0.97\n",
      "Iteration 28000: 2.6727423667907715 0.97\n",
      "Iteration 29000: 1.2421921491622925 0.97\n",
      "Iteration 30000: 1.1357072591781616 0.97\n",
      "Iteration 31000: 1.0506494045257568 0.97\n",
      "Iteration 32000: 3.2483620643615723 0.97\n",
      "Iteration 33000: 4.815346717834473 0.97\n",
      "Iteration 34000: 1.4972083568572998 0.97\n",
      "Iteration 35000: 2.327176570892334 0.97\n",
      "Iteration 36000: 1.5922050476074219 0.97\n",
      "Iteration 37000: 1.6090879440307617 0.97\n",
      "Iteration 38000: 0.8529618978500366 0.97\n",
      "Iteration 39000: 1.5365277528762817 0.97\n",
      "Iteration 40000: 5.970481872558594 0.97\n"
     ]
    }
   ],
   "source": [
    "n_iterations = 40000\n",
    "batch_size = 100\n",
    "\n",
    "losses = [None for _ in range(n_iterations)]\n",
    "accuracy = []\n",
    "\n",
    "with tf.Session(graph=graph) as sess:\n",
    "    tf.global_variables_initializer().run()\n",
    "    \n",
    "    for step in range(n_iterations):\n",
    "        train_image, train_labels = mnist.train.next_batch(batch_size)\n",
    "        feed_dict = { x_:train_image,\n",
    "                      y_:train_labels,\n",
    "                      is_training:True}\n",
    "        _, l = sess.run([train_op, cross_entropy], feed_dict=feed_dict)\n",
    "        losses[step] = l\n",
    "        if (step+1) % 1000 == 0:\n",
    "            feed_dict[x_] = mnist.test.images\n",
    "            feed_dict[y_] = mnist.test.labels\n",
    "            feed_dict[is_training] = False\n",
    "            pred = sess.run(predict, feed_dict=feed_dict)\n",
    "            acc = comput_accuracy(pred, np.argmax(mnist.test.labels, 1))\n",
    "            accuracy.append(acc)\n",
    "            print(\"Iteration {}: {} {:.2f}\".format(step+1, l, acc))"
   ]
  },
  {
   "cell_type": "code",
   "execution_count": 27,
   "metadata": {},
   "outputs": [
    {
     "data": {
      "text/plain": [
       "[<matplotlib.lines.Line2D at 0x1193cdb70>]"
      ]
     },
     "execution_count": 27,
     "metadata": {},
     "output_type": "execute_result"
    },
    {
     "data": {
      "image/png": "[encoded data removed]",
      "text/plain": [
       "<matplotlib.figure.Figure at 0x1196b5278>"
      ]
     },
     "metadata": {},
     "output_type": "display_data"
    }
   ],
   "source": [
    "plt.title(\"Loss with Batch Normalization\")\n",
    "plt.plot(losses, \"r-\")"
   ]
  },
  {
   "cell_type": "code",
   "execution_count": 28,
   "metadata": {},
   "outputs": [
    {
     "data": {
      "text/plain": [
       "[<matplotlib.lines.Line2D at 0x119638128>]"
      ]
     },
     "execution_count": 28,
     "metadata": {},
     "output_type": "execute_result"
    },
    {
     "data": {
      "image/png": "[encoded data removed]",
      "text/plain": [
       "<matplotlib.figure.Figure at 0x119638be0>"
      ]
     },
     "metadata": {},
     "output_type": "display_data"
    }
   ],
   "source": [
    "plt.title(\"Accuracy Over Time\")\n",
    "plt.plot(accuracy, \"b-\")"
   ]
  },
  {
   "cell_type": "code",
   "execution_count": null,
   "metadata": {
    "collapsed": true
   },
   "outputs": [],
   "source": []
  }
 ],
 "metadata": {
  "kernelspec": {
   "display_name": "Python 3",
   "language": "python",
   "name": "python3"
  },
  "language_info": {
   "codemirror_mode": {
    "name": "ipython",
    "version": 3
   },
   "file_extension": ".py",
   "mimetype": "text/x-python",
   "name": "python",
   "nbconvert_exporter": "python",
   "pygments_lexer": "ipython3",
   "version": "3.6.1"
  }
 },
 "nbformat": 4,
 "nbformat_minor": 2
}
