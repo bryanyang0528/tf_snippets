{
 "cells": [
  {
   "cell_type": "markdown",
   "metadata": {},
   "source": [
    "Since I can't recreate this [R2RT](https://r2rt.com/implementing-batch-normalization-in-tensorflow.html) blog post results with `tf.contrib.layers.batch_norm`, I decided to make a second notebook which will follow closely with the implementation code in the blog.\n",
    "\n",
    "Let's see how far I can go!\n",
    "\n",
    "\\* You can find the details about batch normalization in this [paper](https://arxiv.org/pdf/1502.03167v3.pdf) if you don't know what it is."
   ]
  },
  {
   "cell_type": "code",
   "execution_count": 1,
   "metadata": {
    "collapsed": true
   },
   "outputs": [],
   "source": [
    "%matplotlib inline\n",
    "from __future__ import print_function\n",
    "from tensorflow.examples.tutorials.mnist import input_data\n",
    "import numpy as np\n",
    "import tensorflow as tf\n",
    "import matplotlib.pyplot as plt"
   ]
  },
  {
   "cell_type": "code",
   "execution_count": 2,
   "metadata": {},
   "outputs": [
    {
     "name": "stdout",
     "output_type": "stream",
     "text": [
      "Extracting data/train-images-idx3-ubyte.gz\n",
      "Extracting data/train-labels-idx1-ubyte.gz\n",
      "Extracting data/t10k-images-idx3-ubyte.gz\n",
      "Extracting data/t10k-labels-idx1-ubyte.gz\n"
     ]
    }
   ],
   "source": [
    "mnist = input_data.read_data_sets(\"data\", one_hot=True)"
   ]
  },
  {
   "cell_type": "code",
   "execution_count": 3,
   "metadata": {},
   "outputs": [
    {
     "name": "stdout",
     "output_type": "stream",
     "text": [
      "[ 0.  0.  0.  0.  0.  0.  0.  0.  1.  0.]\n"
     ]
    },
    {
     "data": {
      "text/plain": [
       "<matplotlib.image.AxesImage at 0x120466518>"
      ]
     },
     "execution_count": 3,
     "metadata": {},
     "output_type": "execute_result"
    },
    {
     "data": {
      "image/png": "[encoded data removed]",
      "text/plain": [
       "<matplotlib.figure.Figure at 0x11711db38>"
      ]
     },
     "metadata": {},
     "output_type": "display_data"
    }
   ],
   "source": [
    "print(mnist.train.labels[3690])\n",
    "plt.imshow(mnist.train.images[3690].reshape((28, 28)), cmap='gray', interpolation=None)"
   ]
  },
  {
   "cell_type": "code",
   "execution_count": 4,
   "metadata": {
    "collapsed": true
   },
   "outputs": [],
   "source": [
    "def batch_norm_wrapper(inputs, is_training=True, decay=0.999, epsilon=1e-5):\n",
    "    \"\"\"\n",
    "    batch_norm_wrapper\n",
    "    \n",
    "    Create a batch normalize layers\n",
    "    \n",
    "    params\n",
    "    ======\n",
    "    - inputs <Tensor>: input Tensor\n",
    "    - is_training <bool>: running in training mode (True by default)\n",
    "    - decay <float>: decay rate of the exponentail moving averages\n",
    "    \n",
    "    returns\n",
    "    =======\n",
    "    - outputs: batch normalized output\n",
    "    \"\"\"\n",
    "    N_features = inputs.get_shape()[-1]\n",
    "    \n",
    "    # Trainable variables for batch normalization\n",
    "    gamma = tf.Variable(tf.ones(N_features), \n",
    "                        dtype=tf.float32)\n",
    "    beta = tf.Variable(tf.zeros(N_features),\n",
    "                       dtype=tf.float32)\n",
    "    # non-trainable variables. Make sure it will not be\n",
    "    # updated with optimizer\n",
    "    moving_mean = tf.Variable(tf.zeros(N_features),\n",
    "                              trainable=False,\n",
    "                              dtype=tf.float32)\n",
    "    moving_var = tf.Variable(tf.ones(N_features),\n",
    "                             trainable=False,\n",
    "                             dtype=tf.float32)\n",
    "    if is_training:\n",
    "        train_mean, train_var = tf.nn.moments(inputs, [0])\n",
    "        update_mean_op = tf.assign(moving_mean, \n",
    "                                   decay*moving_mean+(1-decay)*train_mean)\n",
    "        update_var_op = tf.assign(moving_var,\n",
    "                                  decay*moving_var+(1-decay)*train_var)\n",
    "        with tf.control_dependencies([update_mean_op, update_var_op]):\n",
    "            # use tf.control_dependencies to make sure that update_mean_op and\n",
    "            # update_var_op will be executed before the evaluation of outputs\n",
    "            outputs = tf.nn.batch_normalization(inputs, \n",
    "                                                train_mean, \n",
    "                                                train_var, \n",
    "                                                beta, \n",
    "                                                gamma, \n",
    "                                                epsilon)\n",
    "    else:\n",
    "        # Here we will get the moving average mean an variance from restored \n",
    "        # session. That is, it will normalized inputs with the moving average\n",
    "        # learned from training session\n",
    "        outputs = tf.nn.batch_normalization(inputs,\n",
    "                                            moving_mean,\n",
    "                                            moving_var,\n",
    "                                            beta,\n",
    "                                            gamma,\n",
    "                                            epsilon)\n",
    "    return outputs"
   ]
  },
  {
   "cell_type": "code",
   "execution_count": 5,
   "metadata": {
    "collapsed": true
   },
   "outputs": [],
   "source": [
    "w1_init = np.random.normal(size=(784, 100)).astype(np.float32)\n",
    "w2_init = np.random.normal(size=(100, 100)).astype(np.float32)\n",
    "w3_init = np.random.normal(size=(100, 10)).astype(np.float32)"
   ]
  },
  {
   "cell_type": "code",
   "execution_count": 6,
   "metadata": {
    "collapsed": true
   },
   "outputs": [],
   "source": [
    "def build_graph(graph, is_training=True):\n",
    "    with graph.as_default():\n",
    "        x_ = tf.placeholder(tf.float32, shape=[None, 784])\n",
    "        y_ = tf.placeholder(tf.float32, shape=[None, 10])\n",
    "        \n",
    "        # layer 1\n",
    "        W1 = tf.Variable(w1_init, dtype=tf.float32)\n",
    "        z1 = tf.matmul(x_, W1)\n",
    "        l1 = tf.nn.sigmoid(batch_norm_wrapper(z1, is_training=is_training))\n",
    "        \n",
    "        # layer 2\n",
    "        W2 = tf.Variable(w2_init, dtype=tf.float32)\n",
    "        z2 = tf.matmul(l1, W2)\n",
    "        l2 = tf.nn.sigmoid(batch_norm_wrapper(z2, is_training=is_training))\n",
    "        \n",
    "        # layer 3\n",
    "        W3 = tf.Variable(w3_init, dtype=tf.float32)\n",
    "        z3 = tf.matmul(l2, W3)\n",
    "        y = tf.nn.softmax(z3)\n",
    "        predict = tf.arg_max(y, 1)\n",
    "        \n",
    "        loss = -tf.reduce_sum(y_*tf.log(y))\n",
    "        train_op = tf.train.GradientDescentOptimizer(learning_rate=0.01).minimize(loss)\n",
    "        \n",
    "        saver = tf.train.Saver()\n",
    "    return x_, y_, predict, loss, train_op, saver"
   ]
  },
  {
   "cell_type": "code",
   "execution_count": 7,
   "metadata": {
    "collapsed": true
   },
   "outputs": [],
   "source": [
    "def compute_accuracy(y1, y2):\n",
    "    return 100*(y1 == y2).mean()"
   ]
  },
  {
   "cell_type": "code",
   "execution_count": 8,
   "metadata": {
    "collapsed": true
   },
   "outputs": [],
   "source": [
    "n_iteration = 40000\n",
    "batch_size=100"
   ]
  },
  {
   "cell_type": "code",
   "execution_count": 9,
   "metadata": {},
   "outputs": [
    {
     "name": "stdout",
     "output_type": "stream",
     "text": [
      "Iteration 1000: 42.58755874633789 90.69%\n",
      "Iteration 2000: 21.068544387817383 92.07%\n",
      "Iteration 3000: 28.33524513244629 93.47%\n",
      "Iteration 4000: 18.532249450683594 94.43%\n",
      "Iteration 5000: 12.180561065673828 94.93%\n",
      "Iteration 6000: 13.93853759765625 95.41%\n",
      "Iteration 7000: 28.5440731048584 95.63%\n",
      "Iteration 8000: 11.434566497802734 96.04%\n",
      "Iteration 9000: 9.501596450805664 96.17%\n",
      "Iteration 10000: 12.422626495361328 96.14%\n",
      "Iteration 11000: 27.28702163696289 96.55%\n",
      "Iteration 12000: 15.205368995666504 96.67%\n",
      "Iteration 13000: 6.80633544921875 96.76%\n",
      "Iteration 14000: 5.903032302856445 96.71%\n",
      "Iteration 15000: 2.8749489784240723 96.77%\n",
      "Iteration 16000: 4.226062774658203 96.80%\n",
      "Iteration 17000: 4.171825885772705 96.93%\n",
      "Iteration 18000: 6.302776336669922 96.92%\n",
      "Iteration 19000: 1.3755908012390137 97.05%\n",
      "Iteration 20000: 5.572797775268555 96.92%\n",
      "Iteration 21000: 3.051626682281494 96.90%\n",
      "Iteration 22000: 4.814027786254883 96.91%\n",
      "Iteration 23000: 7.179737091064453 96.89%\n",
      "Iteration 24000: 2.5448248386383057 96.80%\n",
      "Iteration 25000: 0.83586585521698 96.99%\n",
      "Iteration 26000: 3.151360511779785 96.85%\n",
      "Iteration 27000: 1.8503193855285645 96.98%\n",
      "Iteration 28000: 8.50864028930664 96.97%\n",
      "Iteration 29000: 1.6294676065444946 96.94%\n",
      "Iteration 30000: 0.9100435972213745 97.04%\n",
      "Iteration 31000: 5.665521144866943 96.96%\n",
      "Iteration 32000: 1.273503303527832 97.10%\n",
      "Iteration 33000: 2.805298089981079 96.94%\n",
      "Iteration 34000: 4.911450386047363 97.09%\n",
      "Iteration 35000: 3.4279720783233643 97.02%\n",
      "Iteration 36000: 0.5049709677696228 96.99%\n",
      "Iteration 37000: 1.2581404447555542 97.02%\n",
      "Iteration 38000: 2.9433751106262207 97.04%\n",
      "Iteration 39000: 2.4037349224090576 96.98%\n",
      "Iteration 40000: 1.1249903440475464 97.03%\n"
     ]
    }
   ],
   "source": [
    "train_graph = tf.Graph()\n",
    "x_, y_, predict, loss, train_op, saver = build_graph(train_graph, is_training=True)\n",
    "accuracy_bn = []\n",
    "losses_bn = []\n",
    "\n",
    "with tf.Session(graph=train_graph) as sess:\n",
    "    tf.global_variables_initializer().run()\n",
    "    \n",
    "    for step in range(n_iteration):\n",
    "        train_images, train_labels = mnist.train.next_batch(batch_size)\n",
    "        feed_dict = {x_:train_images,\n",
    "                     y_:train_labels}\n",
    "        _, l = sess.run([train_op, loss], feed_dict=feed_dict)\n",
    "        if (step+1) % 100 == 0:\n",
    "            feed_dict[x_] = mnist.test.images\n",
    "            feed_dict[y_] = mnist.test.labels\n",
    "            pred = sess.run(predict, feed_dict=feed_dict)\n",
    "            acc = compute_accuracy(pred, np.argmax(mnist.test.labels, 1))\n",
    "            accuracy_bn.append(acc)\n",
    "            losses_bn.append(l)\n",
    "        \n",
    "        if (step+1) % 1000 == 0:\n",
    "            print(\"Iteration {}: {} {:.2f}%\".format(step+1, l, acc))\n",
    "    saver.save(sess, \"models/batch_norm\")"
   ]
  },
  {
   "cell_type": "code",
   "execution_count": 9,
   "metadata": {},
   "outputs": [
    {
     "name": "stdout",
     "output_type": "stream",
     "text": [
      "INFO:tensorflow:Restoring parameters from models/batch_norm\n",
      "Accuracy in reference phase: 96.94%\n"
     ]
    }
   ],
   "source": [
    "predict_graph = tf.Graph()\n",
    "x_, y_, predict, _, _, saver = build_graph(predict_graph, is_training=False)\n",
    "\n",
    "with tf.Session(graph=predict_graph) as sess:\n",
    "    tf.global_variables_initializer().run()\n",
    "    saver.restore(sess, \"models/batch_norm\")\n",
    "    \n",
    "    feed_dict = {x_: mnist.test.images,\n",
    "                 y_: mnist.test.labels}\n",
    "    pred = sess.run(predict, feed_dict=feed_dict)\n",
    "    acc = compute_accuracy(pred, np.argmax(mnist.test.labels, 1))\n",
    "    print(\"Accuracy in reference phase: {:.2f}%\".format(acc))"
   ]
  },
  {
   "cell_type": "markdown",
   "metadata": {},
   "source": [
    "Wow....It works. I'll dig into the source codes for both `tf.nn.batch_normalize` and `tf.contrib.layers.batch_norm` to see what goes wrong there (maybe?)\n",
    "\n",
    "Ok, Let's recreate the results in the blog post!"
   ]
  },
  {
   "cell_type": "code",
   "execution_count": 11,
   "metadata": {
    "collapsed": true
   },
   "outputs": [],
   "source": [
    "# network without batch normalization\n",
    "graph_no_bn = tf.Graph()\n",
    "\n",
    "with graph_no_bn.as_default():\n",
    "    x_no_bn = tf.placeholder(dtype=tf.float32, \n",
    "                             shape=[None, 784])\n",
    "    y_no_bn = tf.placeholder(dtype=tf.float32, \n",
    "                             shape=[None, 10])\n",
    "    \n",
    "    # fully connected layer 1\n",
    "    W1_no_bn = tf.Variable(w1_init,\n",
    "                           dtype=tf.float32)\n",
    "    b1_no_bn = tf.Variable(np.random.randn(w1_init.shape[-1]),\n",
    "                           dtype=tf.float32)\n",
    "    z1_no_bn = tf.matmul(x_no_bn, W1_no_bn)+b1_no_bn\n",
    "    l1_no_bn = tf.nn.sigmoid(z1_no_bn)\n",
    "    \n",
    "    # fully connected layer 2\n",
    "    W2_no_bn = tf.Variable(w2_init, \n",
    "                           dtype=tf.float32)\n",
    "    b2_no_bn = tf.Variable(np.random.randn(w2_init.shape[-1]),\n",
    "                           dtype=tf.float32)\n",
    "    z2_no_bn = tf.matmul(l1_no_bn, W2_no_bn)+b2_no_bn\n",
    "    l2_no_bn = tf.nn.sigmoid(z2_no_bn)\n",
    "    \n",
    "    # fully connect layer 3\n",
    "    W3_no_bn = tf.Variable(w3_init,\n",
    "                           dtype=tf.float32)\n",
    "    b3_no_bn = tf.Variable(np.random.randn(w3_init.shape[-1]),\n",
    "                           dtype=tf.float32)\n",
    "    l3_no_bn = tf.matmul(l2_no_bn, W3_no_bn)+b3_no_bn\n",
    "    \n",
    "    y_hat_no_bn = tf.nn.softmax(l3_no_bn)\n",
    "    predict_no_bn = tf.argmax(l3_no_bn, 1)\n",
    "    \n",
    "    loss_no_bn = -tf.reduce_sum(y_no_bn*tf.log(y_hat_no_bn))\n",
    "    train_no_nb = tf.train.GradientDescentOptimizer(learning_rate=0.01).minimize(loss_no_bn)"
   ]
  },
  {
   "cell_type": "code",
   "execution_count": 12,
   "metadata": {},
   "outputs": [
    {
     "name": "stdout",
     "output_type": "stream",
     "text": [
      "Iteration 1000: 34.088775634765625, 89.65%\n",
      "Iteration 2000: 28.683719635009766, 92.23%\n",
      "Iteration 3000: 21.398651123046875, 93.25%\n",
      "Iteration 4000: 24.472248077392578, 93.95%\n",
      "Iteration 5000: 10.304933547973633, 94.08%\n",
      "Iteration 6000: 3.2978954315185547, 94.38%\n",
      "Iteration 7000: 5.894110202789307, 94.22%\n",
      "Iteration 8000: 6.865633964538574, 94.74%\n",
      "Iteration 9000: 4.0584306716918945, 94.67%\n",
      "Iteration 10000: 3.3031909465789795, 94.93%\n",
      "Iteration 11000: 1.997742772102356, 94.89%\n",
      "Iteration 12000: 2.5046372413635254, 94.82%\n",
      "Iteration 13000: 2.5309395790100098, 94.96%\n",
      "Iteration 14000: 0.9772756695747375, 95.00%\n",
      "Iteration 15000: 2.3716416358947754, 94.95%\n",
      "Iteration 16000: 5.850613117218018, 95.04%\n",
      "Iteration 17000: 1.1211804151535034, 95.06%\n",
      "Iteration 18000: 5.415715217590332, 95.13%\n",
      "Iteration 19000: 1.0679007768630981, 95.03%\n",
      "Iteration 20000: 0.5158631205558777, 94.92%\n",
      "Iteration 21000: 1.350071907043457, 95.00%\n",
      "Iteration 22000: 2.251084804534912, 95.05%\n",
      "Iteration 23000: 1.0603644847869873, 95.13%\n",
      "Iteration 24000: 2.539074182510376, 95.06%\n",
      "Iteration 25000: 0.752274751663208, 95.20%\n",
      "Iteration 26000: 2.2442290782928467, 95.06%\n",
      "Iteration 27000: 0.5024833083152771, 95.05%\n",
      "Iteration 28000: 1.2308073043823242, 95.15%\n",
      "Iteration 29000: 0.3530454635620117, 95.14%\n",
      "Iteration 30000: 0.28786128759384155, 95.03%\n",
      "Iteration 31000: 0.23945659399032593, 95.12%\n",
      "Iteration 32000: 0.2583479881286621, 95.04%\n",
      "Iteration 33000: 0.3869851529598236, 95.17%\n",
      "Iteration 34000: 0.8613938093185425, 95.07%\n",
      "Iteration 35000: 0.35421302914619446, 95.16%\n",
      "Iteration 36000: 0.5150058269500732, 95.10%\n",
      "Iteration 37000: 0.41151949763298035, 95.09%\n",
      "Iteration 38000: 0.24544879794120789, 95.16%\n",
      "Iteration 39000: 0.24344474077224731, 95.12%\n",
      "Iteration 40000: 0.3648409843444824, 95.17%\n"
     ]
    }
   ],
   "source": [
    "losses_no_bn = []\n",
    "accuracy_no_bn = []\n",
    "\n",
    "with tf.Session(graph=graph_no_bn) as sess:\n",
    "    tf.global_variables_initializer().run()\n",
    "    \n",
    "    for i in range(n_iteration):\n",
    "        # training\n",
    "        batch_images, batch_labels = mnist.train.next_batch(batch_size)\n",
    "        feed_dict = {x_no_bn: batch_images, \n",
    "                     y_no_bn: batch_labels}\n",
    "        _, l = sess.run([train_no_nb, loss_no_bn], feed_dict=feed_dict)\n",
    "        if (i+1) % 100 == 0:\n",
    "            # prediction\n",
    "            feed_dict[x_no_bn] = mnist.test.images\n",
    "            feed_dict[y_no_bn] = mnist.test.labels\n",
    "            pred = sess.run(predict_no_bn, feed_dict=feed_dict)\n",
    "            acc = compute_accuracy(pred, np.argmax(mnist.test.labels, axis=1))\n",
    "            losses_no_bn.append(l)\n",
    "            accuracy_no_bn.append(acc)\n",
    "        if (i+1) % 1000 == 0:\n",
    "            print(\"Iteration {}: {}, {:.2f}%\".format(i+1, l, acc))"
   ]
  },
  {
   "cell_type": "code",
   "execution_count": 17,
   "metadata": {},
   "outputs": [
    {
     "data": {
      "text/plain": [
       "<matplotlib.legend.Legend at 0x118716f98>"
      ]
     },
     "execution_count": 17,
     "metadata": {},
     "output_type": "execute_result"
    },
    {
     "data": {
      "image/png": "[encoded data removed]",
      "text/plain": [
       "<matplotlib.figure.Figure at 0x1185105f8>"
      ]
     },
     "metadata": {},
     "output_type": "display_data"
    }
   ],
   "source": [
    "plt.title(\"Training Loss\")\n",
    "line_no_bn, = plt.plot(losses_no_bn, \"-r\")\n",
    "line_bn, = plt.plot(losses_bn, \"-b\")\n",
    "plt.legend([line_no_bn, line_bn], [\"Without BN\", \"With BN\"])"
   ]
  },
  {
   "cell_type": "code",
   "execution_count": 14,
   "metadata": {},
   "outputs": [
    {
     "data": {
      "text/plain": [
       "<matplotlib.legend.Legend at 0x1183abd30>"
      ]
     },
     "execution_count": 14,
     "metadata": {},
     "output_type": "execute_result"
    },
    {
     "data": {
      "image/png": "[encoded data removed]",
      "text/plain": [
       "<matplotlib.figure.Figure at 0x1178fbfd0>"
      ]
     },
     "metadata": {},
     "output_type": "display_data"
    }
   ],
   "source": [
    "plt.title(\"Testing Accuracy\")\n",
    "line_no_bn, = plt.plot(accuracy_no_bn, \"-r\")\n",
    "line_bn, = plt.plot(accuracy_bn, \"-b\")\n",
    "plt.legend([line_no_bn, line_bn], [\"Without BN\", \"With BN\"])"
   ]
  },
  {
   "cell_type": "markdown",
   "metadata": {},
   "source": [
    "Ok, seems like batch normalization is working just like the blog says. \n",
    "\n",
    "I'm happy man now. XDD"
   ]
  },
  {
   "cell_type": "code",
   "execution_count": null,
   "metadata": {
    "collapsed": true
   },
   "outputs": [],
   "source": []
  }
 ],
 "metadata": {
  "kernelspec": {
   "display_name": "Python 3",
   "language": "python",
   "name": "python3"
  },
  "language_info": {
   "codemirror_mode": {
    "name": "ipython",
    "version": 3
   },
   "file_extension": ".py",
   "mimetype": "text/x-python",
   "name": "python",
   "nbconvert_exporter": "python",
   "pygments_lexer": "ipython3",
   "version": "3.6.1"
  }
 },
 "nbformat": 4,
 "nbformat_minor": 2
}
