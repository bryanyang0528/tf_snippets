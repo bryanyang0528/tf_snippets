{
 "cells": [
  {
   "cell_type": "markdown",
   "metadata": {},
   "source": [
    "Since I can't recreate this [R2RT](https://r2rt.com/implementing-batch-normalization-in-tensorflow.html) blog post results with `tf.contrib.layers.batch_norm`, I decided to make a second notebook which will follow closely with the implementation code in the blog.\n",
    "\n",
    "Let's see how far I can go!\n",
    "\n",
    "\\* You can find the details about batch normalization in this [paper](https://arxiv.org/pdf/1502.03167v3.pdf) if you don't know what it is."
   ]
  },
  {
   "cell_type": "code",
   "execution_count": 1,
   "metadata": {
    "collapsed": true
   },
   "outputs": [],
   "source": [
    "%matplotlib inline\n",
    "from __future__ import print_function\n",
    "from tensorflow.examples.tutorials.mnist import input_data\n",
    "import numpy as np\n",
    "import tensorflow as tf\n",
    "import matplotlib.pyplot as plt"
   ]
  },
  {
   "cell_type": "code",
   "execution_count": 2,
   "metadata": {},
   "outputs": [
    {
     "name": "stdout",
     "output_type": "stream",
     "text": [
      "Extracting data/train-images-idx3-ubyte.gz\n",
      "Extracting data/train-labels-idx1-ubyte.gz\n",
      "Extracting data/t10k-images-idx3-ubyte.gz\n",
      "Extracting data/t10k-labels-idx1-ubyte.gz\n"
     ]
    }
   ],
   "source": [
    "mnist = input_data.read_data_sets(\"data\", one_hot=True)"
   ]
  },
  {
   "cell_type": "code",
   "execution_count": 3,
   "metadata": {},
   "outputs": [
    {
     "name": "stdout",
     "output_type": "stream",
     "text": [
      "[ 0.  0.  0.  0.  0.  0.  0.  0.  1.  0.]\n"
     ]
    },
    {
     "data": {
      "text/plain": [
       "<matplotlib.image.AxesImage at 0x11fccda58>"
      ]
     },
     "execution_count": 3,
     "metadata": {},
     "output_type": "execute_result"
    },
    {
     "data": {
      "image/png": "[encoded data removed]",
      "text/plain": [
       "<matplotlib.figure.Figure at 0x11698be80>"
      ]
     },
     "metadata": {},
     "output_type": "display_data"
    }
   ],
   "source": [
    "print(mnist.train.labels[3690])\n",
    "plt.imshow(mnist.train.images[3690].reshape((28, 28)), cmap='gray', interpolation=None)"
   ]
  },
  {
   "cell_type": "code",
   "execution_count": 4,
   "metadata": {
    "collapsed": true
   },
   "outputs": [],
   "source": [
    "def batch_norm_wrapper(inputs, is_training=True, decay=0.999, epsilon=1e-5):\n",
    "    \"\"\"\n",
    "    batch_norm_wrapper\n",
    "    \n",
    "    Create a batch normalize layers\n",
    "    \n",
    "    params\n",
    "    ======\n",
    "    - inputs <Tensor>: input Tensor\n",
    "    - is_training <bool>: running in training mode (True by default)\n",
    "    - decay <float>: decay rate of the exponentail moving averages\n",
    "    \n",
    "    returns\n",
    "    =======\n",
    "    - outputs: batch normalized output\n",
    "    \"\"\"\n",
    "    N_features = inputs.get_shape()[-1]\n",
    "    \n",
    "    # Trainable variables for batch normalization\n",
    "    gamma = tf.Variable(tf.ones(N_features), \n",
    "                        dtype=tf.float32)\n",
    "    beta = tf.Variable(tf.zeros(N_features),\n",
    "                       dtype=tf.float32)\n",
    "    # non-trainable variables. Make sure it will not be\n",
    "    # updated with optimizer\n",
    "    moving_mean = tf.Variable(tf.zeros(N_features),\n",
    "                              trainable=False,\n",
    "                              dtype=tf.float32)\n",
    "    moving_var = tf.Variable(tf.ones(N_features),\n",
    "                             trainable=False,\n",
    "                             dtype=tf.float32)\n",
    "    if is_training:\n",
    "        train_mean, train_var = tf.nn.moments(inputs, [0])\n",
    "        update_mean_op = tf.assign(moving_mean, \n",
    "                                   decay*moving_mean+(1-decay)*train_mean)\n",
    "        update_var_op = tf.assign(moving_var,\n",
    "                                  decay*moving_var+(1-decay)*train_var)\n",
    "        with tf.control_dependencies([update_mean_op, update_var_op]):\n",
    "            # use tf.control_dependencies to make sure that update_mean_op and\n",
    "            # update_var_op will be executed before the evaluation of outputs\n",
    "            outputs = tf.nn.batch_normalization(inputs, \n",
    "                                                train_mean, \n",
    "                                                train_var, \n",
    "                                                beta, \n",
    "                                                gamma, \n",
    "                                                epsilon)\n",
    "    else:\n",
    "        # Here we will get the moving average mean an variance from restored \n",
    "        # session. That is, it will normalized inputs with the moving average\n",
    "        # learned from training session\n",
    "        outputs = tf.nn.batch_normalization(inputs,\n",
    "                                            moving_mean,\n",
    "                                            moving_var,\n",
    "                                            beta,\n",
    "                                            gamma,\n",
    "                                            epsilon)\n",
    "    return outputs"
   ]
  },
  {
   "cell_type": "code",
   "execution_count": 5,
   "metadata": {
    "collapsed": true
   },
   "outputs": [],
   "source": [
    "w1_init = np.random.normal(size=(784, 100)).astype(np.float32)\n",
    "w2_init = np.random.normal(size=(100, 100)).astype(np.float32)\n",
    "w3_init = np.random.normal(size=(100, 10)).astype(np.float32)"
   ]
  },
  {
   "cell_type": "code",
   "execution_count": 6,
   "metadata": {
    "collapsed": true
   },
   "outputs": [],
   "source": [
    "def build_graph(graph, is_training=True):\n",
    "    with graph.as_default():\n",
    "        x_ = tf.placeholder(tf.float32, shape=[None, 784])\n",
    "        y_ = tf.placeholder(tf.float32, shape=[None, 10])\n",
    "        \n",
    "        # layer 1\n",
    "        W1 = tf.Variable(w1_init, dtype=tf.float32)\n",
    "        z1 = tf.matmul(x_, W1)\n",
    "        l1 = tf.nn.sigmoid(batch_norm_wrapper(z1, is_training=is_training))\n",
    "        \n",
    "        # layer 2\n",
    "        W2 = tf.Variable(w2_init, dtype=tf.float32)\n",
    "        z2 = tf.matmul(l1, W2)\n",
    "        l2 = tf.nn.sigmoid(batch_norm_wrapper(z2, is_training=is_training))\n",
    "        \n",
    "        # layer 3\n",
    "        W3 = tf.Variable(w3_init, dtype=tf.float32)\n",
    "        z3 = tf.matmul(l2, W3)\n",
    "        y = tf.nn.softmax(z3)\n",
    "        predict = tf.arg_max(y, 1)\n",
    "        \n",
    "        loss = -tf.reduce_sum(y_*tf.log(y))\n",
    "        train_op = tf.train.GradientDescentOptimizer(learning_rate=0.01).minimize(loss)\n",
    "        \n",
    "        saver = tf.train.Saver()\n",
    "    return x_, y_, predict, loss, train_op, saver"
   ]
  },
  {
   "cell_type": "code",
   "execution_count": 7,
   "metadata": {
    "collapsed": true
   },
   "outputs": [],
   "source": [
    "def compute_accuracy(y1, y2):\n",
    "    return 100*(y1 == y2).mean()"
   ]
  },
  {
   "cell_type": "code",
   "execution_count": 8,
   "metadata": {
    "collapsed": true
   },
   "outputs": [],
   "source": [
    "n_iteration = 40000\n",
    "batch_size=100"
   ]
  },
  {
   "cell_type": "code",
   "execution_count": 9,
   "metadata": {
    "collapsed": true
   },
   "outputs": [],
   "source": [
    "import time"
   ]
  },
  {
   "cell_type": "code",
   "execution_count": 11,
   "metadata": {},
   "outputs": [
    {
     "name": "stdout",
     "output_type": "stream",
     "text": [
      "Iteration 1000: 31.021595001220703 90.97%\n",
      "Iteration 2000: 26.601381301879883 92.45%\n",
      "Iteration 3000: 34.78744125366211 93.15%\n",
      "Iteration 4000: 23.26113510131836 94.37%\n",
      "Iteration 5000: 21.285518646240234 94.88%\n",
      "Iteration 6000: 16.959957122802734 95.48%\n",
      "Iteration 7000: 9.885022163391113 95.36%\n",
      "Iteration 8000: 11.311115264892578 95.84%\n",
      "Iteration 9000: 3.2735230922698975 95.82%\n",
      "Iteration 10000: 8.537002563476562 96.29%\n",
      "Iteration 11000: 4.330536842346191 96.33%\n",
      "Iteration 12000: 8.000665664672852 96.43%\n",
      "Iteration 13000: 10.391265869140625 96.19%\n",
      "Iteration 14000: 14.662104606628418 96.45%\n",
      "Iteration 15000: 4.003668308258057 96.63%\n",
      "Iteration 16000: 11.870704650878906 96.65%\n",
      "Iteration 17000: 8.9056396484375 96.66%\n",
      "Iteration 18000: 4.956634521484375 96.53%\n",
      "Iteration 19000: 5.6027631759643555 96.61%\n",
      "Iteration 20000: 1.3056726455688477 96.69%\n",
      "Iteration 21000: 2.5306553840637207 96.81%\n",
      "Iteration 22000: 2.732079267501831 96.65%\n",
      "Iteration 23000: 2.4651522636413574 96.95%\n",
      "Iteration 24000: 6.874490261077881 96.82%\n",
      "Iteration 25000: 3.310781955718994 96.84%\n",
      "Iteration 26000: 5.308099269866943 96.73%\n",
      "Iteration 27000: 4.710718154907227 96.92%\n",
      "Iteration 28000: 2.0723938941955566 96.88%\n",
      "Iteration 29000: 1.8161113262176514 96.64%\n",
      "Iteration 30000: 0.9881186485290527 96.76%\n",
      "Iteration 31000: 1.313854694366455 96.82%\n",
      "Iteration 32000: 1.232466459274292 96.74%\n",
      "Iteration 33000: 3.9738540649414062 96.72%\n",
      "Iteration 34000: 3.1243114471435547 96.79%\n",
      "Iteration 35000: 2.264374017715454 96.92%\n",
      "Iteration 36000: 2.5219216346740723 96.82%\n",
      "Iteration 37000: 2.8871049880981445 96.92%\n",
      "Iteration 38000: 1.2845275402069092 96.88%\n",
      "Iteration 39000: 1.7190666198730469 96.87%\n",
      "Iteration 40000: 4.215346336364746 96.90%\n",
      "duration: 285.12 seconds\n"
     ]
    }
   ],
   "source": [
    "train_graph = tf.Graph()\n",
    "x_, y_, predict, loss, train_op, saver = build_graph(train_graph, is_training=True)\n",
    "accuracy_bn = []\n",
    "losses_bn = []\n",
    "tic = time.time()\n",
    "with tf.Session(graph=train_graph) as sess:\n",
    "    tf.global_variables_initializer().run()\n",
    "    \n",
    "    for step in range(n_iteration):\n",
    "        train_images, train_labels = mnist.train.next_batch(batch_size)\n",
    "        feed_dict = {x_:train_images,\n",
    "                     y_:train_labels}\n",
    "        _, l = sess.run([train_op, loss], feed_dict=feed_dict)\n",
    "        if (step+1) % 100 == 0:\n",
    "            feed_dict[x_] = mnist.test.images\n",
    "            feed_dict[y_] = mnist.test.labels\n",
    "            pred = sess.run(predict, feed_dict=feed_dict)\n",
    "            acc = compute_accuracy(pred, np.argmax(mnist.test.labels, 1))\n",
    "            accuracy_bn.append(acc)\n",
    "            losses_bn.append(l)\n",
    "        \n",
    "        if (step+1) % 1000 == 0:\n",
    "            print(\"Iteration {}: {} {:.2f}%\".format(step+1, l, acc))\n",
    "    saver.save(sess, \"models/batch_norm\")\n",
    "toc = time.time()\n",
    "print(\"duration: {:.2f} seconds\".format(toc - tic))"
   ]
  },
  {
   "cell_type": "code",
   "execution_count": 12,
   "metadata": {},
   "outputs": [
    {
     "name": "stdout",
     "output_type": "stream",
     "text": [
      "INFO:tensorflow:Restoring parameters from models/batch_norm\n",
      "Accuracy in reference phase: 96.65%\n"
     ]
    }
   ],
   "source": [
    "predict_graph = tf.Graph()\n",
    "x_, y_, predict, _, _, saver = build_graph(predict_graph, is_training=False)\n",
    "\n",
    "with tf.Session(graph=predict_graph) as sess:\n",
    "    tf.global_variables_initializer().run()\n",
    "    saver.restore(sess, \"models/batch_norm\")\n",
    "    \n",
    "    feed_dict = {x_: mnist.test.images,\n",
    "                 y_: mnist.test.labels}\n",
    "    pred = sess.run(predict, feed_dict=feed_dict)\n",
    "    acc = compute_accuracy(pred, np.argmax(mnist.test.labels, 1))\n",
    "    print(\"Accuracy in reference phase: {:.2f}%\".format(acc))"
   ]
  },
  {
   "cell_type": "markdown",
   "metadata": {},
   "source": [
    "Wow....It works. I'll dig into the source codes for both `tf.nn.batch_normalize` and `tf.contrib.layers.batch_norm` to see what goes wrong there (maybe?)\n",
    "\n",
    "Ok, Let's recreate the results in the blog post!"
   ]
  },
  {
   "cell_type": "code",
   "execution_count": 13,
   "metadata": {
    "collapsed": true
   },
   "outputs": [],
   "source": [
    "# network without batch normalization\n",
    "graph_no_bn = tf.Graph()\n",
    "\n",
    "with graph_no_bn.as_default():\n",
    "    x_no_bn = tf.placeholder(dtype=tf.float32, \n",
    "                             shape=[None, 784])\n",
    "    y_no_bn = tf.placeholder(dtype=tf.float32, \n",
    "                             shape=[None, 10])\n",
    "    \n",
    "    # fully connected layer 1\n",
    "    W1_no_bn = tf.Variable(w1_init,\n",
    "                           dtype=tf.float32)\n",
    "    b1_no_bn = tf.Variable(np.random.randn(w1_init.shape[-1]),\n",
    "                           dtype=tf.float32)\n",
    "    z1_no_bn = tf.matmul(x_no_bn, W1_no_bn)+b1_no_bn\n",
    "    l1_no_bn = tf.nn.sigmoid(z1_no_bn)\n",
    "    \n",
    "    # fully connected layer 2\n",
    "    W2_no_bn = tf.Variable(w2_init, \n",
    "                           dtype=tf.float32)\n",
    "    b2_no_bn = tf.Variable(np.random.randn(w2_init.shape[-1]),\n",
    "                           dtype=tf.float32)\n",
    "    z2_no_bn = tf.matmul(l1_no_bn, W2_no_bn)+b2_no_bn\n",
    "    l2_no_bn = tf.nn.sigmoid(z2_no_bn)\n",
    "    \n",
    "    # fully connect layer 3\n",
    "    W3_no_bn = tf.Variable(w3_init,\n",
    "                           dtype=tf.float32)\n",
    "    b3_no_bn = tf.Variable(np.random.randn(w3_init.shape[-1]),\n",
    "                           dtype=tf.float32)\n",
    "    l3_no_bn = tf.matmul(l2_no_bn, W3_no_bn)+b3_no_bn\n",
    "    \n",
    "    y_hat_no_bn = tf.nn.softmax(l3_no_bn)\n",
    "    predict_no_bn = tf.argmax(l3_no_bn, 1)\n",
    "    \n",
    "    loss_no_bn = -tf.reduce_sum(y_no_bn*tf.log(y_hat_no_bn))\n",
    "    train_no_nb = tf.train.GradientDescentOptimizer(learning_rate=0.01).minimize(loss_no_bn)"
   ]
  },
  {
   "cell_type": "code",
   "execution_count": 15,
   "metadata": {},
   "outputs": [
    {
     "name": "stdout",
     "output_type": "stream",
     "text": [
      "Iteration 1000: 30.088768005371094, 89.81%\n",
      "Iteration 2000: 21.84836196899414, 92.21%\n",
      "Iteration 3000: 19.348957061767578, 93.33%\n",
      "Iteration 4000: 10.227599143981934, 93.47%\n",
      "Iteration 5000: 5.144662380218506, 94.15%\n",
      "Iteration 6000: 18.70578384399414, 94.13%\n",
      "Iteration 7000: 9.996564865112305, 94.31%\n",
      "Iteration 8000: 7.02363395690918, 94.63%\n",
      "Iteration 9000: 2.7547104358673096, 94.63%\n",
      "Iteration 10000: 3.908397674560547, 94.85%\n",
      "Iteration 11000: 3.5461461544036865, 94.86%\n",
      "Iteration 12000: 4.430716514587402, 95.01%\n",
      "Iteration 13000: 8.070440292358398, 95.02%\n",
      "Iteration 14000: 4.045376300811768, 94.86%\n",
      "Iteration 15000: 3.975167751312256, 94.95%\n",
      "Iteration 16000: 3.5487418174743652, 94.97%\n",
      "Iteration 17000: 1.7815570831298828, 94.99%\n",
      "Iteration 18000: 3.9399678707122803, 95.09%\n",
      "Iteration 19000: 0.9159344434738159, 95.10%\n",
      "Iteration 20000: 0.8895297646522522, 95.09%\n",
      "Iteration 21000: 2.0950186252593994, 95.08%\n",
      "Iteration 22000: 1.0050219297409058, 95.08%\n",
      "Iteration 23000: 1.8280003070831299, 95.15%\n",
      "Iteration 24000: 4.6366987228393555, 95.13%\n",
      "Iteration 25000: 0.9407892227172852, 95.12%\n",
      "Iteration 26000: 0.4190440773963928, 95.22%\n",
      "Iteration 27000: 0.5252020955085754, 95.28%\n",
      "Iteration 28000: 0.38078585267066956, 95.31%\n",
      "Iteration 29000: 1.2724733352661133, 95.35%\n",
      "Iteration 30000: 0.9698561429977417, 95.28%\n",
      "Iteration 31000: 0.2992136478424072, 95.27%\n",
      "Iteration 32000: 0.3399966359138489, 95.35%\n",
      "Iteration 33000: 0.48797377943992615, 95.30%\n",
      "Iteration 34000: 0.4009099006652832, 95.29%\n",
      "Iteration 35000: 0.34732434153556824, 95.30%\n",
      "Iteration 36000: 0.44433319568634033, 95.30%\n",
      "Iteration 37000: 0.5537412762641907, 95.34%\n",
      "Iteration 38000: 0.29482167959213257, 95.25%\n",
      "Iteration 39000: 0.8498878479003906, 95.27%\n",
      "Iteration 40000: 0.4144443869590759, 95.38%\n",
      "duration: 183.01 seconds\n"
     ]
    }
   ],
   "source": [
    "losses_no_bn = []\n",
    "accuracy_no_bn = []\n",
    "\n",
    "tic = time.time()\n",
    "with tf.Session(graph=graph_no_bn) as sess:\n",
    "    tf.global_variables_initializer().run()\n",
    "    \n",
    "    for i in range(n_iteration):\n",
    "        # training\n",
    "        batch_images, batch_labels = mnist.train.next_batch(batch_size)\n",
    "        feed_dict = {x_no_bn: batch_images, \n",
    "                     y_no_bn: batch_labels}\n",
    "        _, l = sess.run([train_no_nb, loss_no_bn], feed_dict=feed_dict)\n",
    "        if (i+1) % 100 == 0:\n",
    "            # prediction\n",
    "            feed_dict[x_no_bn] = mnist.test.images\n",
    "            feed_dict[y_no_bn] = mnist.test.labels\n",
    "            pred = sess.run(predict_no_bn, feed_dict=feed_dict)\n",
    "            acc = compute_accuracy(pred, np.argmax(mnist.test.labels, axis=1))\n",
    "            losses_no_bn.append(l)\n",
    "            accuracy_no_bn.append(acc)\n",
    "        if (i+1) % 1000 == 0:\n",
    "            print(\"Iteration {}: {}, {:.2f}%\".format(i+1, l, acc))\n",
    "toc = time.time()\n",
    "print(\"duration: {:.2f} seconds\".format(toc - tic))"
   ]
  },
  {
   "cell_type": "code",
   "execution_count": 16,
   "metadata": {},
   "outputs": [
    {
     "data": {
      "text/plain": [
       "<matplotlib.legend.Legend at 0x11761cb70>"
      ]
     },
     "execution_count": 16,
     "metadata": {},
     "output_type": "execute_result"
    },
    {
     "data": {
      "image/png": "[encoded data removed]",
      "text/plain": [
       "<matplotlib.figure.Figure at 0x116bb9e48>"
      ]
     },
     "metadata": {},
     "output_type": "display_data"
    }
   ],
   "source": [
    "plt.title(\"Training Loss\")\n",
    "line_no_bn, = plt.plot(losses_no_bn, \"-r\")\n",
    "line_bn, = plt.plot(losses_bn, \"-b\")\n",
    "plt.legend([line_no_bn, line_bn], [\"Without BN\", \"With BN\"])"
   ]
  },
  {
   "cell_type": "code",
   "execution_count": 17,
   "metadata": {},
   "outputs": [
    {
     "data": {
      "text/plain": [
       "<matplotlib.legend.Legend at 0x117d76a58>"
      ]
     },
     "execution_count": 17,
     "metadata": {},
     "output_type": "execute_result"
    },
    {
     "data": {
      "image/png": "[encoded data removed]",
      "text/plain": [
       "<matplotlib.figure.Figure at 0x116c00a58>"
      ]
     },
     "metadata": {},
     "output_type": "display_data"
    }
   ],
   "source": [
    "plt.title(\"Testing Accuracy\")\n",
    "line_no_bn, = plt.plot(accuracy_no_bn, \"-r\")\n",
    "line_bn, = plt.plot(accuracy_bn, \"-b\")\n",
    "plt.legend([line_no_bn, line_bn], [\"Without BN\", \"With BN\"])"
   ]
  },
  {
   "cell_type": "markdown",
   "metadata": {},
   "source": [
    "Ok, seems like batch normalization is working just like the blog says. \n",
    "\n",
    "I'm happy man now. XDD"
   ]
  },
  {
   "cell_type": "code",
   "execution_count": null,
   "metadata": {
    "collapsed": true
   },
   "outputs": [],
   "source": []
  }
 ],
 "metadata": {
  "kernelspec": {
   "display_name": "Python 3",
   "language": "python",
   "name": "python3"
  },
  "language_info": {
   "codemirror_mode": {
    "name": "ipython",
    "version": 3
   },
   "file_extension": ".py",
   "mimetype": "text/x-python",
   "name": "python",
   "nbconvert_exporter": "python",
   "pygments_lexer": "ipython3",
   "version": "3.6.1"
  }
 },
 "nbformat": 4,
 "nbformat_minor": 2
}
