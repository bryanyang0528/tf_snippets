{
 "cells": [
  {
   "cell_type": "code",
   "execution_count": 1,
   "metadata": {
    "collapsed": true
   },
   "outputs": [],
   "source": [
    "import tensorflow as tf\n",
    "import numpy as np"
   ]
  },
  {
   "cell_type": "code",
   "execution_count": 6,
   "metadata": {},
   "outputs": [],
   "source": [
    "tf.reset_default_graph()\n",
    "x_train = tf.Variable(10, dtype=tf.float32, name=\"x_train\")\n",
    "x_no_train = tf.Variable(3, dtype=tf.float32, name=\"x_no_train\", trainable=False)\n",
    "loss = tf.abs(x_train + x_no_train)\n",
    "assign_op = tf.assign(x_no_train, x_no_train+1)\n",
    "train_op = tf.train.GradientDescentOptimizer(learning_rate=0.01).minimize(loss)"
   ]
  },
  {
   "cell_type": "code",
   "execution_count": 9,
   "metadata": {},
   "outputs": [],
   "source": [
    "np.random.seed(3690)"
   ]
  },
  {
   "cell_type": "code",
   "execution_count": 10,
   "metadata": {},
   "outputs": [
    {
     "name": "stdout",
     "output_type": "stream",
     "text": [
      "x (trainable): 9.989999771118164\n",
      "x (non trainable): 3.0\n",
      "assing op!\n",
      "x (trainable): 9.979999542236328\n",
      "x (non trainable): 4.0\n",
      "x (trainable): 9.969999313354492\n",
      "x (non trainable): 4.0\n",
      "assing op!\n",
      "x (trainable): 9.959999084472656\n",
      "x (non trainable): 5.0\n",
      "assing op!\n",
      "x (trainable): 9.94999885559082\n",
      "x (non trainable): 6.0\n",
      "x (trainable): 9.939998626708984\n",
      "x (non trainable): 6.0\n",
      "assing op!\n",
      "x (trainable): 9.929998397827148\n",
      "x (non trainable): 7.0\n",
      "x (trainable): 9.919998168945312\n",
      "x (non trainable): 7.0\n",
      "assing op!\n",
      "x (trainable): 9.909997940063477\n",
      "x (non trainable): 8.0\n",
      "assing op!\n",
      "x (trainable): 9.89999771118164\n",
      "x (non trainable): 9.0\n"
     ]
    }
   ],
   "source": [
    "with tf.Session() as sess:\n",
    "    tf.global_variables_initializer().run()\n",
    "    for _ in range(10):\n",
    "        ops = [train_op]\n",
    "        if np.random.random() > 0.5:\n",
    "            print(\"assing op!\")\n",
    "            ops.append(assign_op)\n",
    "        sess.run(ops)\n",
    "        x1, x2 = sess.run([x_train, x_no_train])\n",
    "        print(\"x (trainable): {}\".format(x1))\n",
    "        print(\"x (non trainable): {}\".format(x2))"
   ]
  },
  {
   "cell_type": "markdown",
   "metadata": {},
   "source": [
    "## Summary\n",
    "\n",
    "- Trainable variable **can be modified** and **will be updated** during training.\n",
    "- Non-Trainable variable **can be modified** too but **will not be updated** during training."
   ]
  },
  {
   "cell_type": "code",
   "execution_count": null,
   "metadata": {
    "collapsed": true
   },
   "outputs": [],
   "source": []
  }
 ],
 "metadata": {
  "kernelspec": {
   "display_name": "Python 3",
   "language": "python",
   "name": "python3"
  },
  "language_info": {
   "codemirror_mode": {
    "name": "ipython",
    "version": 3
   },
   "file_extension": ".py",
   "mimetype": "text/x-python",
   "name": "python",
   "nbconvert_exporter": "python",
   "pygments_lexer": "ipython3",
   "version": "3.6.1"
  }
 },
 "nbformat": 4,
 "nbformat_minor": 2
}
