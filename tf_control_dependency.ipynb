{
 "cells": [
  {
   "cell_type": "code",
   "execution_count": 1,
   "metadata": {
    "collapsed": true
   },
   "outputs": [],
   "source": [
    "from __future__ import print_function\n",
    "import tensorflow as tf"
   ]
  },
  {
   "cell_type": "code",
   "execution_count": 2,
   "metadata": {
    "collapsed": true
   },
   "outputs": [],
   "source": [
    "tf.reset_default_graph()\n",
    "x = tf.constant(2, dtype=tf.float32)\n",
    "y = tf.Variable(1, dtype=tf.float32)\n",
    "assign_op = tf.assign(y, y+1)\n",
    "\n",
    "new_value = x*y"
   ]
  },
  {
   "cell_type": "code",
   "execution_count": 3,
   "metadata": {},
   "outputs": [
    {
     "name": "stdout",
     "output_type": "stream",
     "text": [
      "new_value: 4.0\n",
      "new_value: 6.0\n",
      "new_value: 8.0\n"
     ]
    }
   ],
   "source": [
    "# Here we want to get new_value \"after\" y is updated.\n",
    "# That is, we want to evaluate new_value after running assign_op.\n",
    "# Method 1: control the flow by ourselves\n",
    "with tf.Session() as sess:\n",
    "    tf.global_variables_initializer().run()\n",
    "    for _ in range(3):\n",
    "        # run assign_op first, then evaluation\n",
    "        sess.run(assign_op)\n",
    "        print(\"new_value: {}\".format(sess.run(new_value)))"
   ]
  },
  {
   "cell_type": "code",
   "execution_count": 4,
   "metadata": {
    "collapsed": true
   },
   "outputs": [],
   "source": [
    "# Method 2: using tf.control_dependencies\n",
    "tf.reset_default_graph()\n",
    "x = tf.constant(2, dtype=tf.float32)\n",
    "y = tf.Variable(1, dtype=tf.float32)\n",
    "assign_op = tf.assign(y, y+1)\n",
    "\n",
    "# tf.control_dependencies will ensure new_value wii be evaluated\n",
    "# after assign_op is ran.\n",
    "with tf.control_dependencies([assign_op]):\n",
    "    new_value = x*y"
   ]
  },
  {
   "cell_type": "code",
   "execution_count": 5,
   "metadata": {},
   "outputs": [
    {
     "name": "stdout",
     "output_type": "stream",
     "text": [
      "new_value: 4.0\n",
      "new_value: 6.0\n",
      "new_value: 8.0\n"
     ]
    }
   ],
   "source": [
    "with tf.Session() as sess:\n",
    "    tf.global_variables_initializer().run()\n",
    "    for _ in range(3):\n",
    "        print(\"new_value: {}\".format(sess.run(new_value)))"
   ]
  },
  {
   "cell_type": "markdown",
   "metadata": {},
   "source": [
    "If you want to see more practical examples of `tf.control_dependencies`, the source code \n",
    "of `tf.contrib.layers` is a good place to dig in. ^^"
   ]
  },
  {
   "cell_type": "markdown",
   "metadata": {},
   "source": [
    "## References\n",
    "\n",
    "- [MetaFlow](https://blog.metaflow.fr/tensorflow-mutating-variables-and-control-flow-2181dd238e62)"
   ]
  },
  {
   "cell_type": "code",
   "execution_count": null,
   "metadata": {
    "collapsed": true
   },
   "outputs": [],
   "source": []
  }
 ],
 "metadata": {
  "kernelspec": {
   "display_name": "Python 3",
   "language": "python",
   "name": "python3"
  },
  "language_info": {
   "codemirror_mode": {
    "name": "ipython",
    "version": 3
   },
   "file_extension": ".py",
   "mimetype": "text/x-python",
   "name": "python",
   "nbconvert_exporter": "python",
   "pygments_lexer": "ipython3",
   "version": "3.6.1"
  }
 },
 "nbformat": 4,
 "nbformat_minor": 2
}
