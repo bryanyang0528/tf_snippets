{
 "cells": [
  {
   "cell_type": "markdown",
   "metadata": {},
   "source": [
    "- [R2RT - Blog](https://r2rt.com/implementing-batch-normalization-in-tensorflow.html)\n",
    "- [BN Paper](https://arxiv.org/pdf/1502.03167v3.pdf)"
   ]
  },
  {
   "cell_type": "code",
   "execution_count": 1,
   "metadata": {
    "collapsed": true
   },
   "outputs": [],
   "source": [
    "%matplotlib inline\n",
    "from __future__ import print_function\n",
    "import numpy as np\n",
    "import tensorflow as tf\n",
    "from tensorflow.examples.tutorials.mnist import input_data\n",
    "import matplotlib.pyplot as plt"
   ]
  },
  {
   "cell_type": "code",
   "execution_count": 2,
   "metadata": {},
   "outputs": [
    {
     "name": "stdout",
     "output_type": "stream",
     "text": [
      "Extracting data/train-images-idx3-ubyte.gz\n",
      "Extracting data/train-labels-idx1-ubyte.gz\n",
      "Extracting data/t10k-images-idx3-ubyte.gz\n",
      "Extracting data/t10k-labels-idx1-ubyte.gz\n"
     ]
    }
   ],
   "source": [
    "mnist = input_data.read_data_sets(\"data\", one_hot=True)"
   ]
  },
  {
   "cell_type": "code",
   "execution_count": 3,
   "metadata": {},
   "outputs": [
    {
     "name": "stdout",
     "output_type": "stream",
     "text": [
      "[ 0.  0.  0.  0.  0.  0.  0.  0.  1.  0.]\n",
      "(784,)\n"
     ]
    },
    {
     "data": {
      "text/plain": [
       "<matplotlib.image.AxesImage at 0x1279c6748>"
      ]
     },
     "execution_count": 3,
     "metadata": {},
     "output_type": "execute_result"
    },
    {
     "data": {
      "image/png": "[encoded data removed]",
      "text/plain": [
       "<matplotlib.figure.Figure at 0x11e67cef0>"
      ]
     },
     "metadata": {},
     "output_type": "display_data"
    }
   ],
   "source": [
    "print(mnist.train.labels[3690])\n",
    "print(mnist.train.images[3690].shape)\n",
    "plt.imshow(mnist.train.images[3690].reshape((28, 28)), cmap=\"gray\")"
   ]
  },
  {
   "cell_type": "code",
   "execution_count": 4,
   "metadata": {
    "collapsed": true
   },
   "outputs": [],
   "source": [
    "def compute_accuracy(y1, y2):\n",
    "    return 100*((y1 == y2).astype(np.int).sum()/len(y1))"
   ]
  },
  {
   "cell_type": "code",
   "execution_count": 5,
   "metadata": {
    "collapsed": true
   },
   "outputs": [],
   "source": [
    "# initial values (fixed, in order to give comparable results)\n",
    "np.random.seed(3690)\n",
    "\n",
    "w1_init = np.random.randn(784, 100)\n",
    "b1_init = np.random.randn(100)\n",
    "\n",
    "w2_init = np.random.randn(100, 100)\n",
    "b2_init = np.random.randn(100)\n",
    "\n",
    "w3_init = np.random.randn(100, 10)\n",
    "b3_init = np.random.randn(10)"
   ]
  },
  {
   "cell_type": "code",
   "execution_count": 6,
   "metadata": {
    "collapsed": true
   },
   "outputs": [],
   "source": [
    "# network without batch normalization\n",
    "graph_no_bn = tf.Graph()\n",
    "\n",
    "with graph_no_bn.as_default():\n",
    "    tf_x_no_bn = tf.placeholder(dtype=tf.float32, \n",
    "                                shape=[None, 784])\n",
    "    tf_y_no_bn = tf.placeholder(dtype=tf.float32, \n",
    "                                shape=[None, 10])\n",
    "    \n",
    "    # fully connected layer 1\n",
    "    tf_W1_no_bn = tf.Variable(w1_init,\n",
    "                              name=\"W1\", \n",
    "                              dtype=tf.float32)\n",
    "    tf_b1_no_bn = tf.Variable(b1_init,\n",
    "                              name=\"b1\",\n",
    "                              dtype=tf.float32)\n",
    "    tf_z1 = tf.matmul(tf_x_no_bn, tf_W1_no_bn) + tf_b1_no_bn\n",
    "    tf_l1 = tf.nn.sigmoid(tf_z1)\n",
    "    \n",
    "    # fully connected layer 2\n",
    "    tf_W2_no_bn = tf.Variable(w2_init, \n",
    "                              name=\"W2\",\n",
    "                              dtype=tf.float32)\n",
    "    tf_b2_no_bn = tf.Variable(b2_init,\n",
    "                              name=\"b2\",\n",
    "                              dtype=tf.float32)\n",
    "    tf_z2 = tf.matmul(tf_l1, tf_W2_no_bn) + tf_b2_no_bn\n",
    "    tf_l2 = tf.nn.sigmoid(tf_z2)\n",
    "    \n",
    "    # fully connect layer 3\n",
    "    tf_W3_no_bn = tf.Variable(w3_init,\n",
    "                              name=\"W3\",\n",
    "                              dtype=tf.float32)\n",
    "    tf_b3_no_bn = tf.Variable(b3_init,\n",
    "                              name=\"b3\",\n",
    "                              dtype=tf.float32)\n",
    "    tf_l3 = tf.matmul(tf_l2, tf_W3_no_bn)+tf_b3_no_bn\n",
    "    \n",
    "    tf_y_hat_no_bn = tf.nn.softmax(tf_l3)\n",
    "    predict_y_no_bn = tf.argmax(tf_l3, 1)\n",
    "    \n",
    "    cross_entropy_no_bn = -tf.reduce_sum(tf_y_no_bn*tf.log(tf_y_hat_no_bn))\n",
    "    optimizer_no_bn = tf.train.GradientDescentOptimizer(learning_rate=0.01)\n",
    "    train_no_nb = optimizer_no_bn.minimize(cross_entropy_no_bn)"
   ]
  },
  {
   "cell_type": "code",
   "execution_count": 7,
   "metadata": {
    "collapsed": true
   },
   "outputs": [],
   "source": [
    "batch_size=100\n",
    "n_iterations = 40000"
   ]
  },
  {
   "cell_type": "code",
   "execution_count": 24,
   "metadata": {},
   "outputs": [
    {
     "name": "stdout",
     "output_type": "stream",
     "text": [
      "Iteration 1000: 21.62377166748047, Test Accuracy: 89.95%\n",
      "Iteration 2000: 15.801308631896973, Test Accuracy: 91.47%\n",
      "Iteration 3000: 16.610580444335938, Test Accuracy: 93.0%\n",
      "Iteration 4000: 10.222084999084473, Test Accuracy: 93.51%\n",
      "Iteration 5000: 6.422296524047852, Test Accuracy: 93.77%\n",
      "Iteration 6000: 3.8056282997131348, Test Accuracy: 94.06%\n",
      "Iteration 7000: 4.328380584716797, Test Accuracy: 94.46%\n",
      "Iteration 8000: 3.0169496536254883, Test Accuracy: 94.65%\n",
      "Iteration 9000: 1.299379587173462, Test Accuracy: 94.61%\n",
      "Iteration 10000: 2.874361038208008, Test Accuracy: 94.52000000000001%\n",
      "Iteration 11000: 2.2626354694366455, Test Accuracy: 94.94%\n",
      "Iteration 12000: 1.497992992401123, Test Accuracy: 94.87%\n",
      "Iteration 13000: 1.8421605825424194, Test Accuracy: 94.84%\n",
      "Iteration 14000: 2.9495558738708496, Test Accuracy: 94.77%\n",
      "Iteration 15000: 2.9242286682128906, Test Accuracy: 95.15%\n",
      "Iteration 16000: 0.9099052548408508, Test Accuracy: 94.67%\n",
      "Iteration 17000: 1.8433599472045898, Test Accuracy: 94.89999999999999%\n",
      "Iteration 18000: 1.535527229309082, Test Accuracy: 94.8%\n",
      "Iteration 19000: 2.4098010063171387, Test Accuracy: 95.00999999999999%\n",
      "Iteration 20000: 0.8995730876922607, Test Accuracy: 94.89%\n",
      "Iteration 21000: 1.3821742534637451, Test Accuracy: 95.00999999999999%\n",
      "Iteration 22000: 0.7091165781021118, Test Accuracy: 94.77%\n",
      "Iteration 23000: 0.7168725728988647, Test Accuracy: 95.04%\n",
      "Iteration 24000: 0.7283750772476196, Test Accuracy: 94.96%\n",
      "Iteration 25000: 0.8216639161109924, Test Accuracy: 94.89999999999999%\n",
      "Iteration 26000: 0.5021438598632812, Test Accuracy: 95.1%\n",
      "Iteration 27000: 0.5296969413757324, Test Accuracy: 95.00999999999999%\n",
      "Iteration 28000: 0.3186706602573395, Test Accuracy: 95.0%\n",
      "Iteration 29000: 0.49775922298431396, Test Accuracy: 95.04%\n",
      "Iteration 30000: 0.5738121271133423, Test Accuracy: 95.03%\n",
      "Iteration 31000: 0.4463481903076172, Test Accuracy: 94.93%\n",
      "Iteration 32000: 0.6789067387580872, Test Accuracy: 94.95%\n",
      "Iteration 33000: 0.29345208406448364, Test Accuracy: 94.94%\n",
      "Iteration 34000: 0.40038204193115234, Test Accuracy: 94.93%\n",
      "Iteration 35000: 0.32208043336868286, Test Accuracy: 94.99%\n",
      "Iteration 36000: 0.21272355318069458, Test Accuracy: 95.0%\n",
      "Iteration 37000: 0.22748683393001556, Test Accuracy: 94.94%\n",
      "Iteration 38000: 0.331292062997818, Test Accuracy: 94.94%\n",
      "Iteration 39000: 0.17565561830997467, Test Accuracy: 94.99%\n",
      "Iteration 40000: 0.3106424808502197, Test Accuracy: 95.03%\n"
     ]
    }
   ],
   "source": [
    "# SGD\n",
    "loss_no_bn = [None for _ in range(n_iterations)]\n",
    "accuracy_no_bn = []\n",
    "with tf.Session(graph=graph_no_bn) as sess:\n",
    "    tf.global_variables_initializer().run()\n",
    "    for i in range(n_iterations):\n",
    "        # training\n",
    "        batch_images, batch_labels = mnist.train.next_batch(batch_size)\n",
    "        feed_dict = {tf_x_no_bn: batch_images, tf_y_no_bn:batch_labels}\n",
    "        _ = sess.run(train_no_nb, feed_dict=feed_dict)\n",
    "        l = sess.run(cross_entropy_no_bn, feed_dict=feed_dict)\n",
    "        loss_no_bn[i] = l\n",
    "        if (i+1) % 1000 == 0:\n",
    "            # prediction\n",
    "            feed_dict[tf_x_no_bn] = mnist.test.images\n",
    "            feed_dict[tf_y_no_bn] = mnist.test.labels\n",
    "            predict_y = sess.run(predict_y_no_bn, feed_dict=feed_dict)\n",
    "            acc = compute_accuracy(predict_y, np.argmax(mnist.test.labels, axis=1))\n",
    "            accuracy_no_bn.append(acc)\n",
    "            print(\"Iteration {}: {}, Test Accuracy: {}%\".format(i+1, l, acc))\n",
    "    train_variagles = [(v.name.split(\":\")[0], v.eval()) for v in tf.trainable_variables()]"
   ]
  },
  {
   "cell_type": "code",
   "execution_count": 11,
   "metadata": {},
   "outputs": [
    {
     "name": "stdout",
     "output_type": "stream",
     "text": [
      "['W1', 'b1', 'W2', 'b2', 'W3', 'b3']\n",
      "[(784, 100), (100,), (100, 100), (100,), (100, 10), (10,)]\n"
     ]
    }
   ],
   "source": [
    "print([v[0] for v in train_variagles])\n",
    "print([v[1].shape for v in train_variagles])"
   ]
  },
  {
   "cell_type": "code",
   "execution_count": 12,
   "metadata": {},
   "outputs": [
    {
     "name": "stdout",
     "output_type": "stream",
     "text": [
      "Adds a Batch Normalization layer from http://arxiv.org/abs/1502.03167.\n",
      "\n",
      "    \"Batch Normalization: Accelerating Deep Network Training by Reducing\n",
      "    Internal Covariate Shift\"\n",
      "\n",
      "    Sergey Ioffe, Christian Szegedy\n",
      "\n",
      "  Can be used as a normalizer function for conv2d and fully_connected.\n",
      "\n",
      "  Note: when training, the moving_mean and moving_variance need to be updated.\n",
      "  By default the update ops are placed in `tf.GraphKeys.UPDATE_OPS`, so they\n",
      "  need to be added as a dependency to the `train_op`. For example:\n",
      "\n",
      "  ```python\n",
      "    update_ops = tf.get_collection(tf.GraphKeys.UPDATE_OPS)\n",
      "    with tf.control_dependencies(update_ops):\n",
      "      train_op = optimizer.minimize(loss)\n",
      "  ```\n",
      "\n",
      "  One can set updates_collections=None to force the updates in place, but that\n",
      "  can have a speed penalty, especially in distributed settings.\n",
      "\n",
      "  Args:\n",
      "    inputs: A tensor with 2 or more dimensions, where the first dimension has\n",
      "      `batch_size`. The normalization is over all but the last dimension if\n",
      "      `data_format` is `NHWC` and the second dimension if `data_format` is\n",
      "      `NCHW`.\n",
      "    decay: Decay for the moving average. Reasonable values for `decay` are close\n",
      "      to 1.0, typically in the multiple-nines range: 0.999, 0.99, 0.9, etc.\n",
      "      Lower `decay` value (recommend trying `decay`=0.9) if model experiences\n",
      "      reasonably good training performance but poor validation and/or test\n",
      "      performance. Try zero_debias_moving_mean=True for improved stability.\n",
      "    center: If True, add offset of `beta` to normalized tensor. If False, `beta`\n",
      "      is ignored.\n",
      "    scale: If True, multiply by `gamma`. If False, `gamma` is\n",
      "      not used. When the next layer is linear (also e.g. `nn.relu`), this can be\n",
      "      disabled since the scaling can be done by the next layer.\n",
      "    epsilon: Small float added to variance to avoid dividing by zero.\n",
      "    activation_fn: Activation function, default set to None to skip it and\n",
      "      maintain a linear activation.\n",
      "    param_initializers: Optional initializers for beta, gamma, moving mean and\n",
      "      moving variance.\n",
      "    param_regularizers: Optional regularizer for beta and gamma.\n",
      "    updates_collections: Collections to collect the update ops for computation.\n",
      "      The updates_ops need to be executed with the train_op.\n",
      "      If None, a control dependency would be added to make sure the updates are\n",
      "      computed in place.\n",
      "    is_training: Whether or not the layer is in training mode. In training mode\n",
      "      it would accumulate the statistics of the moments into `moving_mean` and\n",
      "      `moving_variance` using an exponential moving average with the given\n",
      "      `decay`. When it is not in training mode then it would use the values of\n",
      "      the `moving_mean` and the `moving_variance`.\n",
      "    reuse: Whether or not the layer and its variables should be reused. To be\n",
      "      able to reuse the layer scope must be given.\n",
      "    variables_collections: Optional collections for the variables.\n",
      "    outputs_collections: Collections to add the outputs.\n",
      "    trainable: If `True` also add variables to the graph collection\n",
      "      `GraphKeys.TRAINABLE_VARIABLES` (see `tf.Variable`).\n",
      "    batch_weights: An optional tensor of shape `[batch_size]`,\n",
      "      containing a frequency weight for each batch item. If present,\n",
      "      then the batch normalization uses weighted mean and\n",
      "      variance. (This can be used to correct for bias in training\n",
      "      example selection.)\n",
      "    fused:  Use nn.fused_batch_norm if True, nn.batch_normalization otherwise.\n",
      "    data_format: A string. `NHWC` (default) and `NCHW` are supported.\n",
      "    zero_debias_moving_mean: Use zero_debias for moving_mean. It creates a new\n",
      "      pair of variables 'moving_mean/biased' and 'moving_mean/local_step'.\n",
      "    scope: Optional scope for `variable_scope`.\n",
      "    renorm: Whether to use Batch Renormalization\n",
      "      (https://arxiv.org/abs/1702.03275). This adds extra variables during\n",
      "      training. The inference is the same for either value of this parameter.\n",
      "    renorm_clipping: A dictionary that may map keys 'rmax', 'rmin', 'dmax' to\n",
      "      scalar `Tensors` used to clip the renorm correction. The correction\n",
      "      `(r, d)` is used as `corrected_value = normalized_value * r + d`, with\n",
      "      `r` clipped to [rmin, rmax], and `d` to [-dmax, dmax]. Missing rmax, rmin,\n",
      "      dmax are set to inf, 0, inf, respectively.\n",
      "    renorm_decay: Momentum used to update the moving means and standard\n",
      "      deviations with renorm. Unlike `momentum`, this affects training\n",
      "      and should be neither too small (which would add noise) nor too large\n",
      "      (which would give stale estimates). Note that `decay` is still applied\n",
      "      to get the means and variances for inference.\n",
      "\n",
      "  Returns:\n",
      "    A `Tensor` representing the output of the operation.\n",
      "\n",
      "  Raises:\n",
      "    ValueError: If `batch_weights` is not None and `fused` is True.\n",
      "    ValueError: If `param_regularizers` is not None and `fused` is True.\n",
      "    ValueError: If `data_format` is neither `NHWC` nor `NCHW`.\n",
      "    ValueError: If the rank of `inputs` is undefined.\n",
      "    ValueError: If rank or channels dimension of `inputs` is undefined.\n",
      "  \n"
     ]
    }
   ],
   "source": [
    "print(tf.contrib.layers.batch_norm.__doc__)"
   ]
  },
  {
   "cell_type": "code",
   "execution_count": 28,
   "metadata": {
    "collapsed": true
   },
   "outputs": [],
   "source": [
    "# Batch Normalized (BN) Neural Network\n",
    "# Here I use batch normalization layer from tf.contrib.layers.batch_norm\n",
    "# but it seems like it can not reproduce the results in the blog.\n",
    "# I'll try tf.nn.batch_normalization in another notebook later.\n",
    "graph_bn = tf.Graph()\n",
    "\n",
    "with graph_bn.as_default():\n",
    "    tf_x_bn = tf.placeholder(dtype=tf.float32, \n",
    "                             shape=[None, 784],\n",
    "                             name=\"tf_x_bn\")\n",
    "    tf_y_bn = tf.placeholder(dtype=tf.float32, \n",
    "                             shape=[None, 10],\n",
    "                             name=\"tf_y_bn\") \n",
    "    tf_is_training = tf.placeholder(tf.bool, name=\"is_training\")\n",
    "    # layer 1\n",
    "    tf_W1_bn = tf.Variable(w1_init,\n",
    "                           name=\"W1_bn\",\n",
    "                           dtype=tf.float32)\n",
    "    tf_z1_bn = tf.matmul(tf_x_bn, tf_W1_bn)\n",
    "    \n",
    "    # BN for layer 1\n",
    "    tf_l1 = tf.contrib.layers.batch_norm(tf_z1_bn,\n",
    "                                         decay=0.999,\n",
    "                                         center=True, \n",
    "                                         scale=True,\n",
    "                                         epsilon=0.0001,\n",
    "                                         activation_fn=tf.nn.sigmoid,\n",
    "                                         is_training=tf_is_training)\n",
    "    # layer 2\n",
    "    tf_W2_bn = tf.Variable(w2_init,\n",
    "                           name=\"W2_bn\",\n",
    "                           dtype=tf.float32)\n",
    "    tf_z2_bn = tf.matmul(tf_l1, tf_W2_bn)\n",
    "    # BN layer 2\n",
    "    tf_l2 = tf.contrib.layers.batch_norm(tf_z2_bn,\n",
    "                                         decay=0.999,\n",
    "                                         center=True,\n",
    "                                         scale=True,\n",
    "                                         epsilon=0.0001,\n",
    "                                         activation_fn=tf.nn.sigmoid,\n",
    "                                         is_training=tf_is_training)\n",
    "    # layer 3\n",
    "    tf_W3_bn = tf.Variable(w3_init,\n",
    "                           name=\"W3_bn\",\n",
    "                          dtype=tf.float32)\n",
    "    tf_b3_bn = tf.Variable(b3_init,\n",
    "                           name=\"b3_bn\",\n",
    "                           dtype=tf.float32)\n",
    "    \n",
    "    tf_z3 = tf.matmul(tf_l2, tf_W3_bn)+tf_b3_bn\n",
    "    tf_l3 = tf.nn.softmax(tf_z3)\n",
    "    predict_y_bn = tf.arg_max(tf_l3, 1)\n",
    "    cross_entropy_bn = -tf.reduce_sum(tf_y_bn*tf.log(tf_l3))\n",
    "    train_op_bn = tf.train.GradientDescentOptimizer(learning_rate=0.01).minimize(cross_entropy_bn) "
   ]
  },
  {
   "cell_type": "code",
   "execution_count": 29,
   "metadata": {},
   "outputs": [
    {
     "name": "stdout",
     "output_type": "stream",
     "text": [
      "Iteration 1000:24.888896942138672, Test Accuracy:47.49%\n",
      "Iteration 2000:18.471681594848633, Test Accuracy:50.55%\n",
      "Iteration 3000:17.034822463989258, Test Accuracy:53.5%\n",
      "Iteration 4000:13.223346710205078, Test Accuracy:52.31%\n",
      "Iteration 5000:10.80402946472168, Test Accuracy:48.92%\n",
      "Iteration 6000:12.952299118041992, Test Accuracy:51.61%\n",
      "Iteration 7000:12.566007614135742, Test Accuracy:50.07%\n",
      "Iteration 8000:5.987469673156738, Test Accuracy:51.190000000000005%\n",
      "Iteration 9000:12.437122344970703, Test Accuracy:48.57%\n",
      "Iteration 10000:8.325185775756836, Test Accuracy:50.4%\n",
      "Iteration 11000:13.805045127868652, Test Accuracy:50.14999999999999%\n",
      "Iteration 12000:2.8007874488830566, Test Accuracy:52.26%\n",
      "Iteration 13000:7.077252388000488, Test Accuracy:53.21%\n",
      "Iteration 14000:7.680533409118652, Test Accuracy:50.3%\n",
      "Iteration 15000:6.154809474945068, Test Accuracy:51.790000000000006%\n",
      "Iteration 16000:8.921774864196777, Test Accuracy:50.5%\n",
      "Iteration 17000:1.9968222379684448, Test Accuracy:51.22%\n",
      "Iteration 18000:1.42938232421875, Test Accuracy:49.81%\n",
      "Iteration 19000:1.4391400814056396, Test Accuracy:51.559999999999995%\n",
      "Iteration 20000:3.1632227897644043, Test Accuracy:49.6%\n",
      "Iteration 21000:2.622166633605957, Test Accuracy:49.14%\n",
      "Iteration 22000:2.8970730304718018, Test Accuracy:51.449999999999996%\n",
      "Iteration 23000:1.5124292373657227, Test Accuracy:50.529999999999994%\n",
      "Iteration 24000:0.9839572906494141, Test Accuracy:49.74%\n",
      "Iteration 25000:1.495295763015747, Test Accuracy:51.839999999999996%\n",
      "Iteration 26000:0.9359670877456665, Test Accuracy:51.080000000000005%\n",
      "Iteration 27000:1.0012941360473633, Test Accuracy:48.97%\n",
      "Iteration 28000:2.3242783546447754, Test Accuracy:49.93%\n",
      "Iteration 29000:1.1808240413665771, Test Accuracy:51.629999999999995%\n",
      "Iteration 30000:1.9552067518234253, Test Accuracy:49.72%\n",
      "Iteration 31000:0.4733663499355316, Test Accuracy:49.38%\n",
      "Iteration 32000:0.9622766375541687, Test Accuracy:49.43%\n",
      "Iteration 33000:0.6427842378616333, Test Accuracy:50.68%\n",
      "Iteration 34000:0.885991096496582, Test Accuracy:50.01%\n",
      "Iteration 35000:0.8940137624740601, Test Accuracy:50.43%\n",
      "Iteration 36000:0.4531978666782379, Test Accuracy:50.43%\n",
      "Iteration 37000:0.6593320965766907, Test Accuracy:49.13%\n",
      "Iteration 38000:0.8249977231025696, Test Accuracy:48.96%\n",
      "Iteration 39000:0.7262136936187744, Test Accuracy:49.71%\n",
      "Iteration 40000:0.16286811232566833, Test Accuracy:50.11%\n"
     ]
    }
   ],
   "source": [
    "loss_bn = [None for _ in range(n_iterations)]\n",
    "accuracy_bn = []\n",
    "\n",
    "with tf.Session(graph=graph_bn) as sess:\n",
    "    tf.global_variables_initializer().run()\n",
    "    for i in range(n_iterations):\n",
    "        # training\n",
    "        batch_images, batch_labels = mnist.train.next_batch(batch_size)\n",
    "        feed_dict = {tf_x_bn:batch_images, \n",
    "                     tf_y_bn:batch_labels,\n",
    "                     tf_is_training:True}\n",
    "        _ = sess.run(train_op_bn, feed_dict=feed_dict)\n",
    "        l = sess.run(cross_entropy_bn, feed_dict=feed_dict)\n",
    "        loss_bn[i] = l\n",
    "        if (i+1) % 1000 == 0:\n",
    "            # prediction\n",
    "            feed_dict[tf_x_bn] = mnist.test.images\n",
    "            feed_dict[tf_y_bn] = mnist.test.labels\n",
    "            feed_dict[tf_is_training] = False\n",
    "            predict_y = sess.run(predict_y_bn, feed_dict=feed_dict)\n",
    "            acc = compute_accuracy(predict_y, np.argmax(mnist.test.labels, axis=1))\n",
    "            accuracy_bn.append(acc)\n",
    "            print(\"Iteration {}:{}, Test Accuracy:{}%\".format(i+1, l, acc))"
   ]
  },
  {
   "cell_type": "code",
   "execution_count": 30,
   "metadata": {},
   "outputs": [
    {
     "data": {
      "text/plain": [
       "<matplotlib.legend.Legend at 0x11ea18a58>"
      ]
     },
     "execution_count": 30,
     "metadata": {},
     "output_type": "execute_result"
    },
    {
     "data": {
      "image/png": "[encoded data removed]",
      "text/plain": [
       "<matplotlib.figure.Figure at 0x11ee57550>"
      ]
     },
     "metadata": {},
     "output_type": "display_data"
    }
   ],
   "source": [
    "plt.title(\"Loss\")\n",
    "line_no_bn, = plt.plot(loss_no_bn[:400], \"r-\")\n",
    "line_bn, = plt.plot(loss_bn[:400], \"b-\")\n",
    "plt.legend([line_no_bn, line_bn], [\"Without BN\", \"With BN\"])"
   ]
  },
  {
   "cell_type": "code",
   "execution_count": 31,
   "metadata": {},
   "outputs": [
    {
     "data": {
      "text/plain": [
       "<matplotlib.legend.Legend at 0x11eb11c18>"
      ]
     },
     "execution_count": 31,
     "metadata": {},
     "output_type": "execute_result"
    },
    {
     "data": {
      "image/png": "[encoded data removed]",
      "text/plain": [
       "<matplotlib.figure.Figure at 0x11eb9e8d0>"
      ]
     },
     "metadata": {},
     "output_type": "display_data"
    }
   ],
   "source": [
    "plt.title(\"Accuracy\")\n",
    "line_no_bn, = plt.plot(accuracy_no_bn, \"r-\")\n",
    "line_bn, = plt.plot(accuracy_bn, \"b-\")\n",
    "plt.legend([line_no_bn, line_bn], [\"Without BN\", \"With BN\"])"
   ]
  },
  {
   "cell_type": "code",
   "execution_count": null,
   "metadata": {
    "collapsed": true
   },
   "outputs": [],
   "source": []
  }
 ],
 "metadata": {
  "kernelspec": {
   "display_name": "Python 3",
   "language": "python",
   "name": "python3"
  },
  "language_info": {
   "codemirror_mode": {
    "name": "ipython",
    "version": 3
   },
   "file_extension": ".py",
   "mimetype": "text/x-python",
   "name": "python",
   "nbconvert_exporter": "python",
   "pygments_lexer": "ipython3",
   "version": "3.6.1"
  }
 },
 "nbformat": 4,
 "nbformat_minor": 2
}
