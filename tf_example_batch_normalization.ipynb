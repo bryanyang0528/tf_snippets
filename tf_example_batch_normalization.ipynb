{
 "cells": [
  {
   "cell_type": "markdown",
   "metadata": {},
   "source": [
    "- [R2RT - Blog](https://r2rt.com/implementing-batch-normalization-in-tensorflow.html)"
   ]
  },
  {
   "cell_type": "code",
   "execution_count": 1,
   "metadata": {
    "collapsed": true
   },
   "outputs": [],
   "source": [
    "%matplotlib inline\n",
    "from __future__ import print_function\n",
    "import numpy as np\n",
    "import tensorflow as tf\n",
    "from tensorflow.examples.tutorials.mnist import input_data\n",
    "import matplotlib.pyplot as plt"
   ]
  },
  {
   "cell_type": "code",
   "execution_count": 2,
   "metadata": {},
   "outputs": [
    {
     "name": "stdout",
     "output_type": "stream",
     "text": [
      "Extracting data/train-images-idx3-ubyte.gz\n",
      "Extracting data/train-labels-idx1-ubyte.gz\n",
      "Extracting data/t10k-images-idx3-ubyte.gz\n",
      "Extracting data/t10k-labels-idx1-ubyte.gz\n"
     ]
    }
   ],
   "source": [
    "mnist = input_data.read_data_sets(\"data\", one_hot=True)"
   ]
  },
  {
   "cell_type": "code",
   "execution_count": 3,
   "metadata": {},
   "outputs": [
    {
     "name": "stdout",
     "output_type": "stream",
     "text": [
      "[ 0.  0.  0.  0.  0.  0.  0.  0.  1.  0.]\n",
      "(784,)\n"
     ]
    },
    {
     "data": {
      "text/plain": [
       "<matplotlib.image.AxesImage at 0x125281588>"
      ]
     },
     "execution_count": 3,
     "metadata": {},
     "output_type": "execute_result"
    },
    {
     "data": {
      "image/png": "[encoded data removed]",
      "text/plain": [
       "<matplotlib.figure.Figure at 0x11bf3bb70>"
      ]
     },
     "metadata": {},
     "output_type": "display_data"
    }
   ],
   "source": [
    "print(mnist.train.labels[3690])\n",
    "print(mnist.train.images[3690].shape)\n",
    "plt.imshow(mnist.train.images[3690].reshape((28, 28)), cmap=\"gray\")"
   ]
  },
  {
   "cell_type": "code",
   "execution_count": 4,
   "metadata": {
    "collapsed": true
   },
   "outputs": [],
   "source": [
    "def compute_accuracy(y1, y2):\n",
    "    return 100*((y1 == y2).astype(np.int).sum()/len(y1))"
   ]
  },
  {
   "cell_type": "code",
   "execution_count": 5,
   "metadata": {
    "collapsed": true
   },
   "outputs": [],
   "source": [
    "# initial values (fixed, in order to give comparable results)\n",
    "np.random.seed(3690)\n",
    "\n",
    "w1_init = np.random.randn(784, 100)\n",
    "b1_init = np.random.randn(100)\n",
    "\n",
    "w2_init = np.random.randn(100, 100)\n",
    "b2_init = np.random.randn(100)\n",
    "\n",
    "w3_init = np.random.randn(100, 10)\n",
    "b3_init = np.random.randn(10)"
   ]
  },
  {
   "cell_type": "code",
   "execution_count": 6,
   "metadata": {
    "collapsed": true
   },
   "outputs": [],
   "source": [
    "# network without batch normalization\n",
    "graph_no_bn = tf.Graph()\n",
    "\n",
    "with graph_no_bn.as_default():\n",
    "    tf_x_no_bn = tf.placeholder(dtype=tf.float32, \n",
    "                                shape=[None, 784])\n",
    "    tf_y_no_bn = tf.placeholder(dtype=tf.float32, \n",
    "                                shape=[None, 10])\n",
    "    \n",
    "    # fully connected layer 1\n",
    "    tf_W1_no_bn = tf.Variable(w1_init,\n",
    "                              name=\"W1\", \n",
    "                              dtype=tf.float32)\n",
    "    tf_b1_no_bn = tf.Variable(b1_init,\n",
    "                              name=\"b1\",\n",
    "                              dtype=tf.float32)\n",
    "    tf_z1 = tf.matmul(tf_x_no_bn, tf_W1_no_bn) + tf_b1_no_bn\n",
    "    tf_l1 = tf.nn.sigmoid(tf_z1)\n",
    "    \n",
    "    # fully connected layer 2\n",
    "    tf_W2_no_bn = tf.Variable(w2_init, \n",
    "                              name=\"W2\",\n",
    "                              dtype=tf.float32)\n",
    "    tf_b2_no_bn = tf.Variable(b2_init,\n",
    "                              name=\"b2\",\n",
    "                              dtype=tf.float32)\n",
    "    tf_z2 = tf.matmul(tf_l1, tf_W2_no_bn) + tf_b2_no_bn\n",
    "    tf_l2 = tf.nn.sigmoid(tf_z2)\n",
    "    \n",
    "    # fully connect layer 3\n",
    "    tf_W3_no_bn = tf.Variable(w3_init,\n",
    "                              name=\"W3\",\n",
    "                              dtype=tf.float32)\n",
    "    tf_b3_no_bn = tf.Variable(b3_init,\n",
    "                              name=\"b3\",\n",
    "                              dtype=tf.float32)\n",
    "    tf_l3 = tf.matmul(tf_l2, tf_W3_no_bn)+tf_b3_no_bn\n",
    "    \n",
    "    tf_y_hat_no_bn = tf.nn.softmax(tf_l3)\n",
    "    predict_y_no_bn = tf.argmax(tf_l3, 1)\n",
    "    \n",
    "    cross_entropy_no_bn = -tf.reduce_sum(tf_y_no_bn*tf.log(tf_y_hat_no_bn))\n",
    "    optimizer_no_bn = tf.train.GradientDescentOptimizer(learning_rate=0.01)\n",
    "    train_no_nb = optimizer_no_bn.minimize(cross_entropy_no_bn)"
   ]
  },
  {
   "cell_type": "code",
   "execution_count": 7,
   "metadata": {
    "collapsed": true
   },
   "outputs": [],
   "source": [
    "batch_size=100\n",
    "n_iterations = 40000"
   ]
  },
  {
   "cell_type": "code",
   "execution_count": 8,
   "metadata": {},
   "outputs": [
    {
     "name": "stdout",
     "output_type": "stream",
     "text": [
      "Iteration 1000: 11.362983703613281, Test Accuracy: 88.0%\n",
      "Iteration 2000: 14.395584106445312, Test Accuracy: 94.0%\n",
      "Iteration 3000: 5.983454704284668, Test Accuracy: 91.0%\n",
      "Iteration 4000: 10.788186073303223, Test Accuracy: 95.0%\n",
      "Iteration 5000: 10.372574806213379, Test Accuracy: 95.0%\n",
      "Iteration 6000: 7.307378768920898, Test Accuracy: 94.0%\n",
      "Iteration 7000: 1.9053680896759033, Test Accuracy: 92.0%\n",
      "Iteration 8000: 5.156550407409668, Test Accuracy: 98.0%\n",
      "Iteration 9000: 2.987541675567627, Test Accuracy: 93.0%\n",
      "Iteration 10000: 2.344890594482422, Test Accuracy: 96.0%\n",
      "Iteration 11000: 1.3868452310562134, Test Accuracy: 95.0%\n",
      "Iteration 12000: 1.8908889293670654, Test Accuracy: 96.0%\n",
      "Iteration 13000: 2.4034361839294434, Test Accuracy: 91.0%\n",
      "Iteration 14000: 1.7143120765686035, Test Accuracy: 97.0%\n",
      "Iteration 15000: 3.8013792037963867, Test Accuracy: 95.0%\n",
      "Iteration 16000: 1.6252985000610352, Test Accuracy: 96.0%\n",
      "Iteration 17000: 2.6689209938049316, Test Accuracy: 94.0%\n",
      "Iteration 18000: 1.1027501821517944, Test Accuracy: 99.0%\n",
      "Iteration 19000: 0.586243748664856, Test Accuracy: 93.0%\n",
      "Iteration 20000: 1.2628147602081299, Test Accuracy: 94.0%\n",
      "Iteration 21000: 0.9736036062240601, Test Accuracy: 93.0%\n",
      "Iteration 22000: 0.4787096083164215, Test Accuracy: 93.0%\n",
      "Iteration 23000: 0.3577316403388977, Test Accuracy: 97.0%\n",
      "Iteration 24000: 0.5224670171737671, Test Accuracy: 97.0%\n",
      "Iteration 25000: 0.4600760042667389, Test Accuracy: 95.0%\n",
      "Iteration 26000: 0.5697730183601379, Test Accuracy: 95.0%\n",
      "Iteration 27000: 0.4789031445980072, Test Accuracy: 98.0%\n",
      "Iteration 28000: 0.4014962911605835, Test Accuracy: 97.0%\n",
      "Iteration 29000: 0.29447486996650696, Test Accuracy: 95.0%\n",
      "Iteration 30000: 0.3394860029220581, Test Accuracy: 98.0%\n",
      "Iteration 31000: 0.2915557026863098, Test Accuracy: 97.0%\n",
      "Iteration 32000: 0.3728368282318115, Test Accuracy: 96.0%\n",
      "Iteration 33000: 0.43450015783309937, Test Accuracy: 92.0%\n",
      "Iteration 34000: 0.42609089612960815, Test Accuracy: 97.0%\n",
      "Iteration 35000: 0.2780027985572815, Test Accuracy: 95.0%\n",
      "Iteration 36000: 0.43488234281539917, Test Accuracy: 93.0%\n",
      "Iteration 37000: 0.3493708074092865, Test Accuracy: 94.0%\n",
      "Iteration 38000: 0.3019155263900757, Test Accuracy: 97.0%\n",
      "Iteration 39000: 0.2401338815689087, Test Accuracy: 99.0%\n",
      "Iteration 40000: 0.19174274802207947, Test Accuracy: 88.0%\n"
     ]
    }
   ],
   "source": [
    "# SGD\n",
    "loss_no_bn = [None for _ in range(n_iterations)]\n",
    "accuracy_no_bn = [None for _ in range(n_iterations)]\n",
    "with tf.Session(graph=graph_no_bn) as sess:\n",
    "    tf.global_variables_initializer().run()\n",
    "    for i in range(n_iterations):\n",
    "        # training\n",
    "        indices = np.random.choice(mnist.train.num_examples, batch_size)\n",
    "        batch_images = mnist.train.images[indices]\n",
    "        batch_labels = mnist.train.labels[indices]\n",
    "        feed_dict = {tf_x_no_bn: batch_images, tf_y_no_bn:batch_labels}\n",
    "        _ = sess.run(train_no_nb, feed_dict=feed_dict)\n",
    "        l = sess.run(cross_entropy_no_bn, feed_dict=feed_dict)\n",
    "        loss_no_bn[i] = l\n",
    "        \n",
    "        # prediction\n",
    "        test_images, test_labels = mnist.test.next_batch(batch_size)\n",
    "        feed_dict[tf_x_no_bn] = test_images\n",
    "        feed_dict[tf_y_no_bn] = test_labels\n",
    "        predict_y = sess.run(predict_y_no_bn, feed_dict=feed_dict)\n",
    "        acc = compute_accuracy(predict_y, np.argmax(test_labels, axis=1))\n",
    "        accuracy_no_bn[i] = acc\n",
    "        \n",
    "        if (i+1) % 1000 == 0:\n",
    "            print(\"Iteration {}: {}, Test Accuracy: {}%\".format(i+1, l, acc))\n",
    "    train_variagles = [(v.name.split(\":\")[0], v.eval()) for v in tf.trainable_variables()]"
   ]
  },
  {
   "cell_type": "code",
   "execution_count": 9,
   "metadata": {},
   "outputs": [
    {
     "name": "stdout",
     "output_type": "stream",
     "text": [
      "['W1', 'b1', 'W2', 'b2', 'W3', 'b3']\n",
      "[(784, 100), (100,), (100, 100), (100,), (100, 10), (10,)]\n"
     ]
    }
   ],
   "source": [
    "print([v[0] for v in train_variagles])\n",
    "print([v[1].shape for v in train_variagles])"
   ]
  },
  {
   "cell_type": "code",
   "execution_count": 10,
   "metadata": {
    "collapsed": true
   },
   "outputs": [],
   "source": [
    "def normalize(tensor, mean, var):\n",
    "    return (tensor - mean)/var"
   ]
  },
  {
   "cell_type": "code",
   "execution_count": 11,
   "metadata": {
    "collapsed": true
   },
   "outputs": [],
   "source": [
    "# Batch Normalized (BN) Neural Network\n",
    "graph_bn = tf.Graph()\n",
    "\n",
    "with graph_bn.as_default():\n",
    "    tf_x_bn = tf.placeholder(dtype=tf.float32, shape=[None, 784])\n",
    "    tf_y_bn = tf.placeholder(dtype=tf.float32, shape=[None, 10])\n",
    "    \n",
    "    # layer 1\n",
    "    tf_W1_bn = tf.Variable(w1_init,\n",
    "                           name=\"W1_bn\",\n",
    "                           dtype=tf.float32)\n",
    "    tf_b1_bn = tf.Variable(b1_init,\n",
    "                           name=\"b1_bn\",\n",
    "                           dtype=tf.float32)\n",
    "    tf_z1_bn = tf.matmul(tf_x_bn, tf_W1_bn) + tf_b1_bn\n",
    "    \n",
    "    # BN for layer 1\n",
    "    # Note that in order to make prediction with BN neural network,\n",
    "    # we here construct two BN layers, one for training and one for prediction.\n",
    "    # See https://arxiv.org/pdf/1502.03167v3.pdf section 3.1 for detail.\n",
    "    tf_bn1_gamma = tf.Variable(tf.ones(w1_init.shape[-1]), \n",
    "                               dtype=tf.float32,\n",
    "                               name=\"bn1_gamma\")\n",
    "    tf_bn1_beta = tf.Variable(tf.zeros(w1_init.shape[-1]), \n",
    "                              dtype=tf.float32,\n",
    "                              name=\"bn1_beta\")\n",
    "    \n",
    "    ## Prediction\n",
    "    tf_z1_mean_predict = tf.placeholder(tf.float32, \n",
    "                                        shape=[w1_init.shape[-1]],\n",
    "                                        name=\"z1_mean_predict\")\n",
    "    tf_z1_var_predict = tf.placeholder(tf.float32, \n",
    "                                       shape=[w1_init.shape[-1]],\n",
    "                                       name=\"z1_var_predict\")\n",
    "    tf_l1_predict = tf.sigmoid(tf_bn1_gamma*normalize(tf_z1_bn, tf_z1_mean_predict, tf_z1_var_predict)+tf_bn1_beta)\n",
    "    \n",
    "    ## Training\n",
    "    tf_z1_mean, tf_z1_var = tf.nn.moments(tf_z1_bn, [0])\n",
    "    tf_l1 = tf_bn1_gamma*normalize(tf_z1_bn, tf_z1_mean, tf_z1_var) + tf_bn1_beta\n",
    "    \n",
    "    # layer 2\n",
    "    tf_W2_bn = tf.Variable(w2_init,\n",
    "                           name=\"W2_bn\",\n",
    "                           dtype=tf.float32)\n",
    "    tf_b2_bn = tf.Variable(b2_init,\n",
    "                           name=\"b2_bn\",\n",
    "                           dtype=tf.float32)\n",
    "    # for training\n",
    "    tf_z2_bn = tf.matmul(tf_l1, tf_W2_bn) + tf_b2_bn\n",
    "    # for prediction\n",
    "    tf_z2_bn_predict = tf.matmul(tf_l1_predict, tf_W2_bn) + tf_b2_bn\n",
    "    \n",
    "    # BN layer 2\n",
    "    tf_bn2_gamma = tf.Variable(tf.ones(w2_init.shape[-1]),\n",
    "                               dtype=tf.float32,\n",
    "                               name=\"bn2_gamma\")\n",
    "    tf_bn2_beta = tf.Variable(tf.ones(w2_init.shape[-1]),\n",
    "                              dtype=tf.float32,\n",
    "                              name=\"bn2_beta\")\n",
    "    ## Predict\n",
    "    tf_z2_mean_predict = tf.placeholder(tf.float32, \n",
    "                                        shape=w2_init.shape[-1],\n",
    "                                        name=\"z2_mean_predict\")\n",
    "    tf_z2_var_predict = tf.placeholder(tf.float32, \n",
    "                                       shape=w2_init.shape[-1],\n",
    "                                       name=\"z2_var_predict\")\n",
    "    tf_l2_predict = tf.sigmoid(tf_bn2_gamma*normalize(tf_z2_bn_predict, tf_z2_mean_predict, tf_z2_var_predict)+tf_bn2_beta)\n",
    "    \n",
    "    ## Training\n",
    "    tf_z2_mean, tf_z2_var = tf.nn.moments(tf_z2_bn, [0])\n",
    "    tf_l2 = tf.sigmoid(tf_bn2_gamma*normalize(tf_z2_bn, tf_z2_mean, tf_z2_var)+tf_bn2_beta)\n",
    "    \n",
    "    # layer 3\n",
    "    tf_W3_bn = tf.Variable(w3_init,\n",
    "                           name=\"W3_bn\",\n",
    "                          dtype=tf.float32)\n",
    "    tf_b3_bn = tf.Variable(b3_init,\n",
    "                           name=\"b3_bn\",\n",
    "                           dtype=tf.float32)\n",
    "    ## Predict\n",
    "    tf_z3_predict = tf.matmul(tf_l2_predict, tf_W3_bn)+tf_b3_bn\n",
    "    tf_l3_predict = tf.nn.softmax(tf_z3_predict)\n",
    "    predict_y_bn = tf.arg_max(tf_l3_predict, 1)\n",
    "    \n",
    "    ## Training\n",
    "    tf_z3 = tf.matmul(tf_l2, tf_W3_bn)+tf_b3_bn\n",
    "    tf_l3 = tf.nn.softmax(tf_z3)\n",
    "    cross_entropy_bn = -tf.reduce_sum(tf_y_bn*tf.log(tf_l3))\n",
    "    train_op_bn = tf.train.GradientDescentOptimizer(learning_rate=0.01).minimize(cross_entropy_bn) "
   ]
  },
  {
   "cell_type": "code",
   "execution_count": 12,
   "metadata": {
    "collapsed": true
   },
   "outputs": [],
   "source": [
    "def update_means_vars(means, variances, new_means, new_variances, decay_rate=0.99):\n",
    "    for i in range(len(means)):\n",
    "        if means[i] is None:\n",
    "            means[i] = new_means[i]\n",
    "        else:\n",
    "            means[i] = decay_rate*means[i] + (1-decay_rate)*new_means[i]\n",
    "        \n",
    "        if variances[i] is None:\n",
    "            variances[i] = new_variances[i]\n",
    "        else:\n",
    "            variances[i] = decay_rate*variances[i] + (1-decay_rate)*new_variances[i]"
   ]
  },
  {
   "cell_type": "code",
   "execution_count": 13,
   "metadata": {},
   "outputs": [
    {
     "name": "stdout",
     "output_type": "stream",
     "text": [
      "Iteration 1000:30.528104782104492, Test Accuracy:5.0%\n",
      "Iteration 2000:20.332050323486328, Test Accuracy:5.0%\n",
      "Iteration 3000:13.255681991577148, Test Accuracy:18.0%\n",
      "Iteration 4000:13.71622371673584, Test Accuracy:11.0%\n",
      "Iteration 5000:11.189128875732422, Test Accuracy:12.0%\n",
      "Iteration 6000:9.45019817352295, Test Accuracy:10.0%\n",
      "Iteration 7000:4.857962608337402, Test Accuracy:9.0%\n",
      "Iteration 8000:11.938272476196289, Test Accuracy:7.000000000000001%\n",
      "Iteration 9000:6.530673503875732, Test Accuracy:12.0%\n",
      "Iteration 10000:11.289300918579102, Test Accuracy:5.0%\n",
      "Iteration 11000:5.397082328796387, Test Accuracy:6.0%\n",
      "Iteration 12000:6.986323833465576, Test Accuracy:13.0%\n",
      "Iteration 13000:4.0463385581970215, Test Accuracy:9.0%\n",
      "Iteration 14000:4.8478240966796875, Test Accuracy:10.0%\n",
      "Iteration 15000:3.588296413421631, Test Accuracy:7.000000000000001%\n",
      "Iteration 16000:4.114387512207031, Test Accuracy:10.0%\n",
      "Iteration 17000:4.2693095207214355, Test Accuracy:10.0%\n",
      "Iteration 18000:8.775794982910156, Test Accuracy:9.0%\n",
      "Iteration 19000:3.033181667327881, Test Accuracy:9.0%\n",
      "Iteration 20000:3.208911895751953, Test Accuracy:6.0%\n",
      "Iteration 21000:1.504136323928833, Test Accuracy:11.0%\n",
      "Iteration 22000:3.1249797344207764, Test Accuracy:12.0%\n",
      "Iteration 23000:2.470457077026367, Test Accuracy:10.0%\n",
      "Iteration 24000:1.8622663021087646, Test Accuracy:13.0%\n",
      "Iteration 25000:3.9441349506378174, Test Accuracy:11.0%\n",
      "Iteration 26000:1.8642897605895996, Test Accuracy:10.0%\n",
      "Iteration 27000:1.2378056049346924, Test Accuracy:12.0%\n",
      "Iteration 28000:2.4947409629821777, Test Accuracy:11.0%\n",
      "Iteration 29000:3.1914405822753906, Test Accuracy:8.0%\n",
      "Iteration 30000:2.21914005279541, Test Accuracy:10.0%\n",
      "Iteration 31000:1.515913486480713, Test Accuracy:15.0%\n",
      "Iteration 32000:1.3400918245315552, Test Accuracy:11.0%\n",
      "Iteration 33000:0.8054435849189758, Test Accuracy:9.0%\n",
      "Iteration 34000:1.2399234771728516, Test Accuracy:12.0%\n",
      "Iteration 35000:0.9747026562690735, Test Accuracy:9.0%\n",
      "Iteration 36000:1.3293750286102295, Test Accuracy:10.0%\n",
      "Iteration 37000:1.1468231678009033, Test Accuracy:11.0%\n",
      "Iteration 38000:1.5241262912750244, Test Accuracy:13.0%\n",
      "Iteration 39000:0.9273859262466431, Test Accuracy:10.0%\n",
      "Iteration 40000:0.5956131219863892, Test Accuracy:7.000000000000001%\n"
     ]
    }
   ],
   "source": [
    "# training\n",
    "loss_bn = [None for _ in range(n_iterations)]\n",
    "accuracy_bn = [None for _ in range(n_iterations)]\n",
    "decay_rate = 0.9\n",
    "train_means = [None, None]\n",
    "train_vars = [None, None]\n",
    "to_eval_means = [tf_z1_mean, tf_z2_mean]\n",
    "to_eval_vars = [tf_z1_var, tf_z2_var]\n",
    "with tf.Session(graph=graph_bn) as sess:\n",
    "    tf.global_variables_initializer().run()\n",
    "    for i in range(n_iterations):\n",
    "        # training\n",
    "        indices = np.random.choice(mnist.train.num_examples, batch_size)\n",
    "        batch_images = mnist.train.images[indices]\n",
    "        batch_labels = mnist.train.labels[indices]\n",
    "        feed_dict = {tf_x_bn:batch_images, tf_y_bn:batch_labels}\n",
    "        _ = sess.run(train_op_bn, feed_dict=feed_dict)\n",
    "        means = sess.run(to_eval_means, feed_dict=feed_dict)\n",
    "        variances = sess.run(to_eval_vars, feed_dict=feed_dict)\n",
    "        update_means_vars(train_means, train_vars, means, variances, decay_rate)\n",
    "        l = sess.run(cross_entropy_bn, feed_dict=feed_dict)\n",
    "        loss_bn[i] = l\n",
    "        \n",
    "        # prediction\n",
    "        indices = np.random.choice(mnist.test.num_examples, batch_size)\n",
    "        test_images = mnist.test.images[indices]\n",
    "        test_labels = mnist.test.labels[indices]\n",
    "        feed_dict[tf_x_bn] = test_images\n",
    "        feed_dict[tf_y_bn] = test_labels\n",
    "        feed_dict[tf_z1_mean_predict] = train_means[0]\n",
    "        feed_dict[tf_z2_mean_predict] = train_means[1]\n",
    "        feed_dict[tf_z1_var_predict] = train_vars[0]\n",
    "        feed_dict[tf_z2_var_predict] = train_vars[1]\n",
    "        predict_y = sess.run(predict_y_bn, feed_dict=feed_dict)\n",
    "        acc = compute_accuracy(predict_y, np.argmax(test_labels, axis=1))\n",
    "        accuracy_bn[i] = acc\n",
    "        \n",
    "        if (i+1) % 1000 == 0:\n",
    "            print(\"Iteration {}:{}, Test Accuracy:{}%\".format(i+1, l, acc))"
   ]
  },
  {
   "cell_type": "code",
   "execution_count": 14,
   "metadata": {},
   "outputs": [
    {
     "data": {
      "text/plain": [
       "<matplotlib.legend.Legend at 0x12650f4a8>"
      ]
     },
     "execution_count": 14,
     "metadata": {},
     "output_type": "execute_result"
    },
    {
     "data": {
      "image/png": "[encoded data removed]",
      "text/plain": [
       "<matplotlib.figure.Figure at 0x12522b9e8>"
      ]
     },
     "metadata": {},
     "output_type": "display_data"
    }
   ],
   "source": [
    "plt.title(\"Training Loss\")\n",
    "line_no_bn, = plt.plot(loss_no_bn[:800], \"r-\")\n",
    "line_bn, = plt.plot(loss_bn[:800], \"b-\")\n",
    "plt.legend([line_no_bn, line_bn], [\"Without BN\", \"With BN\"])"
   ]
  },
  {
   "cell_type": "code",
   "execution_count": 15,
   "metadata": {},
   "outputs": [
    {
     "name": "stdout",
     "output_type": "stream",
     "text": [
      "(100,)\n",
      "(100,)\n"
     ]
    }
   ],
   "source": [
    "for train_mean in train_means:\n",
    "    print(train_mean.shape)"
   ]
  },
  {
   "cell_type": "code",
   "execution_count": null,
   "metadata": {
    "collapsed": true
   },
   "outputs": [],
   "source": []
  }
 ],
 "metadata": {
  "kernelspec": {
   "display_name": "Python 3",
   "language": "python",
   "name": "python3"
  },
  "language_info": {
   "codemirror_mode": {
    "name": "ipython",
    "version": 3
   },
   "file_extension": ".py",
   "mimetype": "text/x-python",
   "name": "python",
   "nbconvert_exporter": "python",
   "pygments_lexer": "ipython3",
   "version": "3.6.1"
  }
 },
 "nbformat": 4,
 "nbformat_minor": 2
}
