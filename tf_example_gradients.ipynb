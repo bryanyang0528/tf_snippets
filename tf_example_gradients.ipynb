{
 "cells": [
  {
   "cell_type": "code",
   "execution_count": 1,
   "metadata": {
    "collapsed": true,
    "deletable": true,
    "editable": true
   },
   "outputs": [],
   "source": [
    "import tensorflow as tf\n",
    "import numpy as np\n",
    "np.random.seed(3690)"
   ]
  },
  {
   "cell_type": "code",
   "execution_count": 2,
   "metadata": {
    "collapsed": false,
    "deletable": true,
    "editable": true
   },
   "outputs": [],
   "source": [
    "beta_true = np.array([2, 1, 3], dtype=np.float)\n",
    "X = 0.2*np.random.randn(10, 3) + np.array([3, 1, 2])\n",
    "Y = X.dot(beta_true) + 0.1*np.random.randn(10)"
   ]
  },
  {
   "cell_type": "code",
   "execution_count": 3,
   "metadata": {
    "collapsed": false,
    "deletable": true,
    "editable": true
   },
   "outputs": [
    {
     "data": {
      "text/plain": [
       "array([[ 3.09503707,  0.40299582,  2.06102421],\n",
       "       [ 2.98285144,  0.83189275,  2.37346666],\n",
       "       [ 3.20810042,  1.00242926,  2.04051188],\n",
       "       [ 2.84539432,  1.14191149,  2.18715818],\n",
       "       [ 3.27580542,  0.82608776,  1.86972986],\n",
       "       [ 2.5099321 ,  0.78008051,  2.40497419],\n",
       "       [ 2.8538918 ,  1.00111678,  2.29768634],\n",
       "       [ 2.86603255,  1.03767859,  2.26433845],\n",
       "       [ 3.23374931,  0.84731398,  1.94832026],\n",
       "       [ 3.25913163,  0.96937172,  1.95759511]])"
      ]
     },
     "execution_count": 3,
     "metadata": {},
     "output_type": "execute_result"
    }
   ],
   "source": [
    "X"
   ]
  },
  {
   "cell_type": "code",
   "execution_count": 4,
   "metadata": {
    "collapsed": false,
    "deletable": true,
    "editable": true
   },
   "outputs": [
    {
     "data": {
      "text/plain": [
       "array([ 12.86750223,  13.96153011,  13.53130887,  13.42630843,\n",
       "        12.97549328,  13.19593226,  13.57207838,  13.59171186,\n",
       "        13.16687516,  13.33501955])"
      ]
     },
     "execution_count": 4,
     "metadata": {},
     "output_type": "execute_result"
    }
   ],
   "source": [
    "Y"
   ]
  },
  {
   "cell_type": "code",
   "execution_count": 5,
   "metadata": {
    "collapsed": false,
    "deletable": true,
    "editable": true
   },
   "outputs": [
    {
     "data": {
      "text/plain": [
       "array([ 1.94279897,  0.82758608,  3.16593475])"
      ]
     },
     "execution_count": 5,
     "metadata": {},
     "output_type": "execute_result"
    }
   ],
   "source": [
    "beta_ols = np.linalg.inv(X.T.dot(X)).dot(X.T.dot(Y))\n",
    "beta_ols"
   ]
  },
  {
   "cell_type": "markdown",
   "metadata": {
    "deletable": true,
    "editable": true
   },
   "source": [
    "$$\n",
    "loss=\\frac{1}{2N}(Y - X\\beta)^T(Y-X\\beta) \\\\\n",
    "\\frac{\\partial loss}{\\partial \\beta}=\\frac{1}{N}(X^TX\\beta-X^TY)\n",
    "$$"
   ]
  },
  {
   "cell_type": "code",
   "execution_count": 6,
   "metadata": {
    "collapsed": true,
    "deletable": true,
    "editable": true
   },
   "outputs": [],
   "source": [
    "def grad_np(Y, X, beta):\n",
    "    N = len(Y)\n",
    "    return (X.T.dot(X).dot(beta) - X.T.dot(Y))/N"
   ]
  },
  {
   "cell_type": "code",
   "execution_count": 7,
   "metadata": {
    "collapsed": false,
    "deletable": true,
    "editable": true
   },
   "outputs": [
    {
     "data": {
      "text/plain": [
       "array([ 1.94272213,  0.83972984,  3.16101019])"
      ]
     },
     "execution_count": 7,
     "metadata": {},
     "output_type": "execute_result"
    }
   ],
   "source": [
    "# estimate beta with gradient descent\n",
    "beta_np = np.zeros(3, dtype=np.float)\n",
    "for _ in range(1000):\n",
    "    beta_np -= 0.1*grad_np(Y, X, beta_np)\n",
    "beta_np # very close to true beta [2, 1, 3]"
   ]
  },
  {
   "cell_type": "markdown",
   "metadata": {
    "deletable": true,
    "editable": true
   },
   "source": [
    "## Tensorflow implementation\n",
    "\n",
    "Simple showcase how `tf.gradients` works in `Tensorflow`."
   ]
  },
  {
   "cell_type": "code",
   "execution_count": 8,
   "metadata": {
    "collapsed": false,
    "deletable": true,
    "editable": true
   },
   "outputs": [],
   "source": [
    "# OLS gradient descent with Tensorflow\n",
    "tf.reset_default_graph()\n",
    "tf_X = tf.constant(X, dtype=tf.float64, name=\"tf_X\")\n",
    "tf_Y = tf.constant(Y, dtype=tf.float64, name=\"tf_Y\")\n",
    "tf_beta = tf.Variable(tf.zeros(3, dtype=tf.float64), name=\"beta\")\n",
    "tf_N = tf.cast(tf.shape(tf_Y), tf.float64)[0]\n",
    "tf_Y_hat = tf.reduce_sum(tf_X*tf_beta, 1)\n",
    "tf_loss = tf.reduce_sum(tf.square(tf_Y - tf_Y_hat))/(2*tf_N)\n",
    "tf_gradients = tf.gradients(tf_loss, [tf_beta])[0]\n",
    "# updating ops (mimic Optimizer.apply_gradients)\n",
    "tf_new_beta = tf.placeholder(dtype=tf.float64, name=\"tf_new_beta\")\n",
    "tf_assign_beta = tf_beta.assign(tf_new_beta)"
   ]
  },
  {
   "cell_type": "code",
   "execution_count": 9,
   "metadata": {
    "collapsed": true,
    "deletable": true,
    "editable": true
   },
   "outputs": [],
   "source": [
    "sess = tf.InteractiveSession()\n",
    "tf.global_variables_initializer().run()"
   ]
  },
  {
   "cell_type": "code",
   "execution_count": 10,
   "metadata": {
    "collapsed": false,
    "deletable": true,
    "editable": true
   },
   "outputs": [],
   "source": [
    "grad, _ = sess.run([tf_gradients, tf_beta])"
   ]
  },
  {
   "cell_type": "code",
   "execution_count": 11,
   "metadata": {
    "collapsed": false,
    "deletable": true,
    "editable": true
   },
   "outputs": [
    {
     "data": {
      "text/plain": [
       "True"
      ]
     },
     "execution_count": 11,
     "metadata": {},
     "output_type": "execute_result"
    }
   ],
   "source": [
    "np.allclose(grad_np(Y, X, np.zeros(3)), grad) # the same as numpy implementaion"
   ]
  },
  {
   "cell_type": "code",
   "execution_count": 12,
   "metadata": {
    "collapsed": false,
    "deletable": true,
    "editable": true
   },
   "outputs": [
    {
     "data": {
      "text/plain": [
       "array([ 1.94272213,  0.83972984,  3.16101019])"
      ]
     },
     "execution_count": 12,
     "metadata": {},
     "output_type": "execute_result"
    }
   ],
   "source": [
    "# run iteration\n",
    "for _ in range(1000):\n",
    "    grad, beta = sess.run([tf_gradients, tf_beta])\n",
    "    beta -= 0.1*grad\n",
    "    ## this line is extremely slow....\n",
    "    # _ = sess.run(tf_beta.assign(beta))\n",
    "    ## better approach (much faster):\n",
    "    _ = sess.run(tf_assign_beta, feed_dict={tf_new_beta:beta})\n",
    "beta"
   ]
  },
  {
   "cell_type": "code",
   "execution_count": 13,
   "metadata": {
    "collapsed": true,
    "deletable": true,
    "editable": true
   },
   "outputs": [],
   "source": [
    "sess.close()"
   ]
  },
  {
   "cell_type": "code",
   "execution_count": null,
   "metadata": {
    "collapsed": true
   },
   "outputs": [],
   "source": []
  }
 ],
 "metadata": {
  "kernelspec": {
   "display_name": "Python 3",
   "language": "python",
   "name": "python3"
  },
  "language_info": {
   "codemirror_mode": {
    "name": "ipython",
    "version": 3
   },
   "file_extension": ".py",
   "mimetype": "text/x-python",
   "name": "python",
   "nbconvert_exporter": "python",
   "pygments_lexer": "ipython3",
   "version": "3.6.1"
  }
 },
 "nbformat": 4,
 "nbformat_minor": 2
}
