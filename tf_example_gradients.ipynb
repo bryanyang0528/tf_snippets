{
 "cells": [
  {
   "cell_type": "code",
   "execution_count": 1,
   "metadata": {
    "collapsed": true
   },
   "outputs": [],
   "source": [
    "import tensorflow as tf\n",
    "import numpy as np"
   ]
  },
  {
   "cell_type": "code",
   "execution_count": 2,
   "metadata": {
    "collapsed": false
   },
   "outputs": [],
   "source": [
    "beta_true = np.array([2, 1, 3], dtype=np.float)\n",
    "X = 0.2*np.random.randn(10, 3) + np.array([3, 1, 2])\n",
    "Y = X.dot(beta_true) + 0.1*np.random.randn(10)"
   ]
  },
  {
   "cell_type": "code",
   "execution_count": 3,
   "metadata": {
    "collapsed": false
   },
   "outputs": [
    {
     "data": {
      "text/plain": [
       "array([[ 2.84191287,  0.90577322,  2.00011667],\n",
       "       [ 3.25694602,  1.20469387,  2.35623964],\n",
       "       [ 3.20523898,  1.1305971 ,  2.28246314],\n",
       "       [ 3.02773708,  1.35206348,  2.20828464],\n",
       "       [ 3.21546814,  1.33037426,  1.97505291],\n",
       "       [ 2.8921624 ,  1.17117094,  1.99926117],\n",
       "       [ 3.0519642 ,  0.84734446,  2.14804009],\n",
       "       [ 2.8785236 ,  1.26959117,  1.92257212],\n",
       "       [ 3.4686792 ,  1.23811325,  1.96051698],\n",
       "       [ 2.83270008,  0.88849026,  1.70203315]])"
      ]
     },
     "execution_count": 3,
     "metadata": {},
     "output_type": "execute_result"
    }
   ],
   "source": [
    "X"
   ]
  },
  {
   "cell_type": "code",
   "execution_count": 4,
   "metadata": {
    "collapsed": false
   },
   "outputs": [
    {
     "data": {
      "text/plain": [
       "array([ 12.63119895,  14.69139723,  14.44576831,  14.14313805,\n",
       "        13.55357155,  12.81225004,  13.32734516,  12.74377427,\n",
       "        14.17100097,  11.67448513])"
      ]
     },
     "execution_count": 4,
     "metadata": {},
     "output_type": "execute_result"
    }
   ],
   "source": [
    "Y"
   ]
  },
  {
   "cell_type": "code",
   "execution_count": 5,
   "metadata": {
    "collapsed": false
   },
   "outputs": [
    {
     "data": {
      "text/plain": [
       "array([ 2.05996628,  0.94565561,  2.93361638])"
      ]
     },
     "execution_count": 5,
     "metadata": {},
     "output_type": "execute_result"
    }
   ],
   "source": [
    "beta_ols = np.linalg.inv(X.T.dot(X)).dot(X.T.dot(Y))\n",
    "beta_ols"
   ]
  },
  {
   "cell_type": "markdown",
   "metadata": {},
   "source": [
    "$$\n",
    "loss=\\frac{1}{2N}(Y - X\\beta)^T(Y-X\\beta) \\\\\n",
    "\\frac{\\partial loss}{\\partial \\beta}=\\frac{1}{N}(X^TX\\beta-X^TY)\n",
    "$$"
   ]
  },
  {
   "cell_type": "code",
   "execution_count": 6,
   "metadata": {
    "collapsed": true
   },
   "outputs": [],
   "source": [
    "def grad_np(Y, X, beta):\n",
    "    N = len(Y)\n",
    "    return (X.T.dot(X).dot(beta) - X.T.dot(Y))/N"
   ]
  },
  {
   "cell_type": "code",
   "execution_count": 7,
   "metadata": {
    "collapsed": false
   },
   "outputs": [
    {
     "data": {
      "text/plain": [
       "array([ 2.15488409,  0.91723683,  2.80772781])"
      ]
     },
     "execution_count": 7,
     "metadata": {},
     "output_type": "execute_result"
    }
   ],
   "source": [
    "# estimate beta with gradient descent\n",
    "beta_np = np.zeros(3, dtype=np.float)\n",
    "for _ in range(1000):\n",
    "    beta_np -= 0.1*grad_np(Y, X, beta_np)\n",
    "beta_np # very close to true beta [2, 1, 3]"
   ]
  },
  {
   "cell_type": "markdown",
   "metadata": {},
   "source": [
    "## Tensorflow implementation\n",
    "\n",
    "I want to show you how `tf.gradients` works in `Tensorflow`."
   ]
  },
  {
   "cell_type": "code",
   "execution_count": 8,
   "metadata": {
    "collapsed": false
   },
   "outputs": [],
   "source": [
    "# OLS gradient descent with Tensorflow\n",
    "tf.reset_default_graph()\n",
    "tf_X = tf.constant(X, dtype=tf.float64, name=\"tf_X\")\n",
    "tf_Y = tf.constant(Y, dtype=tf.float64, name=\"tf_Y\")\n",
    "tf_beta = tf.Variable(tf.zeros(3, dtype=tf.float64), name=\"beta\")\n",
    "tf_N = tf.cast(tf.shape(tf_Y), tf.float64)[0]\n",
    "tf_Y_hat = tf.reduce_sum(tf_X*tf_beta, 1)\n",
    "tf_loss = tf.reduce_sum(tf.square(tf_Y - tf_Y_hat))/(2*tf_N)\n",
    "tf_gradients = tf.gradients(tf_loss, [tf_beta])[0]"
   ]
  },
  {
   "cell_type": "code",
   "execution_count": 9,
   "metadata": {
    "collapsed": true
   },
   "outputs": [],
   "source": [
    "sess = tf.InteractiveSession()\n",
    "tf.global_variables_initializer().run()"
   ]
  },
  {
   "cell_type": "code",
   "execution_count": 10,
   "metadata": {
    "collapsed": false
   },
   "outputs": [],
   "source": [
    "grad, _ = sess.run([tf_gradients, tf_beta])"
   ]
  },
  {
   "cell_type": "code",
   "execution_count": 11,
   "metadata": {
    "collapsed": false
   },
   "outputs": [
    {
     "data": {
      "text/plain": [
       "True"
      ]
     },
     "execution_count": 11,
     "metadata": {},
     "output_type": "execute_result"
    }
   ],
   "source": [
    "np.allclose(grad_np(Y, X, np.zeros(3)), grad) # the same as numpy implementaion"
   ]
  },
  {
   "cell_type": "code",
   "execution_count": 12,
   "metadata": {
    "collapsed": false
   },
   "outputs": [
    {
     "data": {
      "text/plain": [
       "array([ 2.15488409,  0.91723683,  2.80772781])"
      ]
     },
     "execution_count": 12,
     "metadata": {},
     "output_type": "execute_result"
    }
   ],
   "source": [
    "# run iteration\n",
    "for _ in range(1000):\n",
    "    grad, beta = sess.run([tf_gradients, tf_beta])\n",
    "    beta -= 0.1*grad\n",
    "    _ = sess.run(tf_beta.assign(beta)) # this line is extremely slow....\n",
    "beta"
   ]
  },
  {
   "cell_type": "code",
   "execution_count": null,
   "metadata": {
    "collapsed": true
   },
   "outputs": [],
   "source": []
  }
 ],
 "metadata": {
  "kernelspec": {
   "display_name": "Python 3",
   "language": "python",
   "name": "python3"
  },
  "language_info": {
   "codemirror_mode": {
    "name": "ipython",
    "version": 3
   },
   "file_extension": ".py",
   "mimetype": "text/x-python",
   "name": "python",
   "nbconvert_exporter": "python",
   "pygments_lexer": "ipython3",
   "version": "3.6.1"
  }
 },
 "nbformat": 4,
 "nbformat_minor": 2
}
