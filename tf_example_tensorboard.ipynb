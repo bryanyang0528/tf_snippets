{
 "cells": [
  {
   "cell_type": "code",
   "execution_count": 1,
   "metadata": {
    "collapsed": true
   },
   "outputs": [],
   "source": [
    "import numpy as np\n",
    "import tensorflow as tf"
   ]
  },
  {
   "cell_type": "code",
   "execution_count": 2,
   "metadata": {},
   "outputs": [
    {
     "name": "stdout",
     "output_type": "stream",
     "text": [
      "INFO:tensorflow:Summary name train loss is illegal; using train_loss instead.\n"
     ]
    }
   ],
   "source": [
    "tf.reset_default_graph()\n",
    "x = tf.placeholder(tf.float32, name=\"x\")\n",
    "y = tf.placeholder(tf.float32, name=\"y\")\n",
    "\n",
    "W = tf.Variable(np.random.randn(3, 1), dtype=tf.float32, name=\"weight\")\n",
    "b = tf.Variable(np.random.randn(1), dtype=tf.float32, name=\"bias\")\n",
    "y_hat = tf.matmul(x, W) + b\n",
    "\n",
    "loss = tf.reduce_mean(tf.square(y-y_hat), name=\"loss\")\n",
    "tf.summary.scalar(\"train loss\", loss)\n",
    "\n",
    "train_op = tf.train.GradientDescentOptimizer(learning_rate=0.01).minimize(loss)"
   ]
  },
  {
   "cell_type": "code",
   "execution_count": 3,
   "metadata": {},
   "outputs": [],
   "source": [
    "data_x = (np.array([1, 4, 6]) + np.random.randn(100, 3)).astype(np.float32)\n",
    "data_y = (data_x.dot(np.array([0.1, 0.2, 0.3])) + np.random.randn(100)).astype(np.float32)"
   ]
  },
  {
   "cell_type": "code",
   "execution_count": 4,
   "metadata": {},
   "outputs": [
    {
     "name": "stdout",
     "output_type": "stream",
     "text": [
      "loss: 0.9187338948249817\n",
      "loss: 0.896194338798523\n",
      "loss: 0.8902423977851868\n",
      "loss: 0.8849400281906128\n",
      "loss: 0.8799129724502563\n",
      "loss: 0.8751381039619446\n",
      "loss: 0.8706031441688538\n",
      "loss: 0.8662967681884766\n",
      "loss: 0.8622069358825684\n",
      "loss: 0.8583230376243591\n"
     ]
    }
   ],
   "source": [
    "sess = tf.InteractiveSession()\n",
    "merged_summary = tf.summary.merge_all()\n",
    "if tf.gfile.Exists(\"./board\"):\n",
    "    tf.gfile.DeleteRecursively(\"./board\")\n",
    "tf.gfile.MkDir(\"./board\")\n",
    "writer = tf.summary.FileWriter(\"./board\", sess.graph)\n",
    "tf.global_variables_initializer().run()\n",
    "feed_dict={x: data_x, y:data_y}\n",
    "\n",
    "for step in range(1000):\n",
    "    _, l = sess.run([train_op, loss], feed_dict=feed_dict)\n",
    "    if (step+1) % 100 == 0:\n",
    "        merged = sess.run(merged_summary, feed_dict=feed_dict)\n",
    "        writer.add_summary(merged, step)\n",
    "        print(\"loss: {}\".format(l))\n",
    "writer.close() # close writer (and flush all remaining summary)"
   ]
  },
  {
   "cell_type": "code",
   "execution_count": 5,
   "metadata": {
    "collapsed": true
   },
   "outputs": [],
   "source": [
    "sess.close()"
   ]
  },
  {
   "cell_type": "markdown",
   "metadata": {},
   "source": [
    "Run `tensorboard --logdir=./board`"
   ]
  },
  {
   "cell_type": "code",
   "execution_count": null,
   "metadata": {
    "collapsed": true
   },
   "outputs": [],
   "source": []
  }
 ],
 "metadata": {
  "kernelspec": {
   "display_name": "Python 3",
   "language": "python",
   "name": "python3"
  },
  "language_info": {
   "codemirror_mode": {
    "name": "ipython",
    "version": 3
   },
   "file_extension": ".py",
   "mimetype": "text/x-python",
   "name": "python",
   "nbconvert_exporter": "python",
   "pygments_lexer": "ipython3",
   "version": "3.6.1"
  }
 },
 "nbformat": 4,
 "nbformat_minor": 2
}
