{
 "cells": [
  {
   "cell_type": "markdown",
   "metadata": {},
   "source": [
    "Since I can't recreate this [R2RT](https://r2rt.com/implementing-batch-normalization-in-tensorflow.html) blog post results with `tf.contrib.layers.batch_norm`, I decided to make a second notebook which will follow closely with the implementation in the code.\n",
    "\n",
    "Let's see how far I can go!\n",
    "\n",
    "\\* You can find the details about batch normalization in this [paper](https://arxiv.org/pdf/1502.03167v3.pdf) if you don't know what it is."
   ]
  },
  {
   "cell_type": "code",
   "execution_count": 4,
   "metadata": {
    "collapsed": true
   },
   "outputs": [],
   "source": [
    "%matplotlib inline\n",
    "from __future__ import print_function\n",
    "from tensorflow.examples.tutorials.mnist import input_data\n",
    "import numpy as np\n",
    "import tensorflow as tf\n",
    "import matplotlib.pyplot as plt"
   ]
  },
  {
   "cell_type": "code",
   "execution_count": 3,
   "metadata": {},
   "outputs": [
    {
     "name": "stdout",
     "output_type": "stream",
     "text": [
      "Extracting data/train-images-idx3-ubyte.gz\n",
      "Extracting data/train-labels-idx1-ubyte.gz\n",
      "Extracting data/t10k-images-idx3-ubyte.gz\n",
      "Extracting data/t10k-labels-idx1-ubyte.gz\n"
     ]
    }
   ],
   "source": [
    "mnist = input_data.read_data_sets(\"data\", one_hot=True)"
   ]
  },
  {
   "cell_type": "code",
   "execution_count": 6,
   "metadata": {},
   "outputs": [
    {
     "name": "stdout",
     "output_type": "stream",
     "text": [
      "[ 0.  0.  0.  0.  0.  0.  0.  0.  1.  0.]\n"
     ]
    },
    {
     "data": {
      "text/plain": [
       "<matplotlib.image.AxesImage at 0x1215792b0>"
      ]
     },
     "execution_count": 6,
     "metadata": {},
     "output_type": "execute_result"
    },
    {
     "data": {
      "image/png": "[encoded data removed]",
      "text/plain": [
       "<matplotlib.figure.Figure at 0x12146d048>"
      ]
     },
     "metadata": {},
     "output_type": "display_data"
    }
   ],
   "source": [
    "print(mnist.train.labels[3690])\n",
    "plt.imshow(mnist.train.images[3690].reshape((28, 28)), cmap='gray', interpolation=None)"
   ]
  },
  {
   "cell_type": "code",
   "execution_count": 10,
   "metadata": {
    "collapsed": true
   },
   "outputs": [],
   "source": [
    "def batch_norm_wrapper(inputs, is_training=True, decay=0.999, epsilon=1e-5):\n",
    "    \"\"\"\n",
    "    batch_norm_wrapper\n",
    "    \n",
    "    Create a batch normalize layers\n",
    "    \n",
    "    params\n",
    "    ======\n",
    "    - inputs <Tensor>: input Tensor\n",
    "    - is_training <bool>: running in training mode (True by default)\n",
    "    - decay <float>: decay rate of the exponentail moving averages\n",
    "    \n",
    "    returns\n",
    "    =======\n",
    "    - outputs: batch normalized output\n",
    "    \"\"\"\n",
    "    N_features = inputs.get_shape()[-1]\n",
    "    \n",
    "    # Trainable variables for batch normalization\n",
    "    gamma = tf.Variable(tf.ones(N_features), \n",
    "                        dtype=tf.float32)\n",
    "    beta = tf.Variable(tf.zeros(N_features),\n",
    "                       dtype=tf.float32)\n",
    "    # non-trainable variables. Make sure it will not be\n",
    "    # updated with optimizer\n",
    "    moving_mean = tf.Variable(tf.zeros(N_features),\n",
    "                              trainable=False,\n",
    "                              dtype=tf.float32)\n",
    "    moving_var = tf.Variable(tf.ones(N_features),\n",
    "                             trainable=False,\n",
    "                             dtype=tf.float32)\n",
    "    if is_training:\n",
    "        train_mean, train_var = tf.nn.moments(inputs, [0])\n",
    "        update_mean_op = tf.assign(moving_mean, \n",
    "                                   decay*moving_mean+(1-decay)*train_mean)\n",
    "        update_var_op = tf.assign(moving_var,\n",
    "                                  decay*moving_var+(1-decay)*train_var)\n",
    "        with tf.control_dependencies([update_mean_op, update_var_op]):\n",
    "            # use tf.control_dependencies to make sure that update_mean_op and\n",
    "            # update_var_op will be executed before the evaluation of outputs\n",
    "            outputs = tf.nn.batch_normalization(inputs, \n",
    "                                                train_mean, \n",
    "                                                train_var, \n",
    "                                                beta, \n",
    "                                                gamma, \n",
    "                                                epsilon)\n",
    "    else:\n",
    "        # Here we will get the moving average mean an variance from restored \n",
    "        # session. That is, it will normalized inputs with the moving average\n",
    "        # learned from training session\n",
    "        outputs = tf.nn.batch_normalization(inputs,\n",
    "                                            moving_mean,\n",
    "                                            moving_var,\n",
    "                                            beta,\n",
    "                                            gamma,\n",
    "                                            epsilon)\n",
    "    return outputs"
   ]
  },
  {
   "cell_type": "code",
   "execution_count": 19,
   "metadata": {},
   "outputs": [],
   "source": [
    "w1_init = np.random.normal(size=(784, 100)).astype(np.float32)\n",
    "w2_init = np.random.normal(size=(100, 100)).astype(np.float32)\n",
    "w3_init = np.random.normal(size=(100, 10)).astype(np.float32)"
   ]
  },
  {
   "cell_type": "code",
   "execution_count": 35,
   "metadata": {
    "collapsed": true
   },
   "outputs": [],
   "source": [
    "def build_graph(graph, is_training=True):\n",
    "    with graph.as_default():\n",
    "        x_ = tf.placeholder(tf.float32, shape=[None, 784])\n",
    "        y_ = tf.placeholder(tf.float32, shape=[None, 10])\n",
    "        \n",
    "        # layer 1\n",
    "        W1 = tf.Variable(w1_init, dtype=tf.float32)\n",
    "        z1 = tf.matmul(x_, W1)\n",
    "        l1 = tf.nn.sigmoid(batch_norm_wrapper(z1, is_training=is_training))\n",
    "        \n",
    "        # layer 2\n",
    "        W2 = tf.Variable(w2_init, dtype=tf.float32)\n",
    "        z2 = tf.matmul(l1, W2)\n",
    "        l2 = tf.nn.sigmoid(batch_norm_wrapper(z2, is_training=is_training))\n",
    "        \n",
    "        # layer 3\n",
    "        W3 = tf.Variable(w3_init, dtype=tf.float32)\n",
    "        z3 = tf.matmul(l2, W3)\n",
    "        y = tf.nn.softmax(z3)\n",
    "        predict = tf.arg_max(y, 1)\n",
    "        \n",
    "        loss = -tf.reduce_sum(y_*tf.log(y))\n",
    "        train_op = tf.train.GradientDescentOptimizer(learning_rate=0.01).minimize(loss)\n",
    "        \n",
    "        saver = tf.train.Saver()\n",
    "    return x_, y_, predict, loss, train_op, saver"
   ]
  },
  {
   "cell_type": "code",
   "execution_count": 42,
   "metadata": {
    "collapsed": true
   },
   "outputs": [],
   "source": [
    "def compute_accuracy(y1, y2):\n",
    "    return 100*(y1 == y2).mean()"
   ]
  },
  {
   "cell_type": "code",
   "execution_count": 40,
   "metadata": {
    "collapsed": true
   },
   "outputs": [],
   "source": [
    "n_iteration = 10000\n",
    "batch_size=100"
   ]
  },
  {
   "cell_type": "code",
   "execution_count": 47,
   "metadata": {},
   "outputs": [
    {
     "name": "stdout",
     "output_type": "stream",
     "text": [
      "Iteration 1000: 33.61806869506836 90.60%\n",
      "Iteration 2000: 30.719919204711914 92.12%\n",
      "Iteration 3000: 15.241762161254883 93.32%\n",
      "Iteration 4000: 11.810280799865723 93.99%\n",
      "Iteration 5000: 17.605941772460938 94.54%\n",
      "Iteration 6000: 9.061473846435547 94.89%\n",
      "Iteration 7000: 7.425298690795898 95.05%\n",
      "Iteration 8000: 7.866730690002441 95.47%\n",
      "Iteration 9000: 11.218859672546387 95.71%\n",
      "Iteration 10000: 6.200161933898926 95.84%\n"
     ]
    }
   ],
   "source": [
    "train_graph = tf.Graph()\n",
    "x_, y_, predict, loss, train_op, saver = build_graph(train_graph, True)\n",
    "\n",
    "with tf.Session(graph=train_graph) as sess:\n",
    "    tf.global_variables_initializer().run()\n",
    "    \n",
    "    for step in range(n_iteration):\n",
    "        train_images, train_labels = mnist.train.next_batch(batch_size)\n",
    "        feed_dict = {x_:train_images,\n",
    "                     y_:train_labels}\n",
    "        _, l = sess.run([train_op, loss], feed_dict=feed_dict)\n",
    "        if (step+1) % 1000 == 0:\n",
    "            feed_dict[x_] = mnist.test.images\n",
    "            feed_dict[y_] = mnist.test.labels\n",
    "            pred = sess.run(predict, feed_dict=feed_dict)\n",
    "            acc = compute_accuracy(pred, np.argmax(mnist.test.labels, 1))\n",
    "            print(\"Iteration {}: {} {:.2f}%\".format(step+1, l, acc))\n",
    "    saver.save(sess, \"models/batch_norm\")"
   ]
  },
  {
   "cell_type": "code",
   "execution_count": 51,
   "metadata": {},
   "outputs": [
    {
     "name": "stdout",
     "output_type": "stream",
     "text": [
      "INFO:tensorflow:Restoring parameters from models/batch_norm\n",
      "Accuracy in reference phase: 95.82%\n"
     ]
    }
   ],
   "source": [
    "predict_graph = tf.Graph()\n",
    "x_, y_, predict, _, _, saver = build_graph(predict_graph, False)\n",
    "\n",
    "with tf.Session(graph=predict_graph) as sess:\n",
    "    tf.global_variables_initializer().run()\n",
    "    saver.restore(sess, \"models/batch_norm\")\n",
    "    \n",
    "    feed_dict = {x_: mnist.test.images,\n",
    "                 y_: mnist.test.labels}\n",
    "    pred = sess.run(predict, feed_dict=feed_dict)\n",
    "    acc = compute_accuracy(pred, np.argmax(mnist.test.labels, 1))\n",
    "    print(\"Accuracy in reference phase: {:.2f}%\".format(acc))"
   ]
  },
  {
   "cell_type": "markdown",
   "metadata": {},
   "source": [
    "Wow....It works. I'll dig into the source codes for both `tf.nn.batch_normalize` and `tf.contrib.layers.batch_norm` to see what goes wrong there (maybe?)"
   ]
  },
  {
   "cell_type": "code",
   "execution_count": null,
   "metadata": {
    "collapsed": true
   },
   "outputs": [],
   "source": []
  }
 ],
 "metadata": {
  "kernelspec": {
   "display_name": "Python 3",
   "language": "python",
   "name": "python3"
  },
  "language_info": {
   "codemirror_mode": {
    "name": "ipython",
    "version": 3
   },
   "file_extension": ".py",
   "mimetype": "text/x-python",
   "name": "python",
   "nbconvert_exporter": "python",
   "pygments_lexer": "ipython3",
   "version": "3.6.1"
  }
 },
 "nbformat": 4,
 "nbformat_minor": 2
}
