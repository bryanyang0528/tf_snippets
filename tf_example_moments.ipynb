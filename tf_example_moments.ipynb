{
 "cells": [
  {
   "cell_type": "code",
   "execution_count": 1,
   "metadata": {
    "collapsed": true
   },
   "outputs": [],
   "source": [
    "from __future__ import print_function\n",
    "import tensorflow as tf\n",
    "import numpy as np"
   ]
  },
  {
   "cell_type": "code",
   "execution_count": 2,
   "metadata": {},
   "outputs": [
    {
     "name": "stdout",
     "output_type": "stream",
     "text": [
      "Calculate the mean and variance of `x`.\n",
      "\n",
      "  The mean and variance are calculated by aggregating the contents of `x`\n",
      "  across `axes`.  If `x` is 1-D and `axes = [0]` this is just the mean\n",
      "  and variance of a vector.\n",
      "\n",
      "  Note: for numerical stability, when shift=None, the true mean\n",
      "  would be computed and used as shift.\n",
      "\n",
      "  When using these moments for batch normalization (see\n",
      "  `tf.nn.batch_normalization`):\n",
      "\n",
      "   * for so-called \"global normalization\", used with convolutional filters with\n",
      "     shape `[batch, height, width, depth]`, pass `axes=[0, 1, 2]`.\n",
      "   * for simple batch normalization pass `axes=[0]` (batch only).\n",
      "\n",
      "  Args:\n",
      "    x: A `Tensor`.\n",
      "    axes: Array of ints.  Axes along which to compute mean and\n",
      "      variance.\n",
      "    shift: A `Tensor` containing the value by which to shift the data for\n",
      "      numerical stability, or `None` in which case the true mean of the data is\n",
      "      used as shift. A shift close to the true mean provides the most\n",
      "      numerically stable results.\n",
      "    name: Name used to scope the operations that compute the moments.\n",
      "    keep_dims: produce moments with the same dimensionality as the input.\n",
      "\n",
      "  Returns:\n",
      "    Two `Tensor` objects: `mean` and `variance`.\n",
      "  \n"
     ]
    }
   ],
   "source": [
    "print(tf.nn.moments.__doc__)"
   ]
  },
  {
   "cell_type": "code",
   "execution_count": 3,
   "metadata": {
    "collapsed": true
   },
   "outputs": [],
   "source": [
    "np.random.seed(3690)\n",
    "x = np.array([2, 1, 3]) + np.random.randn(1000, 3) * np.array([0.1, 0.2, 0.3])**0.5"
   ]
  },
  {
   "cell_type": "code",
   "execution_count": 4,
   "metadata": {
    "collapsed": true
   },
   "outputs": [],
   "source": [
    "tf.reset_default_graph()\n",
    "tf_x = tf.constant(x, dtype=tf.float32)\n",
    "tf_mean_x, tf_var_x = tf.nn.moments(tf_x, axes=[0])"
   ]
  },
  {
   "cell_type": "code",
   "execution_count": 5,
   "metadata": {},
   "outputs": [
    {
     "name": "stdout",
     "output_type": "stream",
     "text": [
      "[ 1.99636817  1.00153494  2.99412394]\n",
      "[ 0.09083118  0.20294368  0.32398024]\n"
     ]
    }
   ],
   "source": [
    "with tf.Session() as sess:\n",
    "    tf.global_variables_initializer()\n",
    "    mean_x, var_x = sess.run([tf_mean_x, tf_var_x])\n",
    "    print(mean_x) # close to 2, 1, 3\n",
    "    print(var_x)  # close to 0.1, 0.2, 0.3"
   ]
  },
  {
   "cell_type": "code",
   "execution_count": null,
   "metadata": {
    "collapsed": true
   },
   "outputs": [],
   "source": []
  }
 ],
 "metadata": {
  "kernelspec": {
   "display_name": "Python 3",
   "language": "python",
   "name": "python3"
  },
  "language_info": {
   "codemirror_mode": {
    "name": "ipython",
    "version": 3
   },
   "file_extension": ".py",
   "mimetype": "text/x-python",
   "name": "python",
   "nbconvert_exporter": "python",
   "pygments_lexer": "ipython3",
   "version": "3.6.1"
  }
 },
 "nbformat": 4,
 "nbformat_minor": 2
}
